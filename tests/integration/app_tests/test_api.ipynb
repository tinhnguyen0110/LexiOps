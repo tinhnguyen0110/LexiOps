{
 "cells": [
  {
   "cell_type": "markdown",
   "id": "5ece23f9",
   "metadata": {},
   "source": [
    "# 🔧 API Testing Notebook - UPDATED for PORT 8000\n",
    "\n",
    "## 📝 Endpoint Changes Summary:\n",
    "- **Server Port**: Changed from `8000` to `8000`\n",
    "- **Chat Endpoint**: `api/chat/send` → `api/legal-chat/send-query`\n",
    "- **Query Analysis**: Merged into `api/legal-chat/send-query`\n",
    "- **RAG Endpoints**: Updated to port `8000`\n",
    "- **Payload Structure**: Updated to match new API requirements\n",
    "\n",
    "## ✅ Current Working Endpoints:\n",
    "- `/health` - Health check\n",
    "- `/ready` - Readiness check  \n",
    "- `/api/status/worker` - Celery worker status\n",
    "- `/api/legal-chat/send-query` - Main chat endpoint\n",
    "- `/api/rag/retrieve` - Document retrieval\n",
    "- `/api/rag/web_search` - Web search\n",
    "\n",
    "---"
   ]
  },
  {
   "cell_type": "code",
   "execution_count": 1,
   "id": "a5d19a6c",
   "metadata": {},
   "outputs": [
    {
     "name": "stdout",
     "output_type": "stream",
     "text": [
      "🔍 Testing Main Endpoints...\n",
      "----------------------------------------\n",
      "✅ Health Check: 200\n",
      "✅ Ready Check: 200\n",
      "✅ Worker Status: 200\n",
      "✅ Legal Chat: 422\n",
      "   ⚠️ Status: 422\n",
      "✅ RAG Retrieve: 200\n",
      "   📋 Task ID: 03c9e39b...\n",
      "✅ Web Search: 200\n",
      "   📋 Task ID: 28d5cb24...\n",
      "----------------------------------------\n",
      "🏁 Quick test completed!\n"
     ]
    }
   ],
   "source": [
    "# 🚀 Quick Test All Main Endpoints\n",
    "import requests\n",
    "\n",
    "base_url = \"http://localhost:8000\"\n",
    "\n",
    "def test_endpoint(name, method, url, payload=None):\n",
    "    try:\n",
    "        if method == \"GET\":\n",
    "            response = requests.get(url, timeout=10)\n",
    "        else:\n",
    "            response = requests.post(url, json=payload, timeout=10)\n",
    "        \n",
    "        print(f\"✅ {name}: {response.status_code}\")\n",
    "        if response.status_code == 200:\n",
    "            result = response.json()\n",
    "            if isinstance(result, dict) and 'task_id' in result:\n",
    "                print(f\"   📋 Task ID: {result['task_id'][:8]}...\")\n",
    "        else:\n",
    "            print(f\"   ⚠️ Status: {response.status_code}\")\n",
    "    except Exception as e:\n",
    "        print(f\"❌ {name}: Error - {str(e)}\")\n",
    "\n",
    "print(\"🔍 Testing Main Endpoints...\")\n",
    "print(\"-\" * 40)\n",
    "\n",
    "# Health endpoints\n",
    "test_endpoint(\"Health Check\", \"GET\", f\"{base_url}/health\")\n",
    "test_endpoint(\"Ready Check\", \"GET\", f\"{base_url}/ready\")\n",
    "test_endpoint(\"Worker Status\", \"GET\", f\"{base_url}/api/status/worker\")\n",
    "\n",
    "# Main API endpoints\n",
    "test_endpoint(\"Legal Chat\", \"POST\", f\"{base_url}/api/legal-chat/send-query\", {\n",
    "    \"user_id\": \"test_user\",\n",
    "    \"query\": \"Luật giao thông\",\n",
    "    \"conversation_id\": \"test_conv\"\n",
    "})\n",
    "\n",
    "test_endpoint(\"RAG Retrieve\", \"POST\", f\"{base_url}/api/rag/retrieve\", {\n",
    "    \"query\": \"luật hôn nhân\"\n",
    "})\n",
    "\n",
    "test_endpoint(\"Web Search\", \"POST\", f\"{base_url}/api/rag/web_search\", {\n",
    "    \"query\": \"luật lao động\"\n",
    "})\n",
    "\n",
    "print(\"-\" * 40)\n",
    "print(\"🏁 Quick test completed!\")"
   ]
  },
  {
   "cell_type": "markdown",
   "id": "f77ddd70",
   "metadata": {},
   "source": [
    "# Test api send"
   ]
  },
  {
   "cell_type": "code",
   "execution_count": 9,
   "id": "0f0e8c54",
   "metadata": {},
   "outputs": [
    {
     "name": "stdout",
     "output_type": "stream",
     "text": [
      "Status Code: 200\n",
      "Response JSON: {'conversation_id': 'test_api', 'status': 'processing', 'message': 'Đang phân tích câu hỏi pháp luật của bạn...', 'estimated_time': '30-60 giây'}\n"
     ]
    }
   ],
   "source": [
    "import requests\n",
    "\n",
    "# UPDATED ENDPOINT - Using port 8000 and new legal-chat endpoint\n",
    "url = \"http://localhost:8000/api/legal-chat/send-query\"\n",
    "\n",
    "# OLD ENDPOINT (commented out)\n",
    "# url = \"http://localhost:8000/api/chat/send\"\n",
    "\n",
    "payload = {\n",
    "    \"user_id\": \"tinh123\",\n",
    "    \"message\": \"Tôi muốn tìm hiểu về luật hôn nhân và gia đình\",\n",
    "    \"conversation_id\": \"test_api\"\n",
    "}\n",
    "\n",
    "headers = {\n",
    "    \"Content-Type\": \"application/json\"\n",
    "}\n",
    "\n",
    "response = requests.post(url, json=payload, headers=headers, timeout=30)\n",
    "\n",
    "print(\"Status Code:\", response.status_code)\n",
    "print(\"Response JSON:\", response.json())"
   ]
  },
  {
   "cell_type": "markdown",
   "id": "4514fe84",
   "metadata": {},
   "source": [
    "# Test api retrieve"
   ]
  },
  {
   "cell_type": "code",
   "execution_count": 29,
   "id": "fd73a871",
   "metadata": {},
   "outputs": [
    {
     "name": "stdout",
     "output_type": "stream",
     "text": [
      "Kết quả truy xuất:\n",
      "{'message': 'Retrieval task started', 'task_id': 'e4778be7-b8f5-405f-91f9-f8868d843ea9'}\n"
     ]
    }
   ],
   "source": [
    "import requests\n",
    "import time\n",
    "import redis\n",
    "\n",
    "# UPDATED ENDPOINT - Using port 8000 \n",
    "url = \"http://localhost:8000/api/rag/retrieve\"\n",
    "\n",
    "# OLD ENDPOINT (commented out)\n",
    "# url = \"http://localhost:8000/api/rag/retrieve\"\n",
    "\n",
    "payload = {\n",
    "    \"query\": \"trốn nghĩa vụ quân sự\",\n",
    "}\n",
    "\n",
    "headers = {\n",
    "    \"Content-Type\": \"application/json\"\n",
    "}\n",
    "\n",
    "response = requests.post(url, json=payload, headers=headers)\n",
    "\n",
    "if response.status_code == 200:\n",
    "    data = response.json()\n",
    "    print(\"Kết quả truy xuất:\")\n",
    "    print(data)\n",
    "else:\n",
    "    print(f\"Lỗi khi gọi API: {response.status_code} - {response.text}\")"
   ]
  },
  {
   "cell_type": "code",
   "execution_count": 23,
   "id": "173e1961",
   "metadata": {},
   "outputs": [],
   "source": [
    "time.sleep(3) # chờ xử lý chunks"
   ]
  },
  {
   "cell_type": "code",
   "execution_count": 9,
   "id": "8f719e69",
   "metadata": {},
   "outputs": [],
   "source": [
    "import json\n",
    "import redis"
   ]
  },
  {
   "cell_type": "code",
   "execution_count": null,
   "id": "878b3ae2",
   "metadata": {},
   "outputs": [],
   "source": [
    "host = \"localhost:6379\"\n",
    "redis_client = redis.from_url(\"redis://{}/2\".format(host))\n",
    "raw_chunks = redis_client.lrange(\"retrieval_processed_chunks\", 0, 10)\n",
    "chunks = [json.loads(chunk) for chunk in raw_chunks]\n",
    "chunks"
   ]
  },
  {
   "cell_type": "markdown",
   "id": "84da3216",
   "metadata": {},
   "source": [
    "# test api query analyze"
   ]
  },
  {
   "cell_type": "code",
   "execution_count": 37,
   "id": "f4f1a87f",
   "metadata": {},
   "outputs": [
    {
     "name": "stdout",
     "output_type": "stream",
     "text": [
      "Kết quả truy xuất:\n",
      "{'analysis': {'rewritten_query': 'luật hôn nhân và gia đình', 'query_type': 'single', 'reasoning': 'Câu hỏi liên quan đến luật hôn nhân và gia đình cần cập nhật thông tin mới nhất từ internet và dữ liệu pháp luật.'}, 'actions': [{'tool': 'web_search', 'input': 'luật hôn nhân và gia đình Việt Nam 2025', 'reason': 'Thông tin cần tham khảo thêm để cập nhật mới nhất.'}, {'tool': 'laws_retrieval', 'input': 'luật hôn nhân và gia đình', 'reason': 'Thông tin có thể tìm thấy trong kho dữ liệu pháp luật.'}], 'final_answer': 'Luật hôn nhân và gia đình quy định về các vấn đề liên quan đến hôn nhân, ly hôn, quyền và nghĩa vụ của các bên trong gia đình, cũng như các quy định pháp lý liên quan.'}\n"
     ]
    }
   ],
   "source": [
    "import requests\n",
    "\n",
    "# UPDATED ENDPOINT - Using port 8000 and new legal-chat structure\n",
    "url = \"http://localhost:8000/api/legal-chat/analyze-legal-query\"\n",
    "\n",
    "# OLD ENDPOINT (commented out)\n",
    "# url = \"http://localhost:8000/api/chat/query/analyze\"\n",
    "\n",
    "payload = {\n",
    "    \"conversation_id\": \"6896ffe02304b4bdd7042847\",\n",
    "    \"user_id\": \"tinh123\",\n",
    "    \"query\": \"thông tin về luật hôn nhân và gia đình\"\n",
    "}\n",
    "\n",
    "headers = {\n",
    "    \"Content-Type\": \"application/json\"\n",
    "}\n",
    "\n",
    "response = requests.post(url, json=payload, headers=headers)\n",
    "\n",
    "if response.status_code == 200:\n",
    "    data = response.json()\n",
    "    print(\"Kết quả truy xuất:\")\n",
    "    print(data)\n",
    "else:\n",
    "    print(f\"Lỗi khi gọi API: {response.status_code} - {response.text}\")"
   ]
  },
  {
   "cell_type": "markdown",
   "id": "0842687a",
   "metadata": {},
   "source": [
    "# test api generate_response"
   ]
  },
  {
   "cell_type": "code",
   "execution_count": 13,
   "id": "d7e3c66f",
   "metadata": {},
   "outputs": [],
   "source": [
    "import requests\n",
    "import time\n",
    "import httpx\n",
    "import json\n",
    "\n",
    "def listen_legal_response(conversation_id):\n",
    "    # ✅ Sửa endpoint: conversation_id là query parameter, không phải path parameter\n",
    "    url = f\"http://localhost:8000/api/legal-chat/stream-legal-response?conversation_id={conversation_id}\"\n",
    "\n",
    "    with httpx.stream(\"GET\", url, timeout=None) as response:\n",
    "        if response.status_code != 200:\n",
    "            print(\"Error:\", response.status_code, response.text)\n",
    "            return\n",
    "\n",
    "        for chunk in response.iter_text():\n",
    "            if not chunk:\n",
    "                continue\n",
    "\n",
    "            # Nếu server gửi [DONE] thì dừng\n",
    "            if chunk.strip() == \"[DONE]\":\n",
    "                print(\"\\n[Completed]\")\n",
    "                break\n",
    "\n",
    "            if chunk.startswith(\"[ERROR]\"):\n",
    "                print(\"\\n[Error]\", chunk)\n",
    "                break\n",
    "\n",
    "            # In trực tiếp token mới\n",
    "            print(chunk, end=\"\", flush=True)"
   ]
  },
  {
   "cell_type": "code",
   "execution_count": 14,
   "id": "58c310b8",
   "metadata": {},
   "outputs": [
    {
     "name": "stdout",
     "output_type": "stream",
     "text": [
      "### Phân tích và tư vấn pháp luật về trốn nghĩa vụ quân sự\n",
      "\n",
      "#### 1. Các quy định pháp luật hiện hành\n",
      "\n",
      "Theo **Bộ luật Hình sự năm 2015** (sửa đổi, bổ sung năm 2017), hành vi trốn nghĩa vụ quân sự được quy định tại **Điều 332**. Cụ thể:\n",
      "\n",
      "- **Hành vi trốn nghĩa vụ quân sự**: Là hành vi không thực hiện nghĩa vụ quân sự khi đã được triệu tập hoặc có nghĩa vụ tham gia quân đội.\n",
      "- **Hình phạt**: Người nào trốn nghĩa vụ quân sự có thể bị xử lý bằng các hình thức như:\n",
      "  - Phạt tiền.\n",
      "  - Cải tạo không giam giữ.\n",
      "  - Phạt tù từ 6 tháng đến 3 năm, tùy thuộc vào mức độ vi phạm và các tình tiết giảm nhẹ hoặc tăng nặng.\n",
      "\n",
      "Ngoài ra, **Luật Nghĩa vụ quân sự** năm 2015 cũng quy định rõ quyền và nghĩa vụ của công dân trong việc thực hiện nghĩa vụ quân sự, bao gồm cả các trường hợp được hoãn hoặc miễn nghĩa vụ. Các trường hợp hoãn hoặc miễn nghĩa vụ quân sự được quy định cụ thể, nhằm tạo điều kiện cho những công dân có lý do chính đáng.\n",
      "\n",
      "#### 2. Thông tin cập nhật từ web\n",
      "\n",
      "Trong những năm gần đây, Chính phủ và Bộ Quốc phòng đã thực hiện nhiều biện pháp nhằm tăng cường công tác tuyển quân, bao gồm việc tuyên truyền nâng cao nhận thức của người dân về nghĩa vụ quân sự. Đặc biệt, trong bối cảnh dịch bệnh COVID-19, một số quy định về nghĩa vụ quân sự đã được điều chỉnh để đảm bảo an toàn cho người dân, nhưng vẫn yêu cầu thực hiện nghĩa vụ quân sự theo đúng quy định.\n",
      "\n",
      "Việc trốn nghĩa vụ quân sự không chỉ là hành vi vi phạm pháp luật mà còn có thể ảnh hưởng đến quyền lợi của cá nhân trong tương lai, như việc xin việc làm, tham gia các hoạt động xã hội, v.v. Các cơ quan chức năng cũng thường xuyên nhấn mạnh rằng việc thực hiện nghĩa vụ quân sự là trách nhiệm của mỗi công dân.\n",
      "\n",
      "#### 3. Bối cảnh cuộc hội thoại\n",
      "\n",
      "Nếu bạn hoặc người thân đang gặp khó khăn trong việc thực hiện nghĩa vụ quân sự, có thể xem xét các lý do hợp pháp để xin hoãn hoặc miễn nghĩa vụ quân sự. Một số lý do hợp pháp bao gồm:\n",
      "\n",
      "- **Đang học tập tại các cơ sở giáo dục**: Nếu bạn đang theo học tại các trường đại học, cao đẳng, có thể làm đơn xin hoãn nghĩa vụ quân sự.\n",
      "- **Có lý do sức khỏe không đủ điều kiện tham gia**: Cần có giấy xác nhận của cơ sở y tế về tình trạng sức khỏe.\n",
      "- **Có hoàn cảnh gia đình khó khăn**: Nếu bạn là trụ cột gia đình hoặc có người thân cần chăm sóc, có thể xin miễn nghĩa vụ quân sự.\n",
      "\n",
      "Để thực hiện việc này, bạn cần chuẩn bị hồ sơ và làm đơn xin hoãn hoặc miễn nghĩa vụ quân sự gửi đến cơ quan quân sự địa phương. Hồ sơ thường bao gồm:\n",
      "\n",
      "- Đơn xin hoãn hoặc miễn nghĩa vụ quân sự.\n",
      "- Giấy tờ chứng minh lý do xin hoãn hoặc miễn (giấy xác nhận học tập, giấy khám sức khỏe, giấy tờ chứng minh hoàn cảnh gia đình, v.v.).\n",
      "\n",
      "### Kết luận\n",
      "\n",
      "Trốn nghĩa vụ quân sự là hành vi vi phạm pháp luật và có thể bị xử lý hình sự. Nếu bạn đang gặp khó khăn trong việc thực hiện nghĩa vụ này, hãy tìm hiểu kỹ các quy định và làm thủ tục xin hoãn hoặc miễn nghĩa vụ quân sự theo đúng quy định của pháp luật. Nếu cần thiết, bạn có thể tìm đến các luật sư hoặc tổ chức tư vấn pháp luật để được hỗ trợ thêm. Việc thực hiện đúng nghĩa vụ quân sự không chỉ là trách nhiệm mà còn là quyền lợi của mỗi công dân.\n",
      "[Completed]\n"
     ]
    }
   ],
   "source": [
    "\n",
    "\n",
    "# UPDATED ENDPOINTS - Using port 8000\n",
    "url_retrieval = \"http://localhost:8000/api/rag/retrieve\"\n",
    "url_web_search = \"http://localhost:8000/api/rag/web_search\"\n",
    "url_generation = \"http://localhost:8000/api/legal-chat/generate-legal-response\"\n",
    "\n",
    "# OLD ENDPOINTS (commented out)\n",
    "# url_retrieval = \"http://localhost:8000/api/rag/retrieve\"\n",
    "# url_web_search = \"http://localhost:8000/api/rag/web_search\"\n",
    "# url_generation = \"http://localhost:8000/api/chat/generate_response\"\n",
    "\n",
    "payload = {\n",
    "    \"query\": \"trốn nghĩa vụ quân sự\",\n",
    "}\n",
    "\n",
    "headers = {\n",
    "    \"Content-Type\": \"application/json\"\n",
    "}\n",
    "\n",
    "start_time = time.time()\n",
    "# response = requests.post(url_retrieval, json=payload, headers=headers)\n",
    "# print(\"Retrieval Response:\", response.json(), \"Time taken:\", time.time() - start_time)\n",
    "\n",
    "payload = {\"query\": \"thông tin về trốn nghĩa vụ quân sự\"}\n",
    "# response = requests.post(url_web_search, json=payload, headers=headers)\n",
    "# print(\"Web Search Response:\", response.json(), \"Time taken:\", time.time() - start_time)\n",
    "\n",
    "# Updated payload structure for new legal-chat endpoint\n",
    "\n",
    "\n",
    "payload = {\n",
    "    \"conversation_id\": \"e74937ce-084e-49fd-aeb9-ed47a6fe9a4f\",\n",
    "    \"user_id\": \"tinh123\",\n",
    "    \"rewrite_query\": \"trốn nghĩa vụ quân sự\",\n",
    "    \"use_web_search\": True,\n",
    "    \"use_retrieval\": False\n",
    "}\n",
    "url_generation = \"http://localhost:8000/api/legal-chat/generate-legal-response\"\n",
    "response = requests.post(url_generation, json=payload, headers=headers)\n",
    "# print(\"Generation Response:\", response.json(), \"Time taken:\", time.time() - start_time)\n",
    "# listen_legal_response(\"e74937ce-084e-49fd-aeb9-ed47a6fe9a4f\")\n",
    "response.json()  # Return the response JSON for further processing or testing\n",
    "listen_legal_response(\"e74937ce-084e-49fd-aeb9-ed47a6fe9a4f\")"
   ]
  },
  {
   "cell_type": "code",
   "execution_count": 44,
   "id": "c34c6a30",
   "metadata": {},
   "outputs": [
    {
     "name": "stdout",
     "output_type": "stream",
     "text": [
      "2025-08-14 16:39:54,463 - app.celery_config - INFO - 🔄 Celery configured with broker: redis://localhost:6379/0\n",
      "2025-08-14 16:39:54,464 - app.celery_config - INFO - 📊 Task queues: ['rag_queue', 'embed_queue', 'retrival_queue', 'link_extract_queue']\n",
      "2025-08-14 16:39:55,192 - app.config.database - INFO - Connecting to MongoDB: mongodb://localhost:27017\n",
      "2025-08-14 16:39:55,206 - app.config.database - INFO - Connecting to async MongoDB: mongodb://localhost:27017\n",
      "2025-08-14 16:39:55,208 - app.config.database - INFO - Connecting to Redis DB 0: redis://localhost:6379/0\n",
      "2025-08-14 16:39:55,210 - app.config.database - INFO - Connecting to Redis DB 1: redis://localhost:6379/1\n",
      "2025-08-14 16:39:55,211 - app.config.database - INFO - Connecting to Redis DB 2: redis://localhost:6379/2\n",
      "2025-08-14 16:39:55,211 - app.config.database - INFO - Connecting to Qdrant: http://localhost:6333\n",
      "2025-08-14 16:39:55,575 - httpx - INFO - HTTP Request: GET http://localhost:6333 \"HTTP/1.1 200 OK\"\n"
     ]
    },
    {
     "name": "stderr",
     "output_type": "stream",
     "text": [
      "c:\\Users\\Admin\\miniconda3\\envs\\crypto_agent\\Lib\\site-packages\\tqdm\\auto.py:21: TqdmWarning: IProgress not found. Please update jupyter and ipywidgets. See https://ipywidgets.readthedocs.io/en/stable/user_install.html\n",
      "  from .autonotebook import tqdm as notebook_tqdm\n"
     ]
    },
    {
     "name": "stdout",
     "output_type": "stream",
     "text": [
      "2025-08-14 16:40:00,551 - datasets - INFO - PyTorch version 2.7.1 available.\n"
     ]
    },
    {
     "name": "stderr",
     "output_type": "stream",
     "text": [
      "Fetching 30 files: 100%|██████████| 30/30 [00:00<?, ?it/s]\n"
     ]
    },
    {
     "name": "stdout",
     "output_type": "stream",
     "text": [
      "2025-08-14 16:40:03,883 - FlagEmbedding.finetune.embedder.encoder_only.m3.runner - INFO - loading existing colbert_linear and sparse_linear---------\n",
      "2025-08-14 16:40:03,890 - httpx - INFO - HTTP Request: GET http://localhost:6333/collections/chat_questions/exists \"HTTP/1.1 200 OK\"\n",
      "2025-08-14 16:40:03,915 - httpx - INFO - HTTP Request: GET http://localhost:6333/collections/law_corpus_bge_v3/exists \"HTTP/1.1 200 OK\"\n",
      "2025-08-14 16:40:04,460 - httpx - INFO - HTTP Request: GET http://localhost:6333 \"HTTP/1.1 200 OK\"\n",
      "{\"timestamp\": \"2025-08-14T09:40:05.547930Z\", \"level\": \"INFO\", \"logger\": \"application\", \"message\": \"FastAPI application started\", \"module\": \"logging_config\", \"function\": \"info\", \"line\": 136}\n"
     ]
    }
   ],
   "source": [
    "import sys\n",
    "sys.path.append(\"D:/Data/Legal-Retrieval/src\")\n",
    "from app.config.database import messages_col, redis_client_web, redis_client_retrieval\n"
   ]
  },
  {
   "cell_type": "code",
   "execution_count": null,
   "id": "2eed56d1",
   "metadata": {},
   "outputs": [
    {
     "data": {
      "text/plain": [
       "<redis.client.Redis(<redis.connection.ConnectionPool(<redis.connection.Connection(host=localhost,port=6379,db=2)>)>)>"
      ]
     },
     "execution_count": 46,
     "metadata": {},
     "output_type": "execute_result"
    }
   ],
   "source": [
    "redis_client_retrieval"
   ]
  },
  {
   "cell_type": "markdown",
   "id": "433fef6c",
   "metadata": {},
   "source": [
    "# Test celery"
   ]
  },
  {
   "cell_type": "code",
   "execution_count": 5,
   "id": "48ffea1d",
   "metadata": {},
   "outputs": [
    {
     "name": "stdout",
     "output_type": "stream",
     "text": [
      "Đã gửi task vào queue 'embedding_queue'. Task ID: 3378dd5b-8bb8-43c4-911f-6fae321304b0\n"
     ]
    }
   ],
   "source": [
    "import sys\n",
    "import os\n",
    "sys.path.append(os.path.abspath(\"../../legal-retrieval\"))\n",
    "\n",
    "from tasks_embedding import process_and_embed_url\n",
    "\n",
    "task_result = process_and_embed_url.apply_async(\n",
    "    args=[\"https://example.com\"],\n",
    "    queue='embedding_queue'\n",
    ")\n",
    "\n",
    "print(f\"Đã gửi task vào queue 'embedding_queue'. Task ID: {task_result.id}\")"
   ]
  },
  {
   "cell_type": "markdown",
   "id": "0eb08815",
   "metadata": {},
   "source": [
    "# Test api web_search\n"
   ]
  },
  {
   "cell_type": "code",
   "execution_count": null,
   "id": "c2d5934a",
   "metadata": {},
   "outputs": [],
   "source": [
    "# import sys\n",
    "# import os\n",
    "# sys.path.append(os.path.abspath(\"../../\"))\n",
    "import requests\n",
    "# from app.config import api_client"
   ]
  },
  {
   "cell_type": "code",
   "execution_count": 30,
   "id": "36b354be",
   "metadata": {},
   "outputs": [
    {
     "name": "stdout",
     "output_type": "stream",
     "text": [
      "Kết quả truy xuất:\n",
      "{'task_id': '8a78a5af-68ea-4950-a237-1269c6a00aa9', 'message': 'Link extraction task started successfully.'}\n"
     ]
    }
   ],
   "source": [
    "\n",
    "# UPDATED ENDPOINT - Using port 8000\n",
    "url = \"http://localhost:8000/api/rag/web_search\"\n",
    "\n",
    "# OLD ENDPOINT (commented out)\n",
    "# url = \"http://localhost:8000/api/rag/web_search_v2\"\n",
    "\n",
    "payload = {\n",
    "    \"query\": \"thông tin về luật nghĩa vụ quân sự\",\n",
    "}\n",
    "\n",
    "headers = {\n",
    "    \"Content-Type\": \"application/json\"\n",
    "}\n",
    "\n",
    "response = requests.post(url, json=payload, headers=headers)\n",
    "\n",
    "if response.status_code == 200:\n",
    "    data = response.json()\n",
    "    print(\"Kết quả truy xuất:\")\n",
    "    print(data)\n",
    "else:\n",
    "    print(f\"Lỗi khi gọi API: {response.status_code} - {response.text}\")"
   ]
  },
  {
   "cell_type": "code",
   "execution_count": 72,
   "id": "68c78464",
   "metadata": {},
   "outputs": [
    {
     "name": "stdout",
     "output_type": "stream",
     "text": [
      "0.0015077590942382812\n"
     ]
    }
   ],
   "source": [
    "import time\n",
    "import sys\n",
    "sys.path.append(\"D:/Data/Legal-Retrieval\")\n",
    "start_time = time.time()\n",
    "from app.web_search.extraction_service import extraction_service\n",
    "print(time.time() - start_time)"
   ]
  },
  {
   "cell_type": "code",
   "execution_count": null,
   "id": "f060122d",
   "metadata": {},
   "outputs": [],
   "source": []
  },
  {
   "cell_type": "markdown",
   "id": "8f0d502b",
   "metadata": {},
   "source": [
    "# linh tinh"
   ]
  },
  {
   "cell_type": "code",
   "execution_count": 5,
   "id": "015647c9",
   "metadata": {},
   "outputs": [],
   "source": [
    "from dotenv import load_dotenv\n",
    "import os\n",
    "from openai import OpenAI\n",
    "load_dotenv()\n",
    "client = OpenAI(api_key=os.getenv(\"OPENAI_API_KEY\"))\n",
    "import openai\n",
    "import json\n",
    "from typing import Dict, Any\n",
    "\n",
    "def analyze_user_query(query: str, model: str = \"gpt-4\") -> Dict[str, Any]:\n",
    "    \"\"\"\n",
    "    Phân tích truy vấn người dùng và trả về các sub-query đã phân loại theo JSON format.\n",
    "    \"\"\"\n",
    "    prompt = PROMPT_TEMPLATE.format(query=query.strip())\n",
    "    try:\n",
    "        response = client.chat.completions.create(\n",
    "            model=model,\n",
    "            messages=[{\"role\": \"user\", \"content\": prompt}],\n",
    "            temperature=0.1,\n",
    "            stream=True\n",
    "        )\n",
    "        content = response.choices[0].message.content.strip()\n",
    "\n",
    "        # Làm sạch JSON\n",
    "        # json_clean = clean_json_from_response(content)\n",
    "        # result = json.loads(json_clean)\n",
    "        return response\n",
    "\n",
    "    except Exception as e:\n",
    "        return {\n",
    "            \"error\": str(e),\n",
    "            \"raw_response\": content if 'content' in locals() else None\n",
    "        }\n",
    "    "
   ]
  },
  {
   "cell_type": "code",
   "execution_count": 33,
   "id": "43f048f0",
   "metadata": {},
   "outputs": [
    {
     "name": "stdout",
     "output_type": "stream",
     "text": [
      "{'rewrite_query': 'GPT-4 có giỏi suy luận không và so với Claude 3 thì mô hình nào tốt hơn? Nên dùng API nào rẻ hơn?', 'use_web_search': True, 'rephrased_query': 'So sánh khả năng suy luận của GPT-4 và Claude 3. API nào rẻ hơn để sử dụng với các mô hình này?'}\n"
     ]
    }
   ],
   "source": [
    "user_input = \"Mình đang muốn tìm hiểu về GPT-4 có giỏi suy luận không, với lại Claude 3 cũng được khen nhiều. Mô hình nào tốt hơn? À mà không biết có nên dùng API nào rẻ hơn nữa? dae ckse duien heh\"\n",
    "output = analyze_user_query(user_input)\n",
    "print(output)"
   ]
  },
  {
   "cell_type": "code",
   "execution_count": null,
   "id": "41b9de91",
   "metadata": {},
   "outputs": [
    {
     "name": "stdout",
     "output_type": "stream",
     "text": [
      "Testing streaming response from chat API...\n",
      "Thought: Người dùng yêu cầu giải thích về \"LLM\" (Large Language Model). Tôi cần xác định rõ \"LLM\" là gì và cung cấp một giải thích rõ ràng, dễ hiểu. Vì đây là kiến thức chung, tôi có thể dựa trên kiến thức đã học để trả lời mà không cần dùng web_search.\n",
      "\n",
      "Action: Bỏ qua web_search, vì tôi đã có kiến thức về \"LLM\".\n",
      "\n",
      "Final Answer: LLM (Large Language Model) là một loại mô hình trí tuệ nhân tạo được huấn luyện trên lượng dữ liệu văn bản lớn để hiểu và sinh ra ngôn ngữ tự nhiên. Các mô hình này có khả năng thực hiện nhiều nhiệm vụ liên quan đến ngôn ngữ như dịch thuật, trả lời câu hỏi, viết văn, và phân tích cảm xúc. Một số ví dụ nổi bật của LLM bao gồm GPT của OpenAI, BERT của Google, và T5."
     ]
    }
   ],
   "source": [
    "import httpx\n",
    "\n",
    "print(\"Testing response from legal chat API...\")\n",
    "\n",
    "# UPDATED ENDPOINT - Using port 8000 and legal-chat\n",
    "# Note: Streaming may not be available, using regular request\n",
    "with httpx.Client(timeout=None) as client:\n",
    "    response = client.post(\n",
    "        \"http://localhost:8000/api/legal-chat/send-query\",\n",
    "        json={\n",
    "            \"user_id\": \"test_user\",\n",
    "            \"query\": \"Explain LLM trong ngữ cảnh luật pháp\",\n",
    "            \"conversation_id\": \"test_conversation\"\n",
    "        },\n",
    "    )\n",
    "    print(\"Response:\", response.json())\n",
    "\n",
    "# OLD STREAMING ENDPOINT (commented out)\n",
    "# with httpx.Client(timeout=None) as client:\n",
    "#     with client.stream(\n",
    "#         \"POST\",\n",
    "#         \"http://localhost:8000/api/chat/query/analyze\",\n",
    "#         json={\"query\": \"Explain LLM\"},\n",
    "#     ) as response:\n",
    "#         for chunk in response.iter_text():\n",
    "#             print(chunk, end=\"\", flush=True)"
   ]
  },
  {
   "cell_type": "code",
   "execution_count": null,
   "id": "fa0c8880",
   "metadata": {},
   "outputs": [],
   "source": []
  },
  {
   "cell_type": "code",
   "execution_count": null,
   "id": "a95b2b0b",
   "metadata": {},
   "outputs": [
    {
     "name": "stdout",
     "output_type": "stream",
     "text": [
      "Testing streaming response from chat API...\n"
     ]
    },
    {
     "ename": "AttributeError",
     "evalue": "'Response' object has no attribute 'iter_text'",
     "output_type": "error",
     "traceback": [
      "\u001b[31m---------------------------------------------------------------------------\u001b[39m",
      "\u001b[31mAttributeError\u001b[39m                            Traceback (most recent call last)",
      "\u001b[36mCell\u001b[39m\u001b[36m \u001b[39m\u001b[32mIn[13]\u001b[39m\u001b[32m, line 11\u001b[39m\n\u001b[32m      3\u001b[39m \u001b[38;5;28mprint\u001b[39m(\u001b[33m\"\u001b[39m\u001b[33mTesting streaming response from chat API...\u001b[39m\u001b[33m\"\u001b[39m)\n\u001b[32m      5\u001b[39m response = requests.post(\n\u001b[32m      6\u001b[39m     \u001b[33m\"\u001b[39m\u001b[33mhttp://localhost:8000/api/chat/query/analyze\u001b[39m\u001b[33m\"\u001b[39m,\n\u001b[32m      7\u001b[39m     json={\u001b[33m\"\u001b[39m\u001b[33mquery\u001b[39m\u001b[33m\"\u001b[39m: \u001b[33m\"\u001b[39m\u001b[33mExplain LLM\u001b[39m\u001b[33m\"\u001b[39m},\n\u001b[32m      8\u001b[39m     stream=\u001b[38;5;28;01mTrue\u001b[39;00m\n\u001b[32m      9\u001b[39m )\n\u001b[32m---> \u001b[39m\u001b[32m11\u001b[39m \u001b[38;5;28;01mfor\u001b[39;00m chunk \u001b[38;5;129;01min\u001b[39;00m \u001b[43mresponse\u001b[49m\u001b[43m.\u001b[49m\u001b[43miter_text\u001b[49m(chunk_size=\u001b[32m1\u001b[39m):\n\u001b[32m     12\u001b[39m     \u001b[38;5;28mprint\u001b[39m(chunk, end=\u001b[33m\"\u001b[39m\u001b[33m\"\u001b[39m, flush=\u001b[38;5;28;01mTrue\u001b[39;00m)\n",
      "\u001b[31mAttributeError\u001b[39m: 'Response' object has no attribute 'iter_text'"
     ]
    }
   ],
   "source": [
    "import requests\n",
    "\n",
    "print(\"Testing response from legal chat API...\")\n",
    "\n",
    "# UPDATED ENDPOINT - Using port 8000 and legal-chat\n",
    "response = requests.post(\n",
    "    \"http://localhost:8000/api/legal-chat/send-query\",\n",
    "    json={\n",
    "        \"user_id\": \"test_user\", \n",
    "        \"query\": \"Explain LLM trong ngữ cảnh luật pháp\",\n",
    "        \"conversation_id\": \"test_conversation\"\n",
    "    }\n",
    ")\n",
    "\n",
    "print(\"Response:\", response.json())\n",
    "\n",
    "# OLD STREAMING CODE (commented out)\n",
    "# response = requests.post(\n",
    "#     \"http://localhost:8000/api/chat/query/analyze\",\n",
    "#     json={\"query\": \"Explain LLM\"},\n",
    "#     stream=True\n",
    "# )\n",
    "# \n",
    "# for chunk in response.iter_text(chunk_size=1):\n",
    "#     print(chunk, end=\"\", flush=True)"
   ]
  },
  {
   "cell_type": "markdown",
   "id": "0c11aa29",
   "metadata": {},
   "source": [
    "# Test redis"
   ]
  },
  {
   "cell_type": "code",
   "execution_count": null,
   "id": "dabe13f9",
   "metadata": {},
   "outputs": [
    {
     "name": "stdout",
     "output_type": "stream",
     "text": [
      "✅ Found 119 processed chunks\n"
     ]
    }
   ],
   "source": [
    "import redis\n",
    "redis_client = redis.Redis(host='localhost', port=6379, db=, decode_responses=True)\n",
    "redis_key =     \"processed_chunks\"\n",
    "\n",
    "chunk_count = redis_client.llen(redis_key)\n",
    "\n",
    "if chunk_count > 0:\n",
    "    print(f\"✅ Found {chunk_count} processed chunks\")\n",
    "    chunks = redis_client.lrange(redis_key, 0, -1)\n",
    "    chunks = [json.loads(c) for c in chunks]\n",
    "else:\n",
    "    print(\"⛔ No chunks found for this task\")"
   ]
  },
  {
   "cell_type": "code",
   "execution_count": 48,
   "id": "fb75b9dd",
   "metadata": {},
   "outputs": [
    {
     "name": "stdout",
     "output_type": "stream",
     "text": [
      "✅ Found 20 processed chunks\n"
     ]
    }
   ],
   "source": [
    "import redis\n",
    "redis_client = redis.Redis(host='localhost', port=6379, db=2, decode_responses=True)\n",
    "redis_key = \"retrieval_chunks\"\n",
    "\n",
    "chunk_count = redis_client.llen(redis_key)\n",
    "\n",
    "if chunk_count > 0:\n",
    "    print(f\"✅ Found {chunk_count} processed chunks\")\n",
    "    chunks = redis_client.lrange(redis_key, 0, -1)\n",
    "    chunks = [json.loads(c) for c in chunks]\n",
    "else:\n",
    "    print(\"⛔ No chunks found for this task\")"
   ]
  },
  {
   "cell_type": "code",
   "execution_count": 50,
   "id": "5752c0c7",
   "metadata": {},
   "outputs": [
    {
     "data": {
      "text/plain": [
       "['retrieval_chunks']"
      ]
     },
     "execution_count": 50,
     "metadata": {},
     "output_type": "execute_result"
    }
   ],
   "source": [
    "redis_client_retrieval.keys()"
   ]
  },
  {
   "cell_type": "code",
   "execution_count": 51,
   "id": "387e196a",
   "metadata": {},
   "outputs": [
    {
     "ename": "ResponseError",
     "evalue": "WRONGTYPE Operation against a key holding the wrong kind of value",
     "output_type": "error",
     "traceback": [
      "\u001b[31m---------------------------------------------------------------------------\u001b[39m",
      "\u001b[31mResponseError\u001b[39m                             Traceback (most recent call last)",
      "\u001b[36mCell\u001b[39m\u001b[36m \u001b[39m\u001b[32mIn[51]\u001b[39m\u001b[32m, line 1\u001b[39m\n\u001b[32m----> \u001b[39m\u001b[32m1\u001b[39m \u001b[43mredis_client_retrieval\u001b[49m\u001b[43m.\u001b[49m\u001b[43mget\u001b[49m\u001b[43m(\u001b[49m\u001b[33;43m\"\u001b[39;49m\u001b[33;43mretrieval_chunks\u001b[39;49m\u001b[33;43m\"\u001b[39;49m\u001b[43m)\u001b[49m  \n",
      "\u001b[36mFile \u001b[39m\u001b[32mc:\\Users\\Admin\\miniconda3\\envs\\crypto_agent\\Lib\\site-packages\\redis\\commands\\core.py:1829\u001b[39m, in \u001b[36mBasicKeyCommands.get\u001b[39m\u001b[34m(self, name)\u001b[39m\n\u001b[32m   1823\u001b[39m \u001b[38;5;28;01mdef\u001b[39;00m\u001b[38;5;250m \u001b[39m\u001b[34mget\u001b[39m(\u001b[38;5;28mself\u001b[39m, name: KeyT) -> ResponseT:\n\u001b[32m   1824\u001b[39m \u001b[38;5;250m    \u001b[39m\u001b[33;03m\"\"\"\u001b[39;00m\n\u001b[32m   1825\u001b[39m \u001b[33;03m    Return the value at key ``name``, or None if the key doesn't exist\u001b[39;00m\n\u001b[32m   1826\u001b[39m \n\u001b[32m   1827\u001b[39m \u001b[33;03m    For more information see https://redis.io/commands/get\u001b[39;00m\n\u001b[32m   1828\u001b[39m \u001b[33;03m    \"\"\"\u001b[39;00m\n\u001b[32m-> \u001b[39m\u001b[32m1829\u001b[39m     \u001b[38;5;28;01mreturn\u001b[39;00m \u001b[38;5;28;43mself\u001b[39;49m\u001b[43m.\u001b[49m\u001b[43mexecute_command\u001b[49m\u001b[43m(\u001b[49m\u001b[33;43m\"\u001b[39;49m\u001b[33;43mGET\u001b[39;49m\u001b[33;43m\"\u001b[39;49m\u001b[43m,\u001b[49m\u001b[43m \u001b[49m\u001b[43mname\u001b[49m\u001b[43m,\u001b[49m\u001b[43m \u001b[49m\u001b[43mkeys\u001b[49m\u001b[43m=\u001b[49m\u001b[43m[\u001b[49m\u001b[43mname\u001b[49m\u001b[43m]\u001b[49m\u001b[43m)\u001b[49m\n",
      "\u001b[36mFile \u001b[39m\u001b[32mc:\\Users\\Admin\\miniconda3\\envs\\crypto_agent\\Lib\\site-packages\\redis\\client.py:623\u001b[39m, in \u001b[36mRedis.execute_command\u001b[39m\u001b[34m(self, *args, **options)\u001b[39m\n\u001b[32m    622\u001b[39m \u001b[38;5;28;01mdef\u001b[39;00m\u001b[38;5;250m \u001b[39m\u001b[34mexecute_command\u001b[39m(\u001b[38;5;28mself\u001b[39m, *args, **options):\n\u001b[32m--> \u001b[39m\u001b[32m623\u001b[39m     \u001b[38;5;28;01mreturn\u001b[39;00m \u001b[38;5;28;43mself\u001b[39;49m\u001b[43m.\u001b[49m\u001b[43m_execute_command\u001b[49m\u001b[43m(\u001b[49m\u001b[43m*\u001b[49m\u001b[43margs\u001b[49m\u001b[43m,\u001b[49m\u001b[43m \u001b[49m\u001b[43m*\u001b[49m\u001b[43m*\u001b[49m\u001b[43moptions\u001b[49m\u001b[43m)\u001b[49m\n",
      "\u001b[36mFile \u001b[39m\u001b[32mc:\\Users\\Admin\\miniconda3\\envs\\crypto_agent\\Lib\\site-packages\\redis\\client.py:634\u001b[39m, in \u001b[36mRedis._execute_command\u001b[39m\u001b[34m(self, *args, **options)\u001b[39m\n\u001b[32m    632\u001b[39m     \u001b[38;5;28mself\u001b[39m.single_connection_lock.acquire()\n\u001b[32m    633\u001b[39m \u001b[38;5;28;01mtry\u001b[39;00m:\n\u001b[32m--> \u001b[39m\u001b[32m634\u001b[39m     \u001b[38;5;28;01mreturn\u001b[39;00m \u001b[43mconn\u001b[49m\u001b[43m.\u001b[49m\u001b[43mretry\u001b[49m\u001b[43m.\u001b[49m\u001b[43mcall_with_retry\u001b[49m\u001b[43m(\u001b[49m\n\u001b[32m    635\u001b[39m \u001b[43m        \u001b[49m\u001b[38;5;28;43;01mlambda\u001b[39;49;00m\u001b[43m:\u001b[49m\u001b[43m \u001b[49m\u001b[38;5;28;43mself\u001b[39;49m\u001b[43m.\u001b[49m\u001b[43m_send_command_parse_response\u001b[49m\u001b[43m(\u001b[49m\n\u001b[32m    636\u001b[39m \u001b[43m            \u001b[49m\u001b[43mconn\u001b[49m\u001b[43m,\u001b[49m\u001b[43m \u001b[49m\u001b[43mcommand_name\u001b[49m\u001b[43m,\u001b[49m\u001b[43m \u001b[49m\u001b[43m*\u001b[49m\u001b[43margs\u001b[49m\u001b[43m,\u001b[49m\u001b[43m \u001b[49m\u001b[43m*\u001b[49m\u001b[43m*\u001b[49m\u001b[43moptions\u001b[49m\n\u001b[32m    637\u001b[39m \u001b[43m        \u001b[49m\u001b[43m)\u001b[49m\u001b[43m,\u001b[49m\n\u001b[32m    638\u001b[39m \u001b[43m        \u001b[49m\u001b[38;5;28;43;01mlambda\u001b[39;49;00m\u001b[43m \u001b[49m\u001b[43m_\u001b[49m\u001b[43m:\u001b[49m\u001b[43m \u001b[49m\u001b[38;5;28;43mself\u001b[39;49m\u001b[43m.\u001b[49m\u001b[43m_close_connection\u001b[49m\u001b[43m(\u001b[49m\u001b[43mconn\u001b[49m\u001b[43m)\u001b[49m\u001b[43m,\u001b[49m\n\u001b[32m    639\u001b[39m \u001b[43m    \u001b[49m\u001b[43m)\u001b[49m\n\u001b[32m    640\u001b[39m \u001b[38;5;28;01mfinally\u001b[39;00m:\n\u001b[32m    641\u001b[39m     \u001b[38;5;28;01mif\u001b[39;00m \u001b[38;5;28mself\u001b[39m._single_connection_client:\n",
      "\u001b[36mFile \u001b[39m\u001b[32mc:\\Users\\Admin\\miniconda3\\envs\\crypto_agent\\Lib\\site-packages\\redis\\retry.py:87\u001b[39m, in \u001b[36mRetry.call_with_retry\u001b[39m\u001b[34m(self, do, fail)\u001b[39m\n\u001b[32m     85\u001b[39m \u001b[38;5;28;01mwhile\u001b[39;00m \u001b[38;5;28;01mTrue\u001b[39;00m:\n\u001b[32m     86\u001b[39m     \u001b[38;5;28;01mtry\u001b[39;00m:\n\u001b[32m---> \u001b[39m\u001b[32m87\u001b[39m         \u001b[38;5;28;01mreturn\u001b[39;00m \u001b[43mdo\u001b[49m\u001b[43m(\u001b[49m\u001b[43m)\u001b[49m\n\u001b[32m     88\u001b[39m     \u001b[38;5;28;01mexcept\u001b[39;00m \u001b[38;5;28mself\u001b[39m._supported_errors \u001b[38;5;28;01mas\u001b[39;00m error:\n\u001b[32m     89\u001b[39m         failures += \u001b[32m1\u001b[39m\n",
      "\u001b[36mFile \u001b[39m\u001b[32mc:\\Users\\Admin\\miniconda3\\envs\\crypto_agent\\Lib\\site-packages\\redis\\client.py:635\u001b[39m, in \u001b[36mRedis._execute_command.<locals>.<lambda>\u001b[39m\u001b[34m()\u001b[39m\n\u001b[32m    632\u001b[39m     \u001b[38;5;28mself\u001b[39m.single_connection_lock.acquire()\n\u001b[32m    633\u001b[39m \u001b[38;5;28;01mtry\u001b[39;00m:\n\u001b[32m    634\u001b[39m     \u001b[38;5;28;01mreturn\u001b[39;00m conn.retry.call_with_retry(\n\u001b[32m--> \u001b[39m\u001b[32m635\u001b[39m         \u001b[38;5;28;01mlambda\u001b[39;00m: \u001b[38;5;28;43mself\u001b[39;49m\u001b[43m.\u001b[49m\u001b[43m_send_command_parse_response\u001b[49m\u001b[43m(\u001b[49m\n\u001b[32m    636\u001b[39m \u001b[43m            \u001b[49m\u001b[43mconn\u001b[49m\u001b[43m,\u001b[49m\u001b[43m \u001b[49m\u001b[43mcommand_name\u001b[49m\u001b[43m,\u001b[49m\u001b[43m \u001b[49m\u001b[43m*\u001b[49m\u001b[43margs\u001b[49m\u001b[43m,\u001b[49m\u001b[43m \u001b[49m\u001b[43m*\u001b[49m\u001b[43m*\u001b[49m\u001b[43moptions\u001b[49m\n\u001b[32m    637\u001b[39m \u001b[43m        \u001b[49m\u001b[43m)\u001b[49m,\n\u001b[32m    638\u001b[39m         \u001b[38;5;28;01mlambda\u001b[39;00m _: \u001b[38;5;28mself\u001b[39m._close_connection(conn),\n\u001b[32m    639\u001b[39m     )\n\u001b[32m    640\u001b[39m \u001b[38;5;28;01mfinally\u001b[39;00m:\n\u001b[32m    641\u001b[39m     \u001b[38;5;28;01mif\u001b[39;00m \u001b[38;5;28mself\u001b[39m._single_connection_client:\n",
      "\u001b[36mFile \u001b[39m\u001b[32mc:\\Users\\Admin\\miniconda3\\envs\\crypto_agent\\Lib\\site-packages\\redis\\client.py:606\u001b[39m, in \u001b[36mRedis._send_command_parse_response\u001b[39m\u001b[34m(self, conn, command_name, *args, **options)\u001b[39m\n\u001b[32m    602\u001b[39m \u001b[38;5;250m\u001b[39m\u001b[33;03m\"\"\"\u001b[39;00m\n\u001b[32m    603\u001b[39m \u001b[33;03mSend a command and parse the response\u001b[39;00m\n\u001b[32m    604\u001b[39m \u001b[33;03m\"\"\"\u001b[39;00m\n\u001b[32m    605\u001b[39m conn.send_command(*args, **options)\n\u001b[32m--> \u001b[39m\u001b[32m606\u001b[39m \u001b[38;5;28;01mreturn\u001b[39;00m \u001b[38;5;28;43mself\u001b[39;49m\u001b[43m.\u001b[49m\u001b[43mparse_response\u001b[49m\u001b[43m(\u001b[49m\u001b[43mconn\u001b[49m\u001b[43m,\u001b[49m\u001b[43m \u001b[49m\u001b[43mcommand_name\u001b[49m\u001b[43m,\u001b[49m\u001b[43m \u001b[49m\u001b[43m*\u001b[49m\u001b[43m*\u001b[49m\u001b[43moptions\u001b[49m\u001b[43m)\u001b[49m\n",
      "\u001b[36mFile \u001b[39m\u001b[32mc:\\Users\\Admin\\miniconda3\\envs\\crypto_agent\\Lib\\site-packages\\redis\\client.py:653\u001b[39m, in \u001b[36mRedis.parse_response\u001b[39m\u001b[34m(self, connection, command_name, **options)\u001b[39m\n\u001b[32m    651\u001b[39m         options.pop(NEVER_DECODE)\n\u001b[32m    652\u001b[39m     \u001b[38;5;28;01melse\u001b[39;00m:\n\u001b[32m--> \u001b[39m\u001b[32m653\u001b[39m         response = \u001b[43mconnection\u001b[49m\u001b[43m.\u001b[49m\u001b[43mread_response\u001b[49m\u001b[43m(\u001b[49m\u001b[43m)\u001b[49m\n\u001b[32m    654\u001b[39m \u001b[38;5;28;01mexcept\u001b[39;00m ResponseError:\n\u001b[32m    655\u001b[39m     \u001b[38;5;28;01mif\u001b[39;00m EMPTY_RESPONSE \u001b[38;5;129;01min\u001b[39;00m options:\n",
      "\u001b[36mFile \u001b[39m\u001b[32mc:\\Users\\Admin\\miniconda3\\envs\\crypto_agent\\Lib\\site-packages\\redis\\connection.py:666\u001b[39m, in \u001b[36mAbstractConnection.read_response\u001b[39m\u001b[34m(self, disable_decoding, disconnect_on_error, push_request)\u001b[39m\n\u001b[32m    664\u001b[39m \u001b[38;5;28;01mif\u001b[39;00m \u001b[38;5;28misinstance\u001b[39m(response, ResponseError):\n\u001b[32m    665\u001b[39m     \u001b[38;5;28;01mtry\u001b[39;00m:\n\u001b[32m--> \u001b[39m\u001b[32m666\u001b[39m         \u001b[38;5;28;01mraise\u001b[39;00m response\n\u001b[32m    667\u001b[39m     \u001b[38;5;28;01mfinally\u001b[39;00m:\n\u001b[32m    668\u001b[39m         \u001b[38;5;28;01mdel\u001b[39;00m response  \u001b[38;5;66;03m# avoid creating ref cycles\u001b[39;00m\n",
      "\u001b[31mResponseError\u001b[39m: WRONGTYPE Operation against a key holding the wrong kind of value"
     ]
    }
   ],
   "source": [
    "redis_client_retrieval.get(\"retrieval_chunks\")  "
   ]
  },
  {
   "cell_type": "code",
   "execution_count": null,
   "id": "d998a6a1",
   "metadata": {},
   "outputs": [
    {
     "data": {
      "text/plain": [
       "True"
      ]
     },
     "execution_count": 26,
     "metadata": {},
     "output_type": "execute_result"
    }
   ],
   "source": [
    "# import redis\n",
    "\n",
    "# redis_client = redis.Redis(host='localhost', port=6379)\n",
    "# redis_client.flushdb()  # Xóa toàn bộ dữ liệu trong Redis"
   ]
  }
 ],
 "metadata": {
  "kernelspec": {
   "display_name": "crypto_agent",
   "language": "python",
   "name": "python3"
  },
  "language_info": {
   "codemirror_mode": {
    "name": "ipython",
    "version": 3
   },
   "file_extension": ".py",
   "mimetype": "text/x-python",
   "name": "python",
   "nbconvert_exporter": "python",
   "pygments_lexer": "ipython3",
   "version": "3.12.11"
  }
 },
 "nbformat": 4,
 "nbformat_minor": 5
}
