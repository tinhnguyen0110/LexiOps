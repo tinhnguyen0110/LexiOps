{
 "cells": [
  {
   "cell_type": "code",
   "execution_count": 59,
   "id": "92cce2cd",
   "metadata": {},
   "outputs": [],
   "source": [
    "import warnings\n",
    "warnings.filterwarnings(\"ignore\", category=RuntimeWarning, message=\".*duckduckgo_search.*\")\n",
    "import os\n",
    "from langchain_openai import ChatOpenAI\n",
    "from langchain_community.tools import DuckDuckGoSearchRun\n",
    "from langchain.agents import AgentExecutor, create_react_agent\n",
    "from langchain_core.prompts import PromptTemplate\n",
    "from langchain_core.tools import Tool\n",
    "\n",
    "from dotenv import load_dotenv\n",
    "load_dotenv()\n",
    "os.environ[\"OPENAI_API_KEY\"] = os.getenv(\"OPENAI_API_KEY\")"
   ]
  },
  {
   "cell_type": "markdown",
   "id": "f737d969",
   "metadata": {},
   "source": [
    "# Test inference time"
   ]
  },
  {
   "cell_type": "code",
   "execution_count": 6,
   "id": "f416016d",
   "metadata": {},
   "outputs": [],
   "source": [
    "import time\n",
    "import pandas as pd\n",
    "from openai import OpenAI\n",
    "import os\n",
    "from dotenv import load_dotenv\n",
    "\n",
    "# Load API key\n",
    "load_dotenv()\n",
    "client = OpenAI(api_key=os.getenv(\"OPENAI_API_KEY\"))\n",
    "\n",
    "def read_prompt_from_file(file_path):\n",
    "    \"\"\"Đọc nội dung prompt từ file txt\"\"\"\n",
    "    with open(file_path, \"r\", encoding=\"utf-8\") as f:\n",
    "        return f.read()\n",
    "\n",
    "def test_inference_time(models, system_prompt, prompt, repeat=5):\n",
    "    results = []\n",
    "\n",
    "    for _ in range(repeat):\n",
    "        for model in models:\n",
    "            start_time = time.time()\n",
    "\n",
    "            response = client.chat.completions.create(\n",
    "                model=model,\n",
    "                messages=[system_prompt, {\"role\": \"user\", \"content\": prompt}]\n",
    "            )\n",
    "\n",
    "            elapsed = time.time() - start_time\n",
    "            text_output = response.choices[0].message.content\n",
    "\n",
    "            results.append({\n",
    "                \"model\": model,\n",
    "                \"elapsed_time_sec\": elapsed,\n",
    "                \"response_text\": text_output\n",
    "            })\n",
    "\n",
    "            print(f\"Model: {model} | Time: {elapsed:.2f} sec\")\n",
    "\n",
    "    # Chuyển sang DataFrame\n",
    "    df = pd.DataFrame(results)\n",
    "    return df\n",
    "\n",
    "# ---- Sử dụng ----\n",
    "models = [\"gpt-5-nano\", \"gpt-4.1-nano\"]  # Danh sách model muốn test\n",
    "system_prompt = {\"role\": \"system\", \"content\": \"Bạn là trợ lý AI hữu ích.\"}"
   ]
  },
  {
   "cell_type": "code",
   "execution_count": 8,
   "id": "cd888a9f",
   "metadata": {},
   "outputs": [],
   "source": [
    "# ---- Sử dụng ----\n",
    "models = [\"gpt-5-nano\", \"gpt-4.1-nano\"]  # Danh sách model muốn test\n",
    "system_prompt = {\"role\": \"system\", \"content\": \"Bạn là trợ lý AI hữu ích.\"}\n",
    "\n",
    "# Đọc prompt từ file\n",
    "prompt_file = r\"D:\\Data\\Legal-Retrieval\\prompt.txt\"\n",
    "prompt = read_prompt_from_file(prompt_file)\n",
    "\n",
    "# # Chạy test\n",
    "# df_results = test_inference_time(models, system_prompt, prompt)\n",
    "\n",
    "# # Lưu kết quả ra CSV\n",
    "# df_results.to_csv(r\"D:\\Data\\Legal-Retrieval\\inference_results.csv\", index=False)\n",
    "# print(\"\\nKết quả đã lưu vào inference_results.csv\")"
   ]
  },
  {
   "cell_type": "code",
   "execution_count": 7,
   "id": "ab0b6020",
   "metadata": {},
   "outputs": [
    {
     "data": {
      "text/plain": [
       "'\\nGiờ hiện tại 2025-08-09 11:42:39.\\nBạn là một trợ lý pháp lý thông minh. Hãy trả lời người dùng dựa trên các đoạn luật và thông tin bổ sung dưới đây.\\n\\n### Văn bản pháp luật nội bộ có thể thông tin cũ:\\n\"Điều 177. Nghĩa vụ của người sử dụng lao động đối với tổ chức đại diện người lao động tại cơ sở\\n1. Không được cản trở, gây khó khăn khi người lao động tiến hành các hoạt động hợp pháp nhằm thành lập, gia nhập và tham gia các hoạt động của tổ chức đại diện người lao động tại cơ sở.\\n2. Công nhận và tôn trọng các quyền của tổ chức đại diện người lao động tại cơ sở đã được thành lập hợp pháp.\\n3. Phải thỏa thuận bằng văn bản với ban lãnh đạo của tổ chức đại diện người lao động tại cơ sở khi đơn phương chấm dứt hợp đồng lao động, chuyển làm công việc khác, kỷ luật sa thải đối với người lao động là thành viên ban lãnh đạo của tổ chức đại diện người lao động tại cơ sở. Trường hợp không thỏa thuận được, hai bên phải báo cáo với cơ quan chuyên môn về lao động thuộc Ủy ban nhân dân cấp tỉnh. Sau 30 ngày kể từ ngày báo cho cơ quan chuyên môn về lao động thuộc Ủy ban nhân dân cấp tỉnh biết, người sử dụng lao động mới có quyền quyết định. Trường hợp không nhất trí với quyết định của người sử dụng lao động thì người lao động, ban lãnh đạo của tổ chức đại diện người lao động tại cơ sở có quyền yêu cầu giải quyết tranh chấp lao động theo trình tự, thủ tục do pháp luật quy định.\\n4. Phải gia hạn hợp đồng lao động đã giao kết đến hết nhiệm kỳ cho người lao động là thành viên ban lãnh đạo của tổ chức đại diện người lao động tại cơ sở đang trong nhiệm kỳ mà hết hạn hợp đồng lao động.\\n5. Các nghĩa vụ khác theo quy định của pháp luật.\"\\n\\nĐiều 31. Quyền của người sử dụng lao động\\n1. Được hỗ trợ kinh phí đào tạo, bồi dưỡng, nâng cao trình độ kỹ năng nghề để duy trì việc làm cho người lao động theo quy định.\\n2. Từ chối thực hiện các yêu cầu không đúng quy định của pháp luật về bảo hiểm thất nghiệp.\\n3. Khiếu nại, tố cáo về bảo hiểm thất nghiệp theo quy định của pháp luật.\\n4. Các quyền khác theo quy định của pháp luật.\\n\\nKhoản 3. Người sử dụng lao động không được sa thải hoặc đơn phương chấm dứt hợp đồng lao động đối với người lao động vì lý do kết hôn, mang thai, nghỉ thai sản, nuôi con dưới 12 tháng tuổi, trừ trường hợp người sử dụng lao động là cá nhân chết, bị Tòa án tuyên bố mất năng lực hành vi dân sự, mất tích hoặc đã chết hoặc người sử dụng lao động không phải là cá nhân chấm dứt hoạt động hoặc bị cơ quan chuyên môn về đăng ký kinh doanh thuộc Ủy ban nhân dân cấp tỉnh ra thông báo không có người đại diện theo pháp luật, người được ủy quyền thực hiện quyền và nghĩa vụ của người đại diện theo pháp luật. Trường hợp hợp đồng lao động hết hạn trong thời gian lao động nữ mang thai hoặc nuôi con dưới 12 tháng tuổi thì được ưu tiên giao kết hợp đồng lao động mới.\\n\\nĐiều 29. Quyền của người lao động\\n1. Nhận sổ bảo hiểm xã hội có xác nhận đầy đủ về việc đóng bảo hiểm thất nghiệp khi chấm dứt hợp đồng lao động hoặc hợp đồng làm việc.\\n2. Được hưởng các chế độ bảo hiểm thất nghiệp theo quy định tại Điều 42 Luật Việc làm.\\n3. Được ủy quyền cho người khác nộp hồ sơ hưởng trợ cấp thất nghiệp theo quy định tại Khoản 2 Điều 17, nhận quyết định hưởng trợ cấp thất nghiệp theo quy định tại Khoản 3 Điều 18 Nghị định này.\\n4. Yêu cầu người sử dụng lao động cung cấp thông tin về việc đóng bảo hiểm thất nghiệp; yêu cầu trung tâm dịch vụ việc làm, tổ chức bảo hiểm xã hội cung cấp thông tin liên quan đến bảo hiểm thất nghiệp.\\n5. Khiếu nại, tố cáo về bảo hiểm thất nghiệp theo quy định của pháp luật.\\n6. Các quyền khác theo quy định của pháp luật.\\n\\nKhiếu nại về kỷ luật lao động, trách nhiệm vật chất\\nNgười bị xử lý kỷ luật lao động, bị tạm đình chỉ công việc hoặc phải bồi thường theo chế độ trách nhiệm vật chất nếu thấy không thỏa đáng thì có quyền khiếu nại với người sử dụng lao động, với cơ quan có thẩm quyền theo quy định của Chính phủ về giải quyết khiếu nại trong lĩnh vực lao động hoặc yêu cầu giải quyết tranh chấp lao động cá nhân theo trình tự quy định tại Mục 2 Chương XIV của Bộ luật Lao động.\\nTrường hợp người sử dụng lao động quyết định xử lý kỷ luật lao động theo hình thức sa thải trái quy định của pháp luật thì ngoài nghĩa vụ, trách nhiệm theo quy định của Chính phủ về giải quyết khiếu nại trong lĩnh vực lao động hoặc giải quyết tranh chấp lao động cá nhân theo trình tự quy định tại Mục 2 Chương XIV của Bộ luật Lao động thì người sử dụng lao động có nghĩa vụ thực hiện quy định tại Điều 41 của Bộ luật Lao động.\\n\\n“Điều 5. Quyền và nghĩa vụ của người lao động\\n1. Người lao động có các quyền sau đây:\\na) Làm việc; tự do lựa chọn việc làm, nơi làm việc, nghề nghiệp, học nghề, nâng cao trình độ nghề nghiệp; không bị phân biệt đối xử, cưỡng bức lao động, quấy rối tình dục tại nơi làm việc;\\nb) Hưởng lương phù hợp với trình độ, kỹ năng nghề trên cơ sở thỏa thuận với người sử dụng lao động; được bảo hộ lao động, làm việc trong điều kiện bảo đảm về an toàn, vệ sinh lao động; nghỉ theo chế độ, nghỉ hằng năm có hưởng lương và được hưởng phúc lợi tập thể;\\nc) Thành lập, gia nhập, hoạt động trong tổ chức đại diện người lao động, tổ chức nghề nghiệp và tổ chức khác theo quy định của pháp luật; yêu cầu và tham gia đối thoại, thực hiện quy chế dân chủ, thương lượng tập thể với người sử dụng lao động và được tham vấn tại nơi làm việc để bảo vệ quyền và lợi ích hợp pháp, chính đáng của mình; tham gia quản lý theo nội quy của người sử dụng lao động;\\nd) Từ chối làm việc nếu có nguy cơ rõ ràng đe dọa trực tiếp đến tính mạng, sức khỏe trong quá trình thực hiện công việc;\\nđ) Đơn phương chấm dứt hợp đồng lao động;\\ne) Đình công;\\ng) Các quyền khác theo quy định của pháp luật.\\n2. Người lao động có các nghĩa vụ sau đây:\\na) Thực hiện hợp đồng lao động, thỏa ước lao động tập thể và thỏa thuận hợp pháp khác;\\nb) Chấp hành kỷ luật lao động, nội quy lao động; tuân theo sự quản lý, điều hành, giám sát của người sử dụng lao động;\\nc) Thực hiện quy định của pháp luật về lao động, việc làm, giáo dục nghề nghiệp, bảo hiểm xã hội, bảo hiểm y tế, bảo hiểm thất nghiệp và an toàn, vệ sinh lao động.”\\n\\nBiện pháp khắc phục hậu quả\\na) Buộc người sử dụng lao động nhận người lao động trở lại làm việc và trả đủ tiền lương theo hợp đồng lao động cho người lao động tương ứng với những ngày nghỉ việc khi người sử dụng lao động áp dụng hình thức xử lý kỷ luật sa thải thuộc hành vi vi phạm quy định tại điểm đ khoản 2, điểm c khoản 3 Điều này;\\nb) Buộc người sử dụng lao động trả đủ tiền lương những ngày tạm đình chỉ công việc đối với người lao động khi có hành vi quy định tại điểm e, g khoản 2 Điều này;\\nc) Buộc người sử dụng lao động xin lỗi công khai đối với người lao động và trả toàn bộ chi phí điều trị, tiền lương cho người lao động trong thời gian điều trị nếu việc xâm phạm gây tổn thương về thân thể người lao động đến mức phải điều trị tại cơ sở y tế khi vi phạm quy định tại điểm a khoản 3 Điều này;\\nd) Buộc người sử dụng lao động trả lại khoản tiền đã thu hoặc trả đủ tiền lương cho người lao động đối với hành vi vi phạm quy định tại điểm b khoản 3 Điều này.\"\\n\\nNgười giao kết hợp đồng lao động bên phía người sử dụng lao động là người có thẩm quyền ra quyết định xử lý kỷ luật lao động đối với người lao động.\\n5, Quyết định xử lý kỷ luật lao động phải được ban hành trong thời hạn của thời hiệu xử lý kỷ luật lao động hoặc thời hạn kéo dài thời hiệu xử lý kỷ luật lao động theo Điều 124 của Bộ luật lao động. Quyết định xử lý kỷ luật lao động phải được gửi đến người lao động, cha, mẹ hoặc người đại diện theo pháp luật của người dưới 18 tuổi và tổ chức đại diện tập thể lao động tại cơ sở.”\\n13. Sửa đổi Khoản 1 Điều 31 như sau:\\n“1. Người sử dụng lao động áp dụng hình thức xử lý kỷ luật sa thải trong trường hợp người lao động tự ý bỏ việc mà không có lý do chính đáng quy định tại Khoản 3 Điều 126 của Bộ luật lao động như sau:\\na) 05 ngày làm việc cộng dồn trong khoảng thời gian tối đa 01 tháng (30 ngày), kể từ ngày đầu tiên tự ý bỏ việc;\\nb) 20 ngày làm việc cộng dồn trong khoảng thời gian tối đa 01 năm (365 ngày), kể từ ngày đầu tiên tự ý bỏ việc.”\\n\\n\"Điều 125. Áp dụng hình thức xử lý kỷ luật sa thải\\nHình thức xử lý kỷ luật sa thải được người sử dụng lao động áp dụng trong trường hợp sau đây:\\n1. Người lao động có hành vi trộm cắp, tham ô, đánh bạc, cố ý gây thương tích, sử dụng ma túy tại nơi làm việc;\\n2. Người lao động có hành vi tiết lộ bí mật kinh doanh, bí mật công nghệ, xâm phạm quyền sở hữu trí tuệ của người sử dụng lao động, có hành vi gây thiệt hại nghiêm trọng hoặc đe dọa gây thiệt hại đặc biệt nghiêm trọng về tài sản, lợi ích của người sử dụng lao động hoặc quấy rối tình dục tại nơi làm việc được quy định trong nội quy lao động;\\n3. Người lao động bị xử lý kỷ luật kéo dài thời hạn nâng lương hoặc cách chức mà tái phạm trong thời gian chưa xóa kỷ luật. Tái phạm là trường hợp người lao động lặp lại hành vi vi phạm đã bị xử lý kỷ luật mà chưa được xóa kỷ luật theo quy định tại Điều 126 của Bộ luật này;\\n4. Người lao động tự ý bỏ việc 05 ngày cộng dồn trong thời hạn 30 ngày hoặc 20 ngày cộng dồn trong thời hạn 365 ngày tính từ ngày đầu tiên tự ý bỏ việc mà không có lý do chính đáng.\\nTrường hợp được coi là có lý do chính đáng bao gồm thiên tai, hỏa hoạn, bản thân, thân nhân bị ốm có xác nhận của cơ sở khám bệnh, chữa bệnh có thẩm quyền và trường hợp khác được quy định trong nội quy lao động.\"\\n\\nBuộc người sử dụng lao động hoàn trả cho người lao động số tiền hưởng bảo hiểm xã hội bắt buộc đã chiếm dụng của người lao động và khoản tiền lãi của số tiền này.\\n47. Buộc các cơ sở giáo dục nghề nghiệp nộp lại số tiền đã trục lợi cho cơ quan bảo hiểm xã hội.\\n48. Buộc các cơ sở giáo dục nghề nghiệp thực hiện dạy đủ thời gian khóa học mà người lao động tham gia bảo hiểm thất nghiệp được hỗ trợ học nghề.\\n49. Buộc cơ sở giáo dục nghề nghiệp triển khai đào tạo, bồi dưỡng, nâng cao trình độ kỹ năng nghề cho người lao động theo phương án đã được cơ quan có thẩm quyền phê duyệt, trừ trường hợp đã hoàn thành việc tổ chức, đào tạo, bồi dưỡng, nâng cao trình độ kỹ năng nghề cho người lao động.\\n50. Buộc người sử dụng lao động nộp cho cơ quan bảo hiểm xã hội số tiền hỗ trợ kinh phí đào tạo, bồi dưỡng, nâng cao trình độ kỹ năng nghề không sử dụng hết so với phương án được cơ quan có thẩm quyền phê duyệt.\\n51. Buộc người sử dụng lao động nhận người lao động trở lại làm việc và trả đủ tiền lương theo hợp đồng lao động cho người lao động tương ứng với những ngày nghỉ việc khi người sử dụng lao động áp dụng hình thức xử lý kỷ luật sa thải.\\n\\nd) Được hưởng các chế độ về: tiền lương, thưởng; thời giờ làm việc, thời giờ nghỉ ngơi; trang bị phương tiện làm việc, đi lại, ăn, ở; bảo hiểm xã hội, bảo hiểm y tế, bảo hiểm thất nghiệp; đào tạo, bồi dưỡng; chế độ khác do hai bên thỏa thuận;\\nđ) Các quyền và nghĩa vụ khác do hai bên thỏa thuận.\\n9. Điều kiện, quy trình, thủ tục sửa đổi, bổ sung hợp đồng lao động, đơn phương chấm dứt hợp đồng lao động.\\n10. Quyền và nghĩa vụ của người sử dụng lao động và người lao động được thuê làm giám đốc khi chấm dứt hợp đồng lao động.\\n11. Kỷ luật lao động, trách nhiệm vật chất, giải quyết tranh chấp lao động và khiếu nại.\\n12. Các nội dung khác do hai bên thỏa thuận.\\n\\n\"1. Người nào vì vụ lợi hoặc động cơ cá nhân khác mà thực hiện một trong các hành vi sau đây gây hậu quả nghiêm trọng, thì bị phạt tiền từ 10.000.000 đồng đến 100.000.000 đồng, phạt cải tạo không giam giữ đến 01 năm hoặc phạt tù từ 03 tháng đến 01 năm:\\na) Ra quyết định buộc thôi việc trái pháp luật đối với công chức, viên chức;\\nb) Sa thải trái pháp luật đối với người lao động;\\nc) Cưỡng ép, đe dọa buộc công chức, viên chức, người lao động phải thôi việc.\\n2. Phạm tội thuộc một trong các trường hợp sau đây, thì bị phạt tiền từ 100.000.000 đồng đến 200.000.000 đồng hoặc phạt tù từ 01 năm đến 03 năm:\\na) Đối với 02 người trở lên;\\nb) Đối với phụ nữ mà biết là có thai;\\nc) Đối với người đang nuôi con dưới 12 tháng tuổi;\\nd) Làm người bị buộc thôi việc, người bị sa thải tự sát;\\nđ) Gây hậu quả rất nghiêm trọng hoặc đặc biệt nghiêm trọng khác.”\\nNhư vậy trong trường hợp bạn và đồng nghiệp bị sa thải trái luật thì NSDLĐ có thể bị phạt tiền từ 100.000.000 đồng đến 200.000.000 đồng hoặc phạt tù từ 01 năm đến 03 năm.\\n\\n\"Điều 5. Quyền và nghĩa vụ của người lao động\\n1. Người lao động có các quyền sau đây:\\n...\\nb) Hưởng lương phù hợp với trình độ, kỹ năng nghề trên cơ sở thỏa thuận với người sử dụng lao động; được bảo hộ lao động, làm việc trong điều kiện bảo đảm về an toàn, vệ sinh lao động; nghỉ theo chế độ, nghỉ hằng năm có hưởng lương và được hưởng phúc lợi tập thể;\"\\n\\n\"Điều 41. Nghĩa vụ của người sử dụng lao động khi đơn phương chấm dứt hợp đồng lao động trái pháp luật\\n1. Phải nhận người lao động trở lại làm việc theo hợp đồng lao động đã giao kết; phải trả tiền lương, đóng bảo hiểm xã hội, bảo hiểm y tế, bảo hiểm thất nghiệp trong những ngày người lao động không được làm việc và phải trả thêm cho người lao động một khoản tiền ít nhất bằng 02 tháng tiền lương theo hợp đồng lao động.\\nSau khi được nhận lại làm việc, người lao động hoàn trả cho người sử dụng lao động các khoản tiền trợ cấp thôi việc, trợ cấp mất việc làm nếu đã nhận của người sử dụng lao động.\\nTrường hợp không còn vị trí, công việc đã giao kết trong hợp đồng lao động mà người lao động vẫn muốn làm việc thì hai bên thỏa thuận để sửa đổi, bổ sung hợp đồng lao động.\\nTrường hợp vi phạm quy định về thời hạn báo trước quy định tại khoản 2 Điều 36 của Bộ luật này thì phải trả một khoản tiền tương ứng với tiền lương theo hợp đồng lao động trong những ngày không báo trước.\\n2. Trường hợp người lao động không muốn tiếp tục làm việc thì ngoài khoản tiền phải trả quy định tại khoản 1 Điều này người sử dụng lao động phải trả trợ cấp thôi việc theo quy định tại Điều 46 của Bộ luật này để chấm dứt hợp đồng lao động.\\n3. Trường hợp người sử dụng lao động không muốn nhận lại người lao động và người lao động đồng ý thì ngoài khoản tiền người sử dụng lao động phải trả theo quy định tại khoản 1 Điều này và trợ cấp thôi việc theo quy định tại Điều 46 của Bộ luật này, hai bên thỏa thuận khoản tiền bồi thường thêm cho người lao động nhưng ít nhất bằng 02 tháng tiền lương theo hợp đồng lao động để chấm dứt hợp đồng lao động.\"\\n\\n“Điều 125. Áp dụng hình thức xử lý kỷ luật sa thải\\nHình thức xử lý kỷ luật sa thải được người sử dụng lao động áp dụng trong trường hợp sau đây:\\n...\\n2. Người lao động có hành vi tiết lộ bí mật kinh doanh, bí mật công nghệ, xâm phạm quyền sở hữu trí tuệ của người sử dụng lao động, có hành vi gây thiệt hại nghiêm trọng hoặc đe dọa gây thiệt hại đặc biệt nghiêm trọng về tài sản, lợi ích của người sử dụng lao động hoặc quấy rối tình dục tại nơi làm việc được quy định trong nội quy lao động.’’\\n\\nQuyền và nghĩa vụ của người được thuê làm giám đốc, bao gồm:\\na) Thực hiện các công việc đã giao kết;\\nb) Báo cáo những khó khăn trong quá trình thực hiện công việc đã giao kết và đề xuất các giải pháp khắc phục;\\nc) Báo cáo tình hình quản lý, sử dụng về vốn, tài sản, lao động và các nguồn lực khác;\\nd) Các quyền và nghĩa vụ khác theo quy định của pháp luật;\\nđ) Các quyền và nghĩa vụ khác do hai bên thỏa thuận.\\n9. Quyền lợi của người được thuê làm giám đốc, bao gồm:\\na) Tiền lương theo năm, tạm ứng và thanh toán tiền lương, chế độ nâng lương;\\nb) Tiền thưởng, tạm ứng và trả thưởng;\\nc) Thời giờ làm việc, thời giờ nghỉ ngơi;\\nd) Bảo hiểm xã hội, bảo hiểm y tế, bảo hiểm thất nghiệp theo quy định của pháp luật;\\nđ) Đào tạo, bồi dưỡng nâng cao trình độ kỹ năng để thực hiện công việc đã giao kết;\\ne) Trang thiết bị làm việc, phương tiện đi lại, thông tin liên lạc và các khoản bổ sung khác;\\ng) Các quyền lợi khác do hai bên thỏa thuận.\\n10. Điều kiện, quy trình, thủ tục sửa đổi, bổ sung hợp đồng lao động, đơn phương chấm dứt hợp đồng lao động.\\n11. Quyền và trách nhiệm của người sử dụng lao động và người được thuê làm giám đốc khi chấm dứt hợp đồng lao động.\\n12. Kỷ luật lao động, trách nhiệm vật chất, giải quyết tranh chấp lao động và khiếu nại.\\n13. Các thỏa thuận khác.\\n\\nTrách nhiệm khi chấm dứt hợp đồng lao động\\n...\\n2. Tiền lương, bảo hiểm xã hội, bảo hiểm y tế, bảo hiểm thất nghiệp, trợ cấp thôi việc và các quyền lợi khác của người lao động theo thỏa ước lao động tập thể, hợp đồng lao động được ưu tiên thanh toán trong trường hợp doanh nghiệp, hợp tác xã bị chấm dứt hoạt động, bị giải thể, phá sản.\\n...\\n\\n\"Điều 18. Quyền của người lao động\\n1. Được tham gia và hưởng các chế độ bảo hiểm xã hội theo quy định của Luật này.\\n2. Được cấp và quản lý sổ bảo hiểm xã hội.\\n3. Nhận lương hưu và trợ cấp bảo hiểm xã hội đầy đủ, kịp thời, theo một trong các hình thức chi trả sau:\\na) Trực tiếp từ cơ quan bảo hiểm xã hội hoặc tổ chức dịch vụ được cơ quan bảo hiểm xã hội ủy quyền;\\nb) Thông qua tài khoản tiền gửi của người lao động mở tại ngân hàng;\\nc) Thông qua người sử dụng lao động.\\n4. Hưởng bảo hiểm y tế trong các trường hợp sau đây:\\na) Đang hưởng lương hưu;\\nb) Trong thời gian nghỉ việc hưởng trợ cấp thai sản khi sinh con hoặc nhận nuôi con nuôi;\\nc) Nghỉ việc hưởng trợ cấp tai nạn lao động, bệnh nghề nghiệp hằng tháng;\\nd) Đang hưởng trợ cấp ốm đau đối với người lao động mắc bệnh thuộc Danh mục bệnh cần chữa trị dài ngày do Bộ Y tế ban hành.\\n5. Được chủ động đi khám giám định mức suy giảm khả năng lao động nếu thuộc trường hợp quy định tại điểm b khoản 1 Điều 45 của Luật này và đang bảo lưu thời gian đóng bảo hiểm xã hội; được thanh toán phí giám định y khoa nếu đủ điều kiện để hưởng bảo hiểm xã hội.\\n6. Ủy quyền cho người khác nhận lương hưu, trợ cấp bảo hiểm xã hội.\\n7. Định kỳ 06 tháng được người sử dụng lao động cung cấp thông tin về đóng bảo hiểm xã hội; định kỳ hằng năm được cơ quan bảo hiểm xã hội xác nhận về việc đóng bảo hiểm xã hội; được yêu cầu người sử dụng lao động và cơ quan bảo hiểm xã hội cung cấp thông tin về việc đóng, hưởng bảo hiểm xã hội.\\n8. Khiếu nại, tố cáo và khởi kiện về bảo hiểm xã hội theo quy định của pháp luật.\\nĐiều 19. Trách nhiệm của người lao động\\n1. Đóng bảo hiểm xã hội theo quy định của Luật này.\\n2. Thực hiện quy định về việc lập hồ sơ bảo hiểm xã hội.\\n3. Bảo quản sổ bảo hiểm xã hội.\"\\n\\n1. Người lao động làm việc theo hợp đồng lao động có quyền sau đây:\\na) Được bảo đảm các điều kiện làm việc công bằng, an toàn, vệ sinh lao động; yêu cầu người sử dụng lao động có trách nhiệm bảo đảm điều kiện làm việc an toàn, vệ sinh lao động trong quá trình lao động, tại nơi làm việc;\\nb) Được cung cấp thông tin đầy đủ về các yếu tố nguy hiểm, yếu tố có hại tại nơi làm việc và những biện pháp phòng, chống; được đào tạo, huấn luyện về an toàn, vệ sinh lao động;\\nc) Được thực hiện chế độ bảo hộ lao động, chăm sóc sức khỏe, khám phát hiện bệnh nghề nghiệp; được người sử dụng lao động đóng bảo hiểm tai nạn lao động, bệnh nghề nghiệp; được hưởng đầy đủ chế độ đối với người bị tai nạn lao động, bệnh nghề nghiệp; được trả phí khám giám định thương tật, bệnh tật do tai nạn lao động, bệnh nghề nghiệp; được chủ động đi khám giám định mức suy giảm khả năng lao động và được trả phí khám giám định trong trường hợp kết quả khám giám định đủ điều kiện để điều chỉnh tăng mức hưởng trợ cấp tai nạn lao động, bệnh nghề nghiệp;\\nd) Yêu cầu người sử dụng lao động bố trí công việc phù hợp sau khi điều trị ổn định do bị tai nạn lao động, bệnh nghề nghiệp;\\nđ) Từ chối làm công việc hoặc rời bỏ nơi làm việc mà vẫn được trả đủ tiền lương và không bị coi là vi phạm kỷ luật lao động khi thấy rõ có nguy cơ xảy ra tai nạn lao động đe dọa nghiêm trọng tính mạng hoặc sức khỏe của mình nhưng phải báo ngay cho người quản lý trực tiếp để có phương án xử lý; chỉ tiếp tục làm việc khi người quản lý trực tiếp và người phụ trách công tác an toàn, vệ sinh lao động đã khắc phục các nguy cơ để bảo đảm an toàn, vệ sinh lao động;\\ne) Khiếu nại, tố cáo hoặc khởi kiện theo quy định của pháp luật.\\n2.\\n\\nĐiều 162. Tội buộc công chức, viên chức thôi việc hoặc sa thải người lao động trái pháp luật\\n1. Người nào vì vụ lợi hoặc động cơ cá nhân khác mà thực hiện một trong các hành vi sau đây làm cho người bị thôi việc, người bị sa thải hoặc gia đình họ lâm vào tình trạng khó khăn hoặc dẫn đến đình công, thì bị phạt tiền từ 10.000.000 đồng đến 100.000.000 đồng, phạt cải tạo không giam giữ đến 01 năm hoặc phạt tù từ 03 tháng đến 01 năm:\\na) Ra quyết định buộc thôi việc trái pháp luật đối với công chức, viên chức;\\nb) Sa thải trái pháp luật đối với người lao động;\\nc) Cưỡng ép, đe dọa buộc người lao động, công chức, viên chức phải thôi việc.\\n2. Phạm tội thuộc một trong các trường hợp sau đây, thì bị phạt tiền từ 100.000.000 đồng đến 200.000.000 đồng hoặc phạt tù từ 01 năm đến 03 năm:\\na) Đối với 02 người trở lên;\\nb) Đối với phụ nữ mà biết là có thai;\\nc) Đối với người đang nuôi con dưới 12 tháng tuổi;\\nd) Làm người bị buộc thôi việc, người bị sa thải tự sát.\\n3. Người phạm tội còn có thể bị cấm đảm nhiệm chức vụ nhất định từ 01 năm đến 05 năm.\\n\\n### Thông tin bổ sung mới từ web:\\nNguồn: Tội trốn tránh nghĩa vụ quân sự và tội không chấp hành lệnh gọi quân nhân dự bị nhập ngũ theo quy định của Bộ luật Hình sự Việt Nam năm 2015 - Những vấn đề lý luận, thực tiễn và giải pháp hoàn thiện (https://tapchitoaan.vn/toi-tron-tranh-nghia-vu-quan-su-va-toi-khong-chap-hanh-lenh-goi-quan-nhan-du-bi-nhap-ngu-theo-quy-dinh-cua-bo-luat-hinh-su-viet-nam-nam-2015-nhung-van-de-ly-luan-thuc-tien-va-giai-phap-hoan-thien12828.html)\\nặc đã bị kết án về tội này, chưa được xóa án tích mà còn vi phạm, thì bị phạt...\\n2. Pham tôi thuộc một trong các trường hợp sau đây, thì bị phạt....:\\na) Không chấp hành lệnh gọi quân nhân dự bị nhập ngũ trong trường hợp có lệnh tổng động viên, động viên cục bộ.\\nb) Tự gây thương tích hoặc gây tổn hại cho sức khỏe của mình;\\nc) Lôi kéo người khác phạm tội;\\nc) Phạm tội trong thời chiến”.\\nHoặc:\\n“1. Người nào thực hiện một trong những hành vi sau đây, thì bị phạt ...\\na) Không chấp hành quy định của pháp luật về đăng ký nghĩa vụ quân sự, không chấp hành lệnh gọi nhập ngũ đối với người trúng tuyển nghĩa vụ quân sự và được gọi nhập ngũ hàng năm, lệnh gọi tập trung huấn luyện, diễn tập, kiểm tra sẵn sàng động viên, sẵn sàng chiến đấu hoặc quyết định huy động quân nhân dự bị để thực hiện nhiệm vụ quâ\\n\\nNguồn: Tội trốn tránh nghĩa vụ quân sự và tội không chấp hành lệnh gọi quân nhân dự bị nhập ngũ theo quy định của Bộ luật Hình sự Việt Nam năm 2015 - Những vấn đề lý luận, thực tiễn và giải pháp hoàn thiện (https://tapchitoaan.vn/toi-tron-tranh-nghia-vu-quan-su-va-toi-khong-chap-hanh-lenh-goi-quan-nhan-du-bi-nhap-ngu-theo-quy-dinh-cua-bo-luat-hinh-su-viet-nam-nam-2015-nhung-van-de-ly-luan-thuc-tien-va-giai-phap-hoan-thien12828.html)\\nhấp hành lệnh gọi quân nhân dự bị nhập ngũ vào tội trốn tránh nghĩa vụ quân sự và sửa đổi bổ sung như sau:\\n“Điều... Tội trốn tránh nghĩa vụ quân sự\\n1. Người nào không chấp hành quy định của pháp luật về đăng ký nghĩa vụ quân sự, không chấp hành lệnh gọi nhập ngũ đối với người trúng tuyển nghĩa vụ quân sự và được gọi nhập ngũ hàng năm, lệnh gọi tập trung huấn luyện, diễn tập, kiểm tra sẵn sàng động viên, sẵn sàng chiến đấu hoặc quyết định huy động quân nhân dự bị để thực hiện nhiệm vụ quân sự, quốc phòng, đã bị xử phạt vi phạm hành chính về hành vi này hoặc đã bị kết án về tội này, chưa được xóa án tích mà còn vi phạm, thì bị phạt...\\n2. Pham tôi thuộc một trong các trường hợp sau đây, thì bị phạt....:\\n\\nNguồn: Tội trốn tránh nghĩa vụ quân sự và tội không chấp hành lệnh gọi quân nhân dự bị nhập ngũ theo quy định của Bộ luật Hình sự Việt Nam năm 2015 - Những vấn đề lý luận, thực tiễn và giải pháp hoàn thiện (https://tapchitoaan.vn/toi-tron-tranh-nghia-vu-quan-su-va-toi-khong-chap-hanh-lenh-goi-quan-nhan-du-bi-nhap-ngu-theo-quy-dinh-cua-bo-luat-hinh-su-viet-nam-nam-2015-nhung-van-de-ly-luan-thuc-tien-va-giai-phap-hoan-thien12828.html)\\ni về sức khỏe do người phạm tội gây ra cho người khác.\\n+ Phạm tội trong thời chiến là phạm tội trong tình trạng Việt Nam có chiến tranh với nước khác. Tình trạng chiến tranh là trạng thái xã hội đặc biệt của đất nước được tuyên bố từ khi Tổ quốc bị xâm lược cho đến khi hành vi xâm lược đó được chấm dứt trên thực tế. Theo quy định của Luật Quốc phòng, thì khi Tổ quốc bị xâm lược, Quốc hội quyết định tình trạng chiến tranh. Trong trường hợp Quốc hội không thể họp được, Ủy ban Thường vụ Quốc hội quyết định việc tuyên bố tình trạng chiến tranh và báo cáo Quốc hội quyết định tại kỳ họp gần nhất[10].\\n+ Lôi kéo người khác phạm tội là hành vi rủ rê, khuyến khích, kích động người khác cùng trốn tránh nghĩa vụ quân sự.\\n\\nNguồn: Tội trốn tránh nghĩa vụ quân sự và tội không chấp hành lệnh gọi quân nhân dự bị nhập ngũ theo quy định của Bộ luật Hình sự Việt Nam năm 2015 - Những vấn đề lý luận, thực tiễn và giải pháp hoàn thiện (https://tapchitoaan.vn/toi-tron-tranh-nghia-vu-quan-su-va-toi-khong-chap-hanh-lenh-goi-quan-nhan-du-bi-nhap-ngu-theo-quy-dinh-cua-bo-luat-hinh-su-viet-nam-nam-2015-nhung-van-de-ly-luan-thuc-tien-va-giai-phap-hoan-thien12828.html)\\ntại Điều 333 BLHS chưa quy định trách nhiệm hình sự đối với người không thực hiện quyết định huy động quân nhân dự bị trong các trường hợp nêu trên.\\nBốn là, gọi tập trung huấn luyện chỉ có thể áp dụng đối với quân nhân dự bị mà không áp dụng đối với người trúng tuyển nghĩa vụ quân sự và được gọi nhập ngũ hàng năm và quân nhân dự bị được gọi nhập ngũ khi có lệnh tổng động viên, lệnh động viên cục bộ. Theo quy định của Luật Nghĩa vụ quân sự và Luật Lực lượng dự bị động viên, thì quân nhân dự bị không chỉ được gọi tập trung huấn luyện mà còn được gọi tập trung diễn tập, kiểm tra sẵn sàng động viên, sẵn sàng chiến đấu[21].\\n\\nNguồn: Tội trốn tránh nghĩa vụ quân sự và tội không chấp hành lệnh gọi quân nhân dự bị nhập ngũ theo quy định của Bộ luật Hình sự Việt Nam năm 2015 - Những vấn đề lý luận, thực tiễn và giải pháp hoàn thiện (https://tapchitoaan.vn/toi-tron-tranh-nghia-vu-quan-su-va-toi-khong-chap-hanh-lenh-goi-quan-nhan-du-bi-nhap-ngu-theo-quy-dinh-cua-bo-luat-hinh-su-viet-nam-nam-2015-nhung-van-de-ly-luan-thuc-tien-va-giai-phap-hoan-thien12828.html)\\nân dân Việt Nam, Luật Quân nhân chuyên nghiệp, công nhân và viên chức quốc phòng, Luật Nghĩa vụ quân sự để sẵn sàng bổ sung cho lực lượng thường trực của Quân đội nhân dân[9]. Theo quy định của Luật Sỹ quan Quân đội nhân dân Việt Nam, Luật Quân nhân chuyên nghiệp, công nhân và viên chức quốc phòng và Luật Nghĩa vụ quân sự, thì quân nhân dự bị phải tham gia huấn luyện, kiểm tra sẵn sàng động viên, sẵn sàng chiến đấu theo lệnh của cấp có thẩm quyền. Do vậy, không chấp hành lệnh gọi tập trung huấn luyện là trường hợp quân nhân dự bị đã có lệnh gọi tập trung nhưng không có mặt để thực hiện nhiệm vụ huấn luyện, kiểm tra sẵn sàng động viên, sẵn sàng chiến đấu.\\n\\nNguồn: Tội trốn tránh nghĩa vụ quân sự và tội không chấp hành lệnh gọi quân nhân dự bị nhập ngũ theo quy định của Bộ luật Hình sự Việt Nam năm 2015 - Những vấn đề lý luận, thực tiễn và giải pháp hoàn thiện (https://tapchitoaan.vn/toi-tron-tranh-nghia-vu-quan-su-va-toi-khong-chap-hanh-lenh-goi-quan-nhan-du-bi-nhap-ngu-theo-quy-dinh-cua-bo-luat-hinh-su-viet-nam-nam-2015-nhung-van-de-ly-luan-thuc-tien-va-giai-phap-hoan-thien12828.html)\\nrật tự, an toàn xã hội nhưng chưa đến mức ban bố tình trạng khẩn cấp; Để phòng, chống, khắc phục hậu quả thảm họa, thiên tai, dịch bệnh nguy hiểm[19]. Theo quy định của Luật Quốc phòng, thì; Người chỉ huy đơn vị Quân đội nhân dân được giao quản lý địa phương thiết quân luật có quyền quyết định huy động quân nhân dự bị khi thi hành lệnh thiết quân luật; Chủ tịch Ủy ban nhân dân cấp tỉnh quyết định huy động quân nhân dự bị trong trường hợp có nguy cơ đe dọa an ninh quốc gia, trật tự, an toàn xã hội nhưng chưa đến mức ban bố tình trạng khẩn cấp; hoặc để phòng, chống, khắc phục hậu quả thảm họa, thiên tai, dịch bệnh nguy hiểm[20]. Tuy nhiên, tại Điều 333 BLHS chưa quy định trách nhiệm hình sự đối với người không thực hiện quyết định huy động quân nhân dự bị trong các trường hợp nêu trên.\\n\\nNguồn: Tội trốn tránh nghĩa vụ quân sự và tội không chấp hành lệnh gọi quân nhân dự bị nhập ngũ theo quy định của Bộ luật Hình sự Việt Nam năm 2015 - Những vấn đề lý luận, thực tiễn và giải pháp hoàn thiện (https://tapchitoaan.vn/toi-tron-tranh-nghia-vu-quan-su-va-toi-khong-chap-hanh-lenh-goi-quan-nhan-du-bi-nhap-ngu-theo-quy-dinh-cua-bo-luat-hinh-su-viet-nam-nam-2015-nhung-van-de-ly-luan-thuc-tien-va-giai-phap-hoan-thien12828.html)\\ni với người trúng tuyển nghĩa vụ quân sự và được gọi nhập ngũ hàng năm mà không áp dụng đối với quân nhân dự bị được gọi tập trung huấn luyện, diễn tập, kiểm tra sẵn sàng động viên, sẵn sàng chiến đấu.\\n- Thứ hai, về chủ thể quan hệ xã hội liên quan đến việc thực hiện nghĩa vụ quân sự. Như đã phân tích, bản chất quan hệ xã hội liên quan đến việc thực hiện nghĩa vụ quân sự trong lĩnh vực quản lý hành chính nhà nước là quan hệ giữa nhà nước và người có trách nhiệm thực hiện nghĩa vụ quân sự. Do vậy, có ba nhóm chủ thể liên quan đến hành vi không thực hiện hoặc thực hiện không đúng nghĩa vụ quân sự đến mức phải truy cứu trách nhiệm pháp luật (xử phạt hành chính hoặc xử lý hình sự): Thứ nhất, là người có chức vụ, quyền hạn của cơ quan nhà nước có thẩm quyền đăng ký, gọi hoặc huy động người có t\\n\\nNguồn: Tội trốn tránh nghĩa vụ quân sự và tội không chấp hành lệnh gọi quân nhân dự bị nhập ngũ theo quy định của Bộ luật Hình sự Việt Nam năm 2015 - Những vấn đề lý luận, thực tiễn và giải pháp hoàn thiện (https://tapchitoaan.vn/toi-tron-tranh-nghia-vu-quan-su-va-toi-khong-chap-hanh-lenh-goi-quan-nhan-du-bi-nhap-ngu-theo-quy-dinh-cua-bo-luat-hinh-su-viet-nam-nam-2015-nhung-van-de-ly-luan-thuc-tien-va-giai-phap-hoan-thien12828.html)\\nhổ.\\n- Thứ hai, là mặt khách quan của tội phạm. Mặt khác quan của tội phạm được thể hiện bởi hành vi không chấp hành lệnh gọi quân nhân dự bị nhập ngũ. Theo quy định của Điều luật, thì hành vi không chấp hành lệnh gọi quân nhân dự bị nhập ngũ chỉ bị coi là phạm tội này khi người đó nhận được lệnh gọi nhập ngũ trong trường hợp có lệnh tổng động viên, lệnh động viên cục bộ, có chiến tranh hoặc có nhu cầu tăng cường cho lực lượng thường trực của quân đội để chiến đấu bảo vệ địa phương, bảo vệ chủ quyền lãnh thổ. Theo đó, Lệnh tổng động viên hoặc động viên cục bộ của Chủ tịch nước được ban hành căn cứ vào nghị quyết của Ủy ban Thường vụ Quốc hội khi Quốc hội hoặc Ủy ban Thường vụ Quốc hội tuyên bố tình trạng chiến tranh hoặc ban bố tình trạng khẩn cấp về quốc phòng[11]. Trong đó:\\n\\nNguồn: Tội trốn tránh nghĩa vụ quân sự và tội không chấp hành lệnh gọi quân nhân dự bị nhập ngũ theo quy định của Bộ luật Hình sự Việt Nam năm 2015 - Những vấn đề lý luận, thực tiễn và giải pháp hoàn thiện (https://tapchitoaan.vn/toi-tron-tranh-nghia-vu-quan-su-va-toi-khong-chap-hanh-lenh-goi-quan-nhan-du-bi-nhap-ngu-theo-quy-dinh-cua-bo-luat-hinh-su-viet-nam-nam-2015-nhung-van-de-ly-luan-thuc-tien-va-giai-phap-hoan-thien12828.html)\\nủa mình.\\n3. Những hạn chế, bất cập và giải pháp hoàn thiện\\n- Thứ nhất, về hành vi vi phạm nghĩa vụ quân sự trong lĩnh vực quản lý hành chính nhà nước. Quan hệ xã hội liên quan đến việc thực hiện nghĩa vụ quân sự trong lĩnh vực quản lý hành chính nhà nước là quan hệ giữa nhà nước (người có chức vụ, quyền hạn của cơ quan nhà nước có thẩm quyền) và người có trách nhiệm thực hiện nghĩa vụ quân sự. Trong mối quan hệ đó: Nhà nước (thông qua người có chức vụ, quyền hạn của cơ quan nhà nước có thẩm quyền) có quyền đăng ký nghĩa vụ, gọi hoặc huy động người có trách nhiệm thực hiện nghĩa vụ quân sự đăng ký nghĩa vụ, nhập ngũ hoặc có mặt để thực hiện nhiệm vụ theo quy định của pháp luật về quân sự, quốc phòng; Người có trách nhiệm phải thực hiện nghĩa vụ quân sự đăng ký nghĩa vụ, chấp hành lệnh gọi n\\n\\nNguồn: Tội trốn tránh nghĩa vụ quân sự và tội không chấp hành lệnh gọi quân nhân dự bị nhập ngũ theo quy định của Bộ luật Hình sự Việt Nam năm 2015 - Những vấn đề lý luận, thực tiễn và giải pháp hoàn thiện (https://tapchitoaan.vn/toi-tron-tranh-nghia-vu-quan-su-va-toi-khong-chap-hanh-lenh-goi-quan-nhan-du-bi-nhap-ngu-theo-quy-dinh-cua-bo-luat-hinh-su-viet-nam-nam-2015-nhung-van-de-ly-luan-thuc-tien-va-giai-phap-hoan-thien12828.html)\\nphạt hành chính hoặc xử lý hình sự): Thứ nhất, là người có chức vụ, quyền hạn của cơ quan nhà nước có thẩm quyền đăng ký, gọi hoặc huy động người có trách nhiệm thực hiện nghĩa vụ quân sự đăng ký nghĩa vụ, nhập ngũ hoặc có mặt để thực hiện nhiệm vụ theo quy định của pháp luật về quân sự, quốc phòng; Thứ hai, là người có trách nhiệm thực hiện nghĩa vụ quân sự phải đăng ký, nhập ngũ hoặc có mặt để thực hiện nhiệm vụ theo quy định của pháp luật về quân sự, quốc phòng; Thứ ba, là người khác có liên quan. Theo quy định của BLHS, thì: Người có chức vụ, quyền hạn của cơ quan nhà nước có thẩm quyền đăng ký, gọi hoặc huy động người có trách nhiệm thực hiện nghĩa vụ quân sự nhập ngũ hoặc có mặt để thực hiện nhiệm vụ theo quy định của pháp luật về quân sự, quốc phòng được quy định là chủ thể của tội\\nNgười dùng: Quyền lợi của người lao động khi bị sa thải?\\nTrợ lý:'"
      ]
     },
     "execution_count": 7,
     "metadata": {},
     "output_type": "execute_result"
    }
   ],
   "source": [
    "prompt_file = r\"D:\\Data\\Legal-Retrieval\\prompt.txt\"\n",
    "prompt = read_prompt_from_file(prompt_file)\n",
    "prompt"
   ]
  },
  {
   "cell_type": "code",
   "execution_count": 19,
   "id": "4fa01094",
   "metadata": {},
   "outputs": [],
   "source": [
    "response = client.chat.completions.create(\n",
    "                model=\"gpt-4.1-nano\",\n",
    "                messages=[system_prompt, {\"role\": \"user\", \"content\": prompt}],\n",
    "                # verbosity =\"medium\",  # Thêm tham số verbosity nếu cần thiết\n",
    "                # reasoning_effort=\"low\"  # Thêm tham số reasoning_effort nếu cần thiết\n",
    "            )\n"
   ]
  },
  {
   "cell_type": "code",
   "execution_count": 20,
   "id": "f2ca2679",
   "metadata": {},
   "outputs": [
    {
     "name": "stdout",
     "output_type": "stream",
     "text": [
      "Khi người lao động bị sa thải trái pháp luật, họ có quyền được hưởng các biện pháp khắc phục theo quy định của pháp luật, cụ thể như sau:\n",
      "\n",
      "1. **Được làm việc trở lại**: Người lao động có quyền yêu cầu người sử dụng lao động nhận trở lại làm việc theo hợp đồng đã ký kết, đồng thời được đòi hỏi người sử dụng lao động phải trả đủ tiền lương trong những ngày họ bị tạm ngưng làm việc do hành vi sa thải trái luật.\n",
      "\n",
      "2. **Được trả tiền lương trong thời gian tạm nghỉ hoặc không làm việc**: Theo Điều 41 của Bộ luật Lao động, người sử dụng lao động có nghĩa vụ trả lương, đóng bảo hiểm xã hội, bảo hiểm y tế, bảo hiểm thất nghiệp trong những ngày người lao động bị tạm đình chỉ công việc hoặc không làm việc do sa thải trái phép.\n",
      "\n",
      "3. **Được hưởng các khoản phụ cấp, trợ cấp, tiền thưởng theo quy định**: Người lao động còn có quyền hưởng các chế độ về thưởng, phụ cấp, các phúc lợi khác theo quy định hoặc theo thỏa thuận tại hợp đồng lao động.\n",
      "\n",
      "4. **Trường hợp không trở lại làm việc**: Nếu người lao động không muốn quay lại làm việc, họ có thể yêu cầu tiền trợ cấp thôi việc hoặc các khoản bồi thường theo quy định (thường ít nhất bằng 02 tháng tiền lương theo hợp đồng). Ngoài ra, người lao động còn có thể đòi bồi thường thiệt hại nếu việc sa thải trái pháp luật gây thiệt hại về vật chất hoặc tinh thần.\n",
      "\n",
      "5. **Các quyền khác**: Người lao động có quyền khiếu nại, tố cáo hoặc khởi kiện hành vi sa thải trái pháp luật để bảo vệ quyền lợi của mình.\n",
      "\n",
      "**Lưu ý**: Trong trường hợp người sử dụng lao động sa thải người lao động trái pháp luật, họ còn có thể bị xử phạt hành chính hoặc hình sự theo quy định của pháp luật (ví dụ như bị phạt tiền từ 100 triệu đồng đến 200 triệu đồng hoặc phạt tù từ 01 đến 03 năm đối với hành vi sa thải trái quy định, như đã đề cập ở các khoản luật liên quan).\n",
      "\n",
      "Tóm lại, quyền lợi của người lao động khi bị sa thải trái pháp luật gồm quyền được làm việc trở lại, nhận đủ tiền lương, các phụ cấp, trợ cấp, tiền thưởng, và các chế độ bảo hiểm liên quan, cũng như quyền khiếu nại hoặc khởi kiện để bảo vệ quyền lợi của mình.\n"
     ]
    }
   ],
   "source": [
    "print(response.choices[0].message.content)"
   ]
  },
  {
   "cell_type": "markdown",
   "id": "4addcf87",
   "metadata": {},
   "source": [
    "#"
   ]
  },
  {
   "cell_type": "code",
   "execution_count": null,
   "id": "3a978ef0",
   "metadata": {},
   "outputs": [],
   "source": [
    "# ---- BƯỚC 2: KHỞI TẠO BỘ NÃO (LLM) ----\n",
    "# Sử dụng mô hình của OpenAI làm \"bộ não\" cho agent\n",
    "# llm = ChatOpenAI(model=\"gpt-4.1-nano\", temperature=0)\n",
    "\n",
    "llm = ChatOpenAI(model=\"gpt-5\", temperature=0)\n",
    "# ---- BƯỚC 3: ĐỊNH NGHĨA CÔNG CỤ (TOOLS) ----\n",
    "# Tạo một công cụ tìm kiếm DuckDuckGo\n",
    "search_tool = DuckDuckGoSearchRun()\n",
    "\n",
    "# Bọc công cụ tìm kiếm trong một đối tượng Tool của LangChain\n",
    "# Mô tả (description) là RẤT QUAN TRỌNG, vì nó giúp LLM quyết định khi nào nên dùng công cụ này.\n",
    "tools = [\n",
    "    Tool(\n",
    "        name=\"Web Search\",\n",
    "        func=search_tool.run,\n",
    "        description=\"Rất hữu ích để tìm kiếm thông tin mới nhất trên Internet, chẳng hạn như thông tin về người nổi tiếng, sự kiện gần đây hoặc các chủ đề mà bạn không biết.\",\n",
    "    )\n",
    "]\n",
    "\n",
    "# ---- BƯỚC 4: TẠO PROMPT TEMPLATE ----\n",
    "# Đây là \"bản hướng dẫn\" cho Agent, chỉ cho nó cách suy nghĩ và hành động.\n",
    "# LangChain đã có sẵn một template chuẩn cho ReAct agent.\n",
    "# Chúng ta sẽ sử dụng một template đơn giản để bạn dễ hình dung.\n",
    "prompt_template_string = \"\"\"\n",
    "Hãy trả lời câu hỏi dưới đây một cách tốt nhất có thể. Bạn có thể sử dụng các công cụ sau:\n",
    "\n",
    "{tools}\n",
    "\n",
    "Sử dụng định dạng sau:\n",
    "\n",
    "Question: câu hỏi bạn phải trả lời\n",
    "Thought: bạn nên luôn suy nghĩ về những gì cần làm\n",
    "Action: hành động cần thực hiện, có thể là một trong [{tool_names}]\n",
    "Action Input: đầu vào cho hành động\n",
    "Observation: kết quả của hành động\n",
    "... (vòng lặp Thought/Action/Action Input/Observation này có thể lặp lại nhiều lần)\n",
    "Thought: bây giờ tôi đã biết câu trả lời cuối cùng\n",
    "Final Answer: câu trả lời cuối cùng cho câu hỏi ban đầu\n",
    "\n",
    "Bắt đầu!\n",
    "\n",
    "Question: {input}\n",
    "Thought:{agent_scratchpad}\n",
    "\"\"\"\n",
    "\n",
    "prompt = PromptTemplate.from_template(template=prompt_template_string)\n",
    "\n",
    "# ---- BƯỚC 5: TẠO AGENT ----\n",
    "# \"Agent\" là sự kết hợp giữa LLM và Prompt, quyết định hành động nào cần thực hiện.\n",
    "agent = create_react_agent(llm, tools, prompt)\n",
    "\n",
    "# ---- BƯỚC 6: TẠO AGENT EXECUTOR ----\n",
    "# \"Agent Executor\" là thứ thực sự chạy vòng lặp:\n",
    "# 1. Nó nhận input từ người dùng.\n",
    "# 2. Gửi cho Agent để lấy chuỗi Thought/Action.\n",
    "# 3. Thực thi Action bằng công cụ.\n",
    "# 4. Lấy kết quả (Observation) và gửi lại cho Agent.\n",
    "# 5. Lặp lại cho đến khi Agent có câu trả lời cuối cùng.\n",
    "agent_executor = AgentExecutor(agent=agent, tools=tools, verbose=True, handle_parsing_errors=True)\n",
    "\n",
    "# ---- BƯỚC 7: THỰC THI ----\n",
    "# question = \"Giám đốc điều hành của Microsoft hiện tại là ai và ông ấy sinh năm nào?\"\n",
    "question = \"giờ hiện tại việt nam\"\n",
    "\n",
    "response = agent_executor.invoke({\"input\": question})\n",
    "\n",
    "print(\"\\n--- KẾT QUẢ CUỐI CÙNG ---\")\n",
    "print(response[\"output\"])"
   ]
  },
  {
   "cell_type": "code",
   "execution_count": 15,
   "id": "717200d7",
   "metadata": {},
   "outputs": [
    {
     "name": "stderr",
     "output_type": "stream",
     "text": [
      "c:\\Users\\Admin\\miniconda3\\envs\\crypto_agent\\Lib\\site-packages\\langchain_community\\utilities\\duckduckgo_search.py:63: RuntimeWarning: This package (`duckduckgo_search`) has been renamed to `ddgs`! Use `pip install ddgs` instead.\n",
      "  with DDGS() as ddgs:\n"
     ]
    },
    {
     "name": "stdout",
     "output_type": "stream",
     "text": [
      "Oct 31, 2009 · Sexuality Forum : Open Discussions about Sexuality and Related Issues. Mar 19, 2011 · Forum rules You are entering a forum that contains discussions of abuse, some of which are explicit in nature. The topics discussed may be triggering to some people. Please be … Mar 11, 2017 · I don't think you've run out of time. However, it may be difficult. I was molested at 12 or 13 by a pederast, and the effects have stayed with me my entire life, in the form of a … May 28, 2010 · He sat in the back bedroom on his computer watching porn and chatting with who all knows, while I stayed in the other end of the house on my computer hiding from him. Aug 19, 2012 · I think you should feel some guilt because although you were only nine years old, you're brother was also young at thirteen years old at the time. Your brother was probably …\n"
     ]
    }
   ],
   "source": [
    "\n",
    "search_tool = DuckDuckGoSearchRun()\n",
    "text = search_tool.run(\"trốn nghĩa vụ quân sự bị gì\")\n",
    "print(text)"
   ]
  },
  {
   "cell_type": "code",
   "execution_count": null,
   "id": "cf8eeb3b",
   "metadata": {},
   "outputs": [],
   "source": []
  },
  {
   "cell_type": "code",
   "execution_count": 4,
   "id": "bc8e35cf",
   "metadata": {},
   "outputs": [],
   "source": [
    "REASONING_PROMPT = \"\"\"\n",
    "Bạn là một hệ thống phân tích truy vấn người dùng, giúp chatbot AI trả lời chính xác và nhanh chóng.\n",
    "\n",
    "Thực hiện từng bước như sau:\n",
    "1. **Lý luận (Thought)** về mục đích người dùng muốn hỏi gì.\n",
    "2. Nếu cần, **gọi tool (Action + Action Input)** để tìm thông tin từ web.\n",
    "3. Nhận kết quả từ tool (Observation).\n",
    "4. **Lý luận tiếp** từ Observation.\n",
    "5. Kết thúc bằng câu trả lời rõ ràng cho người dùng (**Final Answer**).\n",
    "\n",
    "Định dạng trả lời:\n",
    "\n",
    "Thought: <phân tích mục đích câu hỏi>\n",
    "Action: <tên tool>\n",
    "Action Input: <dữ liệu gửi vào tool>\n",
    "Observation: <kết quả từ tool>\n",
    "Thought: <tư duy lại sau khi có dữ kiện từ tool>\n",
    "Final Answer: <câu trả lời cuối cùng cho người dùng>\n",
    "\n",
    "Câu hỏi của người dùng: \"{query}\"\n",
    "\"\"\""
   ]
  },
  {
   "cell_type": "code",
   "execution_count": 2,
   "id": "36c65410",
   "metadata": {},
   "outputs": [],
   "source": [
    "from dotenv import load_dotenv\n",
    "import os\n",
    "from openai import OpenAI\n",
    "load_dotenv()\n",
    "client = OpenAI(api_key=os.getenv(\"OPENAI_API_KEY\"))"
   ]
  },
  {
   "cell_type": "code",
   "execution_count": 3,
   "id": "8248f16f",
   "metadata": {},
   "outputs": [],
   "source": [
    "def web_search(query: str) -> str:\n",
    "    # if \"thời gian hiện tại\" in query:\n",
    "    if \"\" in query:\n",
    "        return \"Bây giờ là 21:30 ngày 7 tháng 8 năm 2025 tại Việt Nam.\"\n",
    "    return \"Không tìm thấy kết quả phù hợp.\""
   ]
  },
  {
   "cell_type": "code",
   "execution_count": null,
   "id": "8bbb0b99",
   "metadata": {},
   "outputs": [],
   "source": [
    "system_prompt = {\n",
    "    \"role\": \"system\",\n",
    "    \"content\":\"bạn là một trợ lý AI có khả năng lý luận theo từng bước\"\n",
    "}\n",
    "\n",
    "initial_user_prompt = {\n",
    "    \"role\": \"user\",\n",
    "    \"content\": '''\n",
    "Hiện tại là tháng 8 năm 2025.\n",
    "Hãy trả lời câu hỏi của tôi bằng cách mô phỏng các bước reasoning bạn có thể dùng tool là web_search cung cấp thông tin trên web,\n",
    "hãy diễn đạt rõ ràng theo định dạng:\n",
    "Thought: làm rõ phân tích câu hỏi của người dùng\n",
    "Action: phân tích câu hỏi nếu cần dùng web_search, ghi [web_search] hoặc bỏ qua\n",
    "Action Input: đầu vào cho công cụ web_search ghi rõ[\"input_web_search\"]\n",
    "Observation: kết quả giả định từ công cụ (nếu có) và từ khóa 'Observation:' phải có\n",
    "Final Answer: câu trả lời cuối cùng\n",
    "\n",
    "Ví dụ nếu tôi hỏi \"Thời gian hiện tại ở Việt Nam là bao nhiêu?\", bạn có thể quyết định gọi công cụ [web_search], nhập input để tìm kiếm và tiếp tục reasoning dựa trên kết quả trả về.\n",
    "\n",
    "Câu hỏi của tôi: **\"tôi muốn biết về luật nghĩa vụ quân sư\"**\n",
    "'''\n",
    "}"
   ]
  },
  {
   "cell_type": "code",
   "execution_count": null,
   "id": "5f93d443",
   "metadata": {},
   "outputs": [],
   "source": []
  },
  {
   "cell_type": "code",
   "execution_count": 110,
   "id": "84e37760",
   "metadata": {},
   "outputs": [
    {
     "name": "stdout",
     "output_type": "stream",
     "text": [
      "=== Response ===\n",
      "Thought: Người dùng muốn biết về \"luật nghĩa vụ quân sự\", có thể đang quan tâm đến các quy định pháp luật liên quan đến nghĩa vụ quân sự tại Việt Nam hoặc các nước khác. Để cung cấp thông tin chính xác, tôi cần xác định rõ nội dung liên quan đến luật này và có thể cần tìm các quy định pháp luật mới nhất hoặc các hướng dẫn thực thi. Do đó, tôi sẽ sử dụng công cụ [web_search] để tìm kiếm các thông tin cập nhật về luật nghĩa vụ quân sự tại Việt Nam.\n",
      "\n",
      "Action: [web_search]\n",
      "\n",
      "Action Input: [\"luật nghĩa vụ quân sự Việt Nam 2025\"]\n",
      "\n"
     ]
    }
   ],
   "source": [
    "# Bước 1: Gọi LLM lấy bước đầu\n",
    "\n",
    "response = client.chat.completions.create(\n",
    "    model=\"gpt-4.1-nano\",\n",
    "    \n",
    "    messages = [system_prompt, initial_user_prompt],\n",
    "    temperature=1,\n",
    "    stop=[\"Observation:\"],\n",
    "    stream=True\n",
    ")\n",
    "print(\"=== Response ===\")\n",
    "collected = \"\"\n",
    "for chunk in response:\n",
    "    delta = chunk.choices[0].delta\n",
    "    content = getattr(delta, \"content\", None)\n",
    "    if content:\n",
    "        print(content, end='', flush=True)\n",
    "        collected += content\n",
    "        \n",
    "# import requests\n",
    "# url = \"http://localhost:8000/api/rag/web_search\"\n",
    "\n",
    "# payload =  {\"query\":\"thông tin về luật nghĩa vụ quân sự\"}\n",
    "\n",
    "\n",
    "# headers = {\n",
    "#     \"Content-Type\": \"application/json\"\n",
    "# }\n",
    "\n",
    "# response = requests.post(url, json=payload, headers=headers)\n",
    "\n",
    "# if response.status_code == 200:\n",
    "#     data = response.json()\n",
    "#     print(\"Kết quả truy xuất:\")\n",
    "#     print(data)\n",
    "# else:\n",
    "#     print(f\"Lỗi khi gọi API: {response.status_code} - {response.text}\")"
   ]
  },
  {
   "cell_type": "code",
   "execution_count": 114,
   "id": "21bb15a5",
   "metadata": {},
   "outputs": [
    {
     "name": "stdout",
     "output_type": "stream",
     "text": [
      "Tool: web_search\n",
      "Input: ['Luật nghĩa vụ quân sự Việt Nam mới nhất 2025']\n"
     ]
    }
   ],
   "source": [
    "import re\n",
    "\n",
    "def extract_tool_and_input(text):\n",
    "    tool_match = re.search(r'Action:\\s*\\[(\\w+)\\]', text)\n",
    "    input_match = re.search(r'Action Input:\\s*\\[(.*?)\\]', text)\n",
    "\n",
    "    tool = tool_match.group(1) if tool_match else None\n",
    "    input_str = input_match.group(1) if input_match else None\n",
    "\n",
    "    # Tách chuỗi input nếu là danh sách nhiều chuỗi\n",
    "    if input_str:\n",
    "        inputs = [s.strip().strip('\"') for s in input_str.split(',')]\n",
    "    else:\n",
    "        inputs = []\n",
    "\n",
    "    return tool, inputs\n",
    "\n",
    "# === DEMO ===\n",
    "text = '''\n",
    "Action: [web_search]\n",
    "Action Input: [\"Luật nghĩa vụ quân sự Việt Nam mới nhất 2025\"]\n",
    "'''\n",
    "\n",
    "tool, inputs = extract_tool_and_input(text)\n",
    "print(\"Tool:\", tool)\n",
    "print(\"Input:\", inputs)\n"
   ]
  },
  {
   "cell_type": "code",
   "execution_count": 116,
   "id": "1837b492",
   "metadata": {},
   "outputs": [
    {
     "name": "stdout",
     "output_type": "stream",
     "text": [
      "Kết quả truy xuất:\n",
      "{'results': {'query': 'Luật nghĩa vụ quân sự Việt Nam mới nhất 2025', 'urls_processed': 3, 'successful_extractions': 3, 'total_documents_sent': 3, 'log_consolidation_task': '6d2ff878-67d7-49b8-84e8-51a83f235cd3', 'results': [{'url': 'http://baoquankhu4.com.vn/phapluat/toi-tron-tranh-nghia-vu-quan-su-co-muc-phat-tu-cao-nhat-len-den-5-nam.html', 'success': True, 'document_sent': True, 'text_length': 2446, 'method': 'requests', 'extraction_time': 0.4650416374206543, 'doc_id': 'eafcd4b4-c5c8-4dde-9619-7df7a766f698'}, {'url': 'https://tapchitoaan.vn/toi-tron-tranh-nghia-vu-quan-su-va-toi-khong-chap-hanh-lenh-goi-quan-nhan-du-bi-nhap-ngu-theo-quy-dinh-cua-bo-luat-hinh-su-viet-nam-nam-2015-nhung-van-de-ly-luan-thuc-tien-va-giai-phap-hoan-thien12828.html', 'success': True, 'document_sent': True, 'text_length': 31517, 'method': 'requests', 'extraction_time': 0.7654092311859131, 'doc_id': '86259323-4d45-4443-a7f9-6fcd0a39125f'}, {'url': 'https://baoquankhu7.vn/toi-tron-tranh-nghia-vu-quan-su-co-the-bi-phat-tu-den-5-nam-262441672-0044940s34010gs', 'success': True, 'document_sent': True, 'text_length': 1424, 'method': 'requests', 'extraction_time': 0.9610083103179932, 'doc_id': 'd33cae48-10f3-494d-b9f7-9b333b4ef67b'}]}}\n"
     ]
    }
   ],
   "source": [
    "import requests\n",
    "\n",
    "url = \"http://localhost:8000/api/rag/web_search\"\n",
    "\n",
    "payload =  {\"query\":inputs[0]}\n",
    "\n",
    "\n",
    "headers = {\n",
    "    \"Content-Type\": \"application/json\"\n",
    "}\n",
    "\n",
    "response = requests.post(url, json=payload, headers=headers)\n",
    "\n",
    "if response.status_code == 200:\n",
    "    data = response.json()\n",
    "    print(\"Kết quả truy xuất:\")\n",
    "    print(data)\n",
    "else:\n",
    "    print(f\"Lỗi khi gọi API: {response.status_code} - {response.text}\")"
   ]
  },
  {
   "cell_type": "code",
   "execution_count": 122,
   "id": "5f1fd892",
   "metadata": {},
   "outputs": [
    {
     "data": {
      "text/plain": [
       "{'query': 'Luật nghĩa vụ quân sự Việt Nam mới nhất 2025',\n",
       " 'urls_processed': 3,\n",
       " 'successful_extractions': 3,\n",
       " 'total_documents_sent': 3,\n",
       " 'log_consolidation_task': '6d2ff878-67d7-49b8-84e8-51a83f235cd3',\n",
       " 'results': [{'url': 'http://baoquankhu4.com.vn/phapluat/toi-tron-tranh-nghia-vu-quan-su-co-muc-phat-tu-cao-nhat-len-den-5-nam.html',\n",
       "   'success': True,\n",
       "   'document_sent': True,\n",
       "   'text_length': 2446,\n",
       "   'method': 'requests',\n",
       "   'extraction_time': 0.4650416374206543,\n",
       "   'doc_id': 'eafcd4b4-c5c8-4dde-9619-7df7a766f698'},\n",
       "  {'url': 'https://tapchitoaan.vn/toi-tron-tranh-nghia-vu-quan-su-va-toi-khong-chap-hanh-lenh-goi-quan-nhan-du-bi-nhap-ngu-theo-quy-dinh-cua-bo-luat-hinh-su-viet-nam-nam-2015-nhung-van-de-ly-luan-thuc-tien-va-giai-phap-hoan-thien12828.html',\n",
       "   'success': True,\n",
       "   'document_sent': True,\n",
       "   'text_length': 31517,\n",
       "   'method': 'requests',\n",
       "   'extraction_time': 0.7654092311859131,\n",
       "   'doc_id': '86259323-4d45-4443-a7f9-6fcd0a39125f'},\n",
       "  {'url': 'https://baoquankhu7.vn/toi-tron-tranh-nghia-vu-quan-su-co-the-bi-phat-tu-den-5-nam-262441672-0044940s34010gs',\n",
       "   'success': True,\n",
       "   'document_sent': True,\n",
       "   'text_length': 1424,\n",
       "   'method': 'requests',\n",
       "   'extraction_time': 0.9610083103179932,\n",
       "   'doc_id': 'd33cae48-10f3-494d-b9f7-9b333b4ef67b'}]}"
      ]
     },
     "execution_count": 122,
     "metadata": {},
     "output_type": "execute_result"
    }
   ],
   "source": [
    "data.get(\"results\")"
   ]
  },
  {
   "cell_type": "code",
   "execution_count": null,
   "id": "6d35a85a",
   "metadata": {},
   "outputs": [
    {
     "data": {
      "text/plain": [
       "[{'role': 'system',\n",
       "  'content': 'Bạn là một AI reasoning theo định dạng Thought, Action, Observation, Final Answer.'},\n",
       " {'role': 'user',\n",
       "  'content': 'Câu hỏi của người dùng: \"Hiện tại là mấy giờ ở Việt Nam?\"\\n\\nHãy suy nghĩ từng bước:\\n- Thought: người dùng đang hỏi điều gì\\n- Action: nếu cần dùng tool, hãy chỉ rõ tên tool\\n- Action Input: thông tin bạn cần gửi vào tool\\n- Observation: kết quả sau khi tool trả về\\n- Final Answer: câu trả lời cuối cùng\\n\\nTrả lời chỉ theo định dạng:\\nThought: ...\\nAction: ...\\nAction Input: ...\\n'},\n",
       " {'role': 'assistant',\n",
       "  'content': 'Thought: Người dùng muốn biết thời gian hiện tại ở Việt Nam.\\nAction: Sử dụng công cụ xem thời gian theo múi giờ trên internet.\\nAction Input: Múi giờ của Việt Nam (GMT+7).\\nObservation: Công cụ trả về thời gian hiện tại ở múi giờ GMT+7.\\nFinal Answer: Thời gian hiện tại ở Việt Nam là ... (phụ thuộc vào thời điểm công cụ trả về).'},\n",
       " {'role': 'user',\n",
       "  'content': 'Observation: Bây giờ là 21:30 ngày 7 tháng 8 năm 2025 tại Việt Nam.\\n\\nHãy suy nghĩ tiếp và kết thúc câu trả lời:\\nThought: ...\\nFinal Answer: ...\\n'}]"
      ]
     },
     "execution_count": 14,
     "metadata": {},
     "output_type": "execute_result"
    }
   ],
   "source": [
    "# Bước 1: Gọi LLM lấy bước đầu\n",
    "messages = [system_prompt, initial_user_prompt]\n",
    "output = call_llm(messages)\n",
    "print(\"--- First Reasoning ---\\n\" + output)\n",
    "\n",
    "# # Phân tích phần Action và Action Input\n",
    "# lines = output.strip().splitlines()\n",
    "# action = next((l.replace(\"Action:\", \"\").strip() for l in lines if l.startswith(\"Action:\")), None)\n",
    "# action_input = next((l.replace(\"Action Input:\", \"\").strip() for l in lines if l.startswith(\"Action Input:\")), None)\n",
    "\n",
    "# # Bước 2: Gọi tool\n",
    "# observation = web_search(action_input)\n",
    "# print(\"\\n--- Tool Output ---\")\n",
    "# print(\"Observation:\", observation)\n",
    "\n",
    "# # Bước 3: Gửi tiếp prompt cho LLM cùng với Observation\n",
    "# followup_prompt = {\n",
    "#     \"role\": \"user\",\n",
    "#     \"content\": f'''\\\n",
    "# Observation: {observation}\n",
    "\n",
    "# Hãy suy nghĩ tiếp và kết thúc câu trả lời:\n",
    "# Thought: ...\n",
    "# Final Answer: ...\n",
    "# '''\n",
    "# }\n",
    "# messages.append({\"role\": \"assistant\", \"content\": output})  # output từ bước trước\n",
    "# messages.append(followup_prompt)\n",
    "\n",
    "# # Bước 4: LLM lý luận tiếp và trả ra Final Answer\n",
    "# final_response = call_llm(messages)\n",
    "# print(\"\\n--- Final Reasoning ---\\n\" + final_response)"
   ]
  }
 ],
 "metadata": {
  "kernelspec": {
   "display_name": "crypto_agent",
   "language": "python",
   "name": "python3"
  },
  "language_info": {
   "codemirror_mode": {
    "name": "ipython",
    "version": 3
   },
   "file_extension": ".py",
   "mimetype": "text/x-python",
   "name": "python",
   "nbconvert_exporter": "python",
   "pygments_lexer": "ipython3",
   "version": "3.12.11"
  }
 },
 "nbformat": 4,
 "nbformat_minor": 5
}
