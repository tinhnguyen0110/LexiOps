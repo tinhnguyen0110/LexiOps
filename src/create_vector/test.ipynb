{
 "cells": [
  {
   "cell_type": "code",
   "execution_count": 67,
   "id": "c9e27397",
   "metadata": {},
   "outputs": [
    {
     "data": {
      "text/plain": [
       "True"
      ]
     },
     "execution_count": 67,
     "metadata": {},
     "output_type": "execute_result"
    }
   ],
   "source": [
    "import pandas as pd\n",
    "from qdrant_client import QdrantClient, models\n",
    "# from FlagEmbedding import BGEM3FlagModel\n",
    "from openai import OpenAI\n",
    "import os\n",
    "import ast\n",
    "import re\n",
    "import json\n",
    "import tqdm\n",
    "from typing import List, Dict, Any, Iterable\n",
    "from dotenv import load_dotenv\n",
    "from utils import *\n",
    "import uuid\n",
    "load_dotenv()"
   ]
  },
  {
   "cell_type": "markdown",
   "id": "736da765",
   "metadata": {},
   "source": [
    "# CREATE VECTOR"
   ]
  },
  {
   "cell_type": "code",
   "execution_count": 36,
   "id": "64c960cf",
   "metadata": {},
   "outputs": [],
   "source": [
    "import hashlib\n",
    "\n",
    "def generate_point_id(cid:  int, chunk_text: str) -> str:\n",
    "    hash_obj = hashlib.sha1(f\"{cid}-{chunk_text}\".encode('utf-8')).hexdigest()\n",
    "    return str(uuid.UUID(hash_obj[:32]))"
   ]
  },
  {
   "cell_type": "code",
   "execution_count": 37,
   "id": "bd7302af",
   "metadata": {},
   "outputs": [],
   "source": [
    "def build_clients():\n",
    "    oa = OpenAI(api_key=os.environ.get(\"OPENAI_API_KEY\"))\n",
    "    qdrant = QdrantClient(\n",
    "        url=os.environ.get(\"QDRANT_URL\", \"http://localhost:6333\"),  # None nếu local\n",
    "        timeout=60,\n",
    "    )\n",
    "    return oa, qdrant"
   ]
  },
  {
   "cell_type": "code",
   "execution_count": 38,
   "id": "3bd9a99a",
   "metadata": {},
   "outputs": [],
   "source": [
    "def embed_texts(client_oa: OpenAI, texts: List[str], model: str) -> List[List[float]]:\n",
    "    \"\"\"Embed 1 danh sách texts, trả về list vectors theo đúng thứ tự.\"\"\"\n",
    "    resp = client_oa.embeddings.create(model=model, input=texts)\n",
    "    return [item.embedding for item in resp.data]"
   ]
  },
  {
   "cell_type": "code",
   "execution_count": 39,
   "id": "90fa3df2",
   "metadata": {},
   "outputs": [],
   "source": [
    "\n",
    "def create_fixed_chunks(text, max_word_count=400):\n",
    "    sentences = re.split(r'(?<=[.!?]) +', text)\n",
    "    chunks, current_chunk, word_count = [], \"\", 0\n",
    "    for sentence in sentences:\n",
    "        wc = len(sentence.split())\n",
    "        if word_count + wc > max_word_count:\n",
    "            if current_chunk:\n",
    "                chunks.append(current_chunk.strip())\n",
    "            current_chunk, word_count = sentence, wc\n",
    "        else:\n",
    "            current_chunk += \" \" + sentence if current_chunk else sentence\n",
    "            word_count += wc\n",
    "    if current_chunk:\n",
    "        chunks.append(current_chunk.strip())\n",
    "    return chunks"
   ]
  },
  {
   "cell_type": "code",
   "execution_count": 70,
   "id": "7f7471b3",
   "metadata": {},
   "outputs": [],
   "source": [
    "from qdrant_client.models import VectorParams, Distance, PointStruct\n",
    "from tqdm import tqdm\n",
    "\n",
    "def index_corpus_to_qdrant(data, model, vector_size, collection_name: str):\n",
    "    \n",
    "    oa, qdrant = build_clients()\n",
    "    \n",
    "    qdrant.recreate_collection(\n",
    "        collection_name=collection_name,\n",
    "        vectors_config=VectorParams(size=vector_size, distance=Distance.COSINE),\n",
    "    )\n",
    "    # Build points\n",
    "    points = []\n",
    "    for row in tqdm(data.itertuples(), total=len(data)):\n",
    "        chunks = create_fixed_chunks(row.text)\n",
    "        dense_vectors = embed_texts(oa, chunks, model)\n",
    "        for i, (chunk, dense_vector) in enumerate(zip(chunks, dense_vectors)):\n",
    "            point_id = generate_point_id(row.cid, chunk)\n",
    "            payload = {\n",
    "                \"cid\": int(row.cid),\n",
    "                \"chunk_index\": i,\n",
    "                \"text\": chunk\n",
    "            }\n",
    "            \n",
    "            points.append(PointStruct(\n",
    "                id=point_id, \n",
    "                vector=dense_vector,   \n",
    "                payload=payload))\n",
    "        if len(points) > 50:\n",
    "            # Upsert to Qdrant\n",
    "            print(f\"Uploading {len(points)} vectors to Qdrant...\")\n",
    "            qdrant.upsert(collection_name=collection_name, points=points)\n",
    "            points = []\n",
    "            print(\"✅ Done uploading batch.\")\n",
    "            \n",
    "        # Upsert remaining points\n",
    "    if points:\n",
    "        print(f\"Uploading remaining {len(points)} vectors to Qdrant...\")\n",
    "        qdrant.upsert(collection_name=collection_name, points=points)\n",
    "        print(\"✅ Done uploading final batch.\")"
   ]
  },
  {
   "cell_type": "code",
   "execution_count": 61,
   "id": "936df854",
   "metadata": {},
   "outputs": [],
   "source": [
    "MODEL = \"text-embedding-3-small\"  # hoặc \"text-embedding-3-large\"\n",
    "MODEL_DIM = 1536\n",
    "COLLECTION = \"law_corpus_openai\"         # tên collection trong Qdrant\n",
    "data =pd.read_csv(r\"D:\\Data\\Legal-Retrieval\\data\\data_corpus\\corpus.csv\")\n",
    "df_shuffled = data.sample(frac=1, random_state=42).reset_index(drop=True)"
   ]
  },
  {
   "cell_type": "code",
   "execution_count": 74,
   "id": "1592f81b",
   "metadata": {},
   "outputs": [
    {
     "name": "stdout",
     "output_type": "stream",
     "text": [
      "Số lượng documents: 2000\n"
     ]
    }
   ],
   "source": [
    "df_save = df_shuffled[:2000]  # Tăng từ 1000 lên 2000 mẫu\n",
    "print(f\"Số lượng documents: {len(df_save)}\")"
   ]
  },
  {
   "cell_type": "code",
   "execution_count": null,
   "id": "e0a73b93",
   "metadata": {},
   "outputs": [],
   "source": [
    "index_corpus_to_qdrant(df_save,MODEL,MODEL_DIM,COLLECTION)"
   ]
  },
  {
   "cell_type": "code",
   "execution_count": null,
   "id": "7dece2ae",
   "metadata": {},
   "outputs": [
    {
     "name": "stderr",
     "output_type": "stream",
     "text": [
      "C:\\Users\\Admin\\AppData\\Local\\Temp\\ipykernel_31000\\3725064985.py:3: UserWarning: Qdrant client version 1.15.0 is incompatible with server version 1.8.4. Major versions should match and minor version difference must not exceed 1. Set check_compatibility=False to skip version check.\n",
      "  qdrant = QdrantClient(\n",
      "C:\\Users\\Admin\\AppData\\Local\\Temp\\ipykernel_31000\\3967376385.py:5: DeprecationWarning: `recreate_collection` method is deprecated and will be removed in the future. Use `collection_exists` to check collection existence and `create_collection` instead.\n",
      "  qdrant.recreate_collection(\n",
      "100%|██████████| 4/4 [00:02<00:00,  1.64it/s]"
     ]
    },
    {
     "name": "stdout",
     "output_type": "stream",
     "text": [
      "Uploading remaining 6 vectors to Qdrant...\n",
      "✅ Done uploading final batch.\n"
     ]
    },
    {
     "name": "stderr",
     "output_type": "stream",
     "text": [
      "\n"
     ]
    }
   ],
   "source": [
    "\n",
    "# oa, qdrant = build_clients()\n",
    "# vector_size = MODEL_DIM\n",
    "# collection_name = COLLECTION\n",
    "# model = MODEL\n",
    "# qdrant.recreate_collection(\n",
    "#     collection_name=collection_name,\n",
    "#     vectors_config=VectorParams(size=vector_size, distance=Distance.COSINE),\n",
    "# )\n",
    "# # Build points\n",
    "# points = []\n",
    "# for row in tqdm(df_save.itertuples(), total=len(df_save)):\n",
    "#     chunks = create_fixed_chunks(row.text)\n",
    "#     dense_vectors = embed_texts(oa,chunks,model)\n",
    "#     for i, (chunk,dense_vector) in enumerate(zip(chunks,dense_vectors)):\n",
    "#         point_id = generate_point_id(row.cid, chunk)\n",
    "#         payload = {\n",
    "#             \"cid\": int(row.cid),\n",
    "#             \"chunk_index\": i,\n",
    "#             \"text\": chunk\n",
    "#         }\n",
    "        \n",
    "#         points.append(PointStruct(\n",
    "#             id=point_id, \n",
    "#             vector=dense_vector,   \n",
    "#             # \"sparse\": sparse_vector  \n",
    "#             payload=payload))\n",
    "#     if len(points) > 50:\n",
    "#         # Upsert to Qdrant\n",
    "#         # print(f\"Uploading {len(points)} vectors to Qdrant...\")\n",
    "#         qdrant.upsert(collection_name=collection_name, points=points)\n",
    "#         points = []\n",
    "#         # print(\"✅ Done uploading batch.\")\n",
    "        \n",
    "#     # Upsert remaining points\n",
    "# if points:\n",
    "#     print(f\"Uploading remaining {len(points)} vectors to Qdrant...\")\n",
    "#     qdrant.upsert(collection_name=collection_name, points=points)\n",
    "#     print(\"✅ Done uploading final batch.\")"
   ]
  },
  {
   "cell_type": "code",
   "execution_count": 76,
   "id": "2246590a",
   "metadata": {},
   "outputs": [
    {
     "name": "stderr",
     "output_type": "stream",
     "text": [
      "C:\\Users\\Admin\\AppData\\Local\\Temp\\ipykernel_31000\\3725064985.py:3: UserWarning: Qdrant client version 1.15.0 is incompatible with server version 1.8.4. Major versions should match and minor version difference must not exceed 1. Set check_compatibility=False to skip version check.\n",
      "  qdrant = QdrantClient(\n"
     ]
    },
    {
     "name": "stdout",
     "output_type": "stream",
     "text": [
      "Testing query: luật hợp đồng lao động\n",
      "Vector dimension: 1536\n",
      "\n",
      "Found 5 results:\n",
      "\n",
      "1. Score: 0.5847\n",
      "   CID: 30328\n",
      "   Text: Thông tư này quy định về mức trần tiền ký quỹ và thị trường lao động mà doanh nghiệp hoạt động dịch vụ đưa người lao động Việt Nam đi làm việc ở nước ...\n",
      "\n",
      "2. Score: 0.5577\n",
      "   CID: 636702\n",
      "   Text: Mục 4. HỢP ĐỒNG LAO ĐỘNG VÔ HIỆU\n",
      "Điều 49. Hợp đồng lao động vô hiệu\n",
      "1. Hợp đồng lao động vô hiệu toàn bộ trong trường hợp sau đây:\n",
      "a) Toàn bộ nội dung...\n",
      "\n",
      "3. Score: 0.5565\n",
      "   CID: 28255\n",
      "   Text: 1. Nghĩa vụ của người lao động khi đơn phương chấm dứt hợp đồng lao động không đúng quy định tại Điều 11 Nghị định số 27/2014/NĐ-CP:\n",
      "a) Không được trợ...\n",
      "\n",
      "4. Score: 0.5521\n",
      "   CID: 65552\n",
      "   Text: Quyền đơn phương chấm dứt hợp đồng lao động của người sử dụng lao động\n",
      "1. Người sử dụng lao động có quyền đơn phương chấm dứt hợp đồng lao động trong ...\n",
      "\n",
      "5. Score: 0.5494\n",
      "   CID: 122382\n",
      "   Text: \"Điều 7. Các hành vi bị nghiêm cấm trong lĩnh vực người lao động Việt Nam đi làm việc ở nước ngoài theo hợp đồng\n",
      "1. Lôi kéo, dụ dỗ, hứa hẹn, quảng cáo...\n",
      "Vector dimension: 1536\n",
      "\n",
      "Found 5 results:\n",
      "\n",
      "1. Score: 0.5847\n",
      "   CID: 30328\n",
      "   Text: Thông tư này quy định về mức trần tiền ký quỹ và thị trường lao động mà doanh nghiệp hoạt động dịch vụ đưa người lao động Việt Nam đi làm việc ở nước ...\n",
      "\n",
      "2. Score: 0.5577\n",
      "   CID: 636702\n",
      "   Text: Mục 4. HỢP ĐỒNG LAO ĐỘNG VÔ HIỆU\n",
      "Điều 49. Hợp đồng lao động vô hiệu\n",
      "1. Hợp đồng lao động vô hiệu toàn bộ trong trường hợp sau đây:\n",
      "a) Toàn bộ nội dung...\n",
      "\n",
      "3. Score: 0.5565\n",
      "   CID: 28255\n",
      "   Text: 1. Nghĩa vụ của người lao động khi đơn phương chấm dứt hợp đồng lao động không đúng quy định tại Điều 11 Nghị định số 27/2014/NĐ-CP:\n",
      "a) Không được trợ...\n",
      "\n",
      "4. Score: 0.5521\n",
      "   CID: 65552\n",
      "   Text: Quyền đơn phương chấm dứt hợp đồng lao động của người sử dụng lao động\n",
      "1. Người sử dụng lao động có quyền đơn phương chấm dứt hợp đồng lao động trong ...\n",
      "\n",
      "5. Score: 0.5494\n",
      "   CID: 122382\n",
      "   Text: \"Điều 7. Các hành vi bị nghiêm cấm trong lĩnh vực người lao động Việt Nam đi làm việc ở nước ngoài theo hợp đồng\n",
      "1. Lôi kéo, dụ dỗ, hứa hẹn, quảng cáo...\n"
     ]
    },
    {
     "name": "stderr",
     "output_type": "stream",
     "text": [
      "C:\\Users\\Admin\\AppData\\Local\\Temp\\ipykernel_31000\\3489158105.py:13: DeprecationWarning: `search` method is deprecated and will be removed in the future. Use `query_points` instead.\n",
      "  results = qdrant.search(\n"
     ]
    }
   ],
   "source": [
    "# Test search trực tiếp trên collection\n",
    "oa, qdrant = build_clients()\n",
    "\n",
    "# Test query\n",
    "test_query = \"luật hợp đồng lao động\"\n",
    "print(f\"Testing query: {test_query}\")\n",
    "\n",
    "# Get embedding\n",
    "vector = embed_texts(oa, [test_query], MODEL)[0]\n",
    "print(f\"Vector dimension: {len(vector)}\")\n",
    "\n",
    "# Search\n",
    "results = qdrant.search(\n",
    "    collection_name=COLLECTION,\n",
    "    query_vector=vector,\n",
    "    limit=5,\n",
    "    with_payload=True\n",
    ")\n",
    "\n",
    "print(f\"\\nFound {len(results)} results:\")\n",
    "for i, result in enumerate(results):\n",
    "    print(f\"\\n{i+1}. Score: {result.score:.4f}\")\n",
    "    print(f\"   CID: {result.payload.get('cid')}\")\n",
    "    print(f\"   Text: {result.payload.get('text')[:150]}...\")"
   ]
  },
  {
   "cell_type": "code",
   "execution_count": 77,
   "id": "d9b8847b",
   "metadata": {},
   "outputs": [
    {
     "name": "stderr",
     "output_type": "stream",
     "text": [
      "C:\\Users\\Admin\\AppData\\Local\\Temp\\ipykernel_31000\\3725064985.py:3: UserWarning: Qdrant client version 1.15.0 is incompatible with server version 1.8.4. Major versions should match and minor version difference must not exceed 1. Set check_compatibility=False to skip version check.\n",
      "  qdrant = QdrantClient(\n"
     ]
    },
    {
     "name": "stdout",
     "output_type": "stream",
     "text": [
      "🔍 Testing Multiple Queries on Local Collection:\n",
      "============================================================\n",
      "\n",
      "1. Query: 'luật hợp đồng lao động'\n"
     ]
    },
    {
     "name": "stderr",
     "output_type": "stream",
     "text": [
      "C:\\Users\\Admin\\AppData\\Local\\Temp\\ipykernel_31000\\1341456841.py:26: DeprecationWarning: `search` method is deprecated and will be removed in the future. Use `query_points` instead.\n",
      "  results = qdrant.search(\n"
     ]
    },
    {
     "name": "stdout",
     "output_type": "stream",
     "text": [
      "   ✅ Found 3 results (scores: ['0.585', '0.558', '0.556'])\n",
      "   📄 Best match: Thông tư này quy định về mức trần tiền ký quỹ và thị trường lao động mà doanh nghiệp hoạt động dịch ...\n",
      "\n",
      "2. Query: 'thời gian làm việc'\n",
      "   ✅ Found 3 results (scores: ['0.682', '0.550', '0.490'])\n",
      "   📄 Best match: Thời gian làm việc\n",
      "1. Chấp hành nghiêm quy định về thời gian làm việc của Nhà nước, của Ngành, của c...\n",
      "\n",
      "3. Query: 'bảo hiểm xã hội'\n",
      "   ✅ Found 3 results (scores: ['0.682', '0.550', '0.490'])\n",
      "   📄 Best match: Thời gian làm việc\n",
      "1. Chấp hành nghiêm quy định về thời gian làm việc của Nhà nước, của Ngành, của c...\n",
      "\n",
      "3. Query: 'bảo hiểm xã hội'\n",
      "   ✅ Found 3 results (scores: ['0.541', '0.525', '0.519'])\n",
      "   📄 Best match: Nguồn vốn thành lập tổ chức bảo hiểm tương hỗ bao gồm:\n",
      "1. Đóng góp của các thành viên sáng lập.\n",
      "2. T...\n",
      "\n",
      "4. Query: 'nghỉ phép năm'\n",
      "   ✅ Found 3 results (scores: ['0.541', '0.525', '0.519'])\n",
      "   📄 Best match: Nguồn vốn thành lập tổ chức bảo hiểm tương hỗ bao gồm:\n",
      "1. Đóng góp của các thành viên sáng lập.\n",
      "2. T...\n",
      "\n",
      "4. Query: 'nghỉ phép năm'\n",
      "   ✅ Found 3 results (scores: ['0.599', '0.534', '0.520'])\n",
      "   📄 Best match: Cách thức giải quyết chế độ nghỉ phép năm (nghỉ phép trong nước đối với công chức, viên chức, người ...\n",
      "\n",
      "5. Query: 'chấm dứt hợp đồng'\n",
      "   ✅ Found 3 results (scores: ['0.599', '0.534', '0.520'])\n",
      "   📄 Best match: Cách thức giải quyết chế độ nghỉ phép năm (nghỉ phép trong nước đối với công chức, viên chức, người ...\n",
      "\n",
      "5. Query: 'chấm dứt hợp đồng'\n",
      "   ✅ Found 3 results (scores: ['0.526', '0.522', '0.501'])\n",
      "   📄 Best match: 1. Quyết toán Hợp đồng\n",
      "Trong vòng... ngày kể từ ngày nghiệm thu hoàn thành toàn bộ nội dung công việ...\n",
      "\n",
      "6. Query: 'What is labor law?'\n",
      "   ✅ Found 3 results (scores: ['0.526', '0.522', '0.501'])\n",
      "   📄 Best match: 1. Quyết toán Hợp đồng\n",
      "Trong vòng... ngày kể từ ngày nghiệm thu hoàn thành toàn bộ nội dung công việ...\n",
      "\n",
      "6. Query: 'What is labor law?'\n",
      "   ✅ Found 3 results (scores: ['0.330', '0.304', '0.302'])\n",
      "   📄 Best match: Đối tượng áp dụng\n",
      "1. Người lao động được hỗ trợ học nghề theo quy định tại Điều 55 Luật Việc làm (sa...\n",
      "\n",
      "7. Query: 'vi phạm luật'\n",
      "   ✅ Found 3 results (scores: ['0.330', '0.304', '0.302'])\n",
      "   📄 Best match: Đối tượng áp dụng\n",
      "1. Người lao động được hỗ trợ học nghề theo quy định tại Điều 55 Luật Việc làm (sa...\n",
      "\n",
      "7. Query: 'vi phạm luật'\n",
      "   ✅ Found 3 results (scores: ['0.590', '0.581', '0.570'])\n",
      "   📄 Best match: Vi phạm quy định về kiểm soát hải quan\n",
      "...\n",
      "5. Phạt tiền từ 40.000.000 đồng đến 60.000.000 đồng đối v...\n",
      "\n",
      "8. Query: 'trách nhiệm người sử dụng lao động'\n",
      "   ✅ Found 3 results (scores: ['0.590', '0.581', '0.570'])\n",
      "   📄 Best match: Vi phạm quy định về kiểm soát hải quan\n",
      "...\n",
      "5. Phạt tiền từ 40.000.000 đồng đến 60.000.000 đồng đối v...\n",
      "\n",
      "8. Query: 'trách nhiệm người sử dụng lao động'\n",
      "   ✅ Found 3 results (scores: ['0.557', '0.548', '0.543'])\n",
      "   📄 Best match: 1. Nghĩa vụ của người lao động khi đơn phương chấm dứt hợp đồng lao động không đúng quy định tại Điề...\n",
      "\n",
      "📊 Collection Stats:\n",
      "   Vectors: 2399\n",
      "   Points: 2399\n",
      "   ✅ Found 3 results (scores: ['0.557', '0.548', '0.543'])\n",
      "   📄 Best match: 1. Nghĩa vụ của người lao động khi đơn phương chấm dứt hợp đồng lao động không đúng quy định tại Điề...\n",
      "\n",
      "📊 Collection Stats:\n",
      "   Vectors: 2399\n",
      "   Points: 2399\n"
     ]
    }
   ],
   "source": [
    "# Test nhiều queries để kiểm tra khả năng retrieval\n",
    "oa, qdrant = build_clients()\n",
    "\n",
    "test_queries = [\n",
    "    \"luật hợp đồng lao động\",\n",
    "    \"thời gian làm việc\", \n",
    "    \"bảo hiểm xã hội\",\n",
    "    \"nghỉ phép năm\",\n",
    "    \"chấm dứt hợp đồng\",\n",
    "    \"What is labor law?\",  # English query\n",
    "    \"vi phạm luật\",\n",
    "    \"trách nhiệm người sử dụng lao động\"\n",
    "]\n",
    "\n",
    "print(\"🔍 Testing Multiple Queries on Local Collection:\")\n",
    "print(\"=\" * 60)\n",
    "\n",
    "for i, query in enumerate(test_queries, 1):\n",
    "    print(f\"\\n{i}. Query: '{query}'\")\n",
    "    \n",
    "    # Get embedding\n",
    "    try:\n",
    "        vector = embed_texts(oa, [query], MODEL)[0]\n",
    "        \n",
    "        # Search\n",
    "        results = qdrant.search(\n",
    "            collection_name=COLLECTION,\n",
    "            query_vector=vector,\n",
    "            limit=3,\n",
    "            with_payload=True\n",
    "        )\n",
    "        \n",
    "        if results:\n",
    "            print(f\"   ✅ Found {len(results)} results (scores: {[f'{r.score:.3f}' for r in results]})\")\n",
    "            best_result = results[0]\n",
    "            print(f\"   📄 Best match: {best_result.payload.get('text')[:100]}...\")\n",
    "        else:\n",
    "            print(f\"   ❌ No results found\")\n",
    "            \n",
    "    except Exception as e:\n",
    "        print(f\"   ❌ Error: {e}\")\n",
    "\n",
    "print(f\"\\n📊 Collection Stats:\")\n",
    "collection_info = qdrant.get_collection(COLLECTION)\n",
    "print(f\"   Vectors: {collection_info.vectors_count}\")\n",
    "print(f\"   Points: {collection_info.points_count}\")"
   ]
  },
  {
   "cell_type": "code",
   "execution_count": null,
   "id": "666ecec9",
   "metadata": {},
   "outputs": [],
   "source": [
    "# class QuestionInference:\n",
    "#     def __init__(self, csv_path, save_pair_path, qdrant_search):\n",
    "#         self.csv_path = csv_path\n",
    "#         self.save_pair_path = save_pair_path\n",
    "#         self.qdrant_search = qdrant_search\n",
    "    \n",
    "#     def load_questions(self):\n",
    "#         \"\"\"Load questions and question_ids from CSV file\"\"\"\n",
    "#         self.questions = pd.read_csv(self.csv_path)\n",
    "    \n",
    "#     def infer_and_save(self):\n",
    "#         \"\"\"Infer each question and save results to a .txt file\"\"\"\n",
    "#         file_name = \"data_round1\"\n",
    "#         with open(os.path.join(self.save_pair_path, file_name + '.json'), 'w') as output_file:\n",
    "#             for row in tqdm.tqdm(self.questions.itertuples(index=False)):\n",
    "#                 question = row.question\n",
    "#                 list_id = convert_to_list(row.cid)\n",
    "#                 list_context = convert_str_to_list(row.context)\n",
    "#                 # create_data for bge\n",
    "#                 save_dict = {}\n",
    "#                 save_dict[\"query\"] = question\n",
    "#                 save_dict[\"pos\"] = []\n",
    "#                 save_dict[\"neg\"] = []\n",
    "#                 for context in list_context:\n",
    "#                     chunk_context = split_text_keeping_sentences(text=context, max_word_count=400)\n",
    "#                     save_dict[\"pos\"] += chunk_context\n",
    "\n",
    "#                 results = self.qdrant_search.search(query_text=question, limit=25)\n",
    "#                 for result in results.points:\n",
    "#                     infor_id = int(result.payload[\"infor_id\"])\n",
    "#                     if infor_id in list_id:\n",
    "#                         continue\n",
    "#                     else:\n",
    "#                         text = result.payload[\"text\"]\n",
    "#                         save_dict[\"neg\"].append(text)\n",
    "\n",
    "#                 output_file.write(json.dumps(save_dict,ensure_ascii=False) + '\\n')\n",
    "                \n",
    "                "
   ]
  },
  {
   "cell_type": "code",
   "execution_count": null,
   "id": "b4102a58",
   "metadata": {},
   "outputs": [],
   "source": [
    "# qdrant_search = QdrantSearch_bge(\n",
    "#     host=\"http://localhost:6333\",\n",
    "#     collection_name=\"law_with_bge_round1\",\n",
    "#     model_name=\"BAAI/bge-m3\",\n",
    "#     use_fp16=True\n",
    "# )"
   ]
  },
  {
   "cell_type": "code",
   "execution_count": null,
   "id": "d8e03497",
   "metadata": {},
   "outputs": [],
   "source": [
    "# questions = pd.read_csv(r\"D:\\Data\\Legal-Retrieval\\data\\train.csv\")\n",
    "# questions"
   ]
  }
 ],
 "metadata": {
  "kernelspec": {
   "display_name": "crypto_agent",
   "language": "python",
   "name": "python3"
  },
  "language_info": {
   "codemirror_mode": {
    "name": "ipython",
    "version": 3
   },
   "file_extension": ".py",
   "mimetype": "text/x-python",
   "name": "python",
   "nbconvert_exporter": "python",
   "pygments_lexer": "ipython3",
   "version": "3.12.11"
  }
 },
 "nbformat": 4,
 "nbformat_minor": 5
}
