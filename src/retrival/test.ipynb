{
 "cells": [
  {
   "cell_type": "code",
   "execution_count": 1,
   "id": "dc812616",
   "metadata": {},
   "outputs": [
    {
     "name": "stderr",
     "output_type": "stream",
     "text": [
      "c:\\Users\\Admin\\miniconda3\\envs\\crypto_agent\\Lib\\site-packages\\tqdm\\auto.py:21: TqdmWarning: IProgress not found. Please update jupyter and ipywidgets. See https://ipywidgets.readthedocs.io/en/stable/user_install.html\n",
      "  from .autonotebook import tqdm as notebook_tqdm\n"
     ]
    }
   ],
   "source": [
    "from rerank import BGEReranker\n",
    "from search_with_bge import QdrantSearchBGE\n",
    "import pandas as pd\n",
    "from tqdm import tqdm\n",
    "from typing import List, Dict, Callable\n"
   ]
  },
  {
   "cell_type": "code",
   "execution_count": 2,
   "id": "22cdfe31",
   "metadata": {},
   "outputs": [],
   "source": [
    "def fix_cid_list(x):\n",
    "    try:\n",
    "        return [int(i) for i in x.strip(\"[]\").split()]\n",
    "    except:\n",
    "        return []"
   ]
  },
  {
   "cell_type": "code",
   "execution_count": 3,
   "id": "9e19e847",
   "metadata": {},
   "outputs": [
    {
     "name": "stderr",
     "output_type": "stream",
     "text": [
      "Fetching 30 files: 100%|██████████| 30/30 [00:00<?, ?it/s]\n"
     ]
    }
   ],
   "source": [
    "bge_search_instance = QdrantSearchBGE(\n",
    "        host=\"http://localhost:6333\",\n",
    "        collection_name= \"law_corpus_bge_v3\",\n",
    "        model_name=\"BAAI/bge-m3\",\n",
    "        use_fp16=True\n",
    "    )"
   ]
  },
  {
   "cell_type": "code",
   "execution_count": 4,
   "id": "dfe8f64c",
   "metadata": {},
   "outputs": [],
   "source": [
    "# client = bge_search_instance.client\n",
    "# query_test = \"Hồ sơ tuyển chọn Thẩm phán Tòa án nhân dân cấp huyện phải được giao lại cho Chánh án Tòa án nhân dân cấp tỉnh quản lý khi nào?\""
   ]
  },
  {
   "cell_type": "code",
   "execution_count": 5,
   "id": "f17d432f",
   "metadata": {},
   "outputs": [],
   "source": [
    "\n",
    "# client.search(\n",
    "#             collection_name=bge_search_instance.collection_name,\n",
    "#             query_vector= bge_search_instance.encode_query(query_test),\n",
    "#             limit=30,\n",
    "#             with_payload=True\n",
    "#         )"
   ]
  },
  {
   "cell_type": "code",
   "execution_count": 6,
   "id": "24f3d246",
   "metadata": {},
   "outputs": [],
   "source": [
    "# bge_results = bge_search_instance.search(\"Thông tư này hướng dẫn tuần tra, canh gác về Đê Điều \",limit=10)\n",
    "# # doc_search = [doc.payload['text'] for doc in bge_results]\n",
    "# bge_results"
   ]
  },
  {
   "cell_type": "code",
   "execution_count": 7,
   "id": "03ad0f47",
   "metadata": {},
   "outputs": [],
   "source": [
    "model_funcs = {\n",
    "    \"BGE-m3\": lambda q: bge_search_instance.search(q, limit=50)\n",
    "}"
   ]
  },
  {
   "cell_type": "code",
   "execution_count": 8,
   "id": "5bc8eba4",
   "metadata": {},
   "outputs": [],
   "source": [
    "def evaluate_recall_at_k(\n",
    "    queries_df: pd.DataFrame,\n",
    "    ground_truth_col: str,  # ví dụ: \"cid\"\n",
    "    model_funcs: Dict,\n",
    "    query_col: str = \"question\",\n",
    "    k_list: List[int] = [3, 5, 10]\n",
    ") -> pd.DataFrame:\n",
    "    \"\"\"\n",
    "    Đánh giá Recall@K cho nhiều mô hình truy hồi.\n",
    "\n",
    "    Parameters:\n",
    "    - queries_df: dataframe chứa câu hỏi và ground truth\n",
    "    - ground_truth_col: tên cột chứa list cid đúng (dạng string list)\n",
    "    - query_col: tên cột chứa câu hỏi\n",
    "    - model_funcs: dict chứa {\"tên mô hình\": func_truy_hồi(query) → list cid}\n",
    "    - k_list: danh sách K để tính recall\n",
    "\n",
    "    Returns:\n",
    "    - DataFrame với các dòng là mô hình và cột là R@k\n",
    "    \"\"\"\n",
    "    recall_results = {model_name: {f\"R@{k}\": 0 for k in k_list} for model_name in model_funcs}\n",
    "    total = len(queries_df)\n",
    "\n",
    "    for row in tqdm(queries_df.itertuples(), total=total):\n",
    "        query = getattr(row, query_col)\n",
    "        gt_cids = set(getattr(row, ground_truth_col))  # ví dụ: \"[1, 2]\"\n",
    "        for model_name, retrieve_func in model_funcs.items():\n",
    "            # print(f\"Evaluating model: {model_name} for query: {query}\")\n",
    "            retrieved_docs = retrieve_func(query)  # list[dict], có key \"cid\"\n",
    "            # print(f\"Model: {model_name}, Query: {query}, Ground Truth CIDs: {gt_cids}\")\n",
    "            # for doc in retrieved_docs[:5]:\n",
    "            #     print(\"cid:\", doc['cid'] , \"score\", doc['score'], \"text:\", doc['text'][:100])\n",
    "            predicted_cids = [doc[\"cid\"] for doc in retrieved_docs]\n",
    "            for k in k_list:\n",
    "                top_k = set(predicted_cids[:k])\n",
    "                if gt_cids & top_k:  # có giao là đúng\n",
    "                    recall_results[model_name][f\"R@{k}\"] += 1\n",
    "\n",
    "    # Chuyển sang % và DataFrame\n",
    "    for model_name in recall_results:\n",
    "        for k in k_list:\n",
    "            recall_results[model_name][f\"R@{k}\"] = round(\n",
    "                recall_results[model_name][f\"R@{k}\"] / total * 100, 2\n",
    "            )\n",
    "\n",
    "    return pd.DataFrame.from_dict(recall_results, orient=\"index\")"
   ]
  },
  {
   "cell_type": "code",
   "execution_count": 9,
   "id": "36367bbe",
   "metadata": {},
   "outputs": [
    {
     "name": "stderr",
     "output_type": "stream",
     "text": [
      "  0%|          | 0/1000 [00:00<?, ?it/s]You're using a XLMRobertaTokenizerFast tokenizer. Please note that with a fast tokenizer, using the `__call__` method is faster than using a method to encode the text followed by a call to the `pad` method to get a padded encoding.\n",
      "100%|██████████| 1000/1000 [04:36<00:00,  3.62it/s]"
     ]
    },
    {
     "name": "stdout",
     "output_type": "stream",
     "text": [
      "         R@3   R@5  R@10  R@30\n",
      "BGE-m3  58.4  65.6  74.4  84.2\n"
     ]
    },
    {
     "name": "stderr",
     "output_type": "stream",
     "text": [
      "\n"
     ]
    }
   ],
   "source": [
    "train_df = pd.read_csv(r\"D:\\Data\\Legal-Retrieval\\data\\train.csv\")\n",
    "train_df = train_df[:1000]\n",
    "train_df[\"cid\"] = train_df[\"cid\"].apply(fix_cid_list)\n",
    "\n",
    "recall_df = evaluate_recall_at_k(\n",
    "    queries_df=train_df,\n",
    "    ground_truth_col=\"cid\",  # giả sử đây là chuỗi dạng \"[1, 2, 3]\"\n",
    "    query_col=\"question\",\n",
    "    model_funcs=model_funcs,\n",
    "    k_list=[3,5,10,30]\n",
    ")\n",
    "print(recall_df)\n",
    "# train_df"
   ]
  },
  {
   "cell_type": "code",
   "execution_count": 10,
   "id": "f55633cd",
   "metadata": {},
   "outputs": [
    {
     "ename": "NameError",
     "evalue": "name 'ccx' is not defined",
     "output_type": "error",
     "traceback": [
      "\u001b[31m---------------------------------------------------------------------------\u001b[39m",
      "\u001b[31mNameError\u001b[39m                                 Traceback (most recent call last)",
      "\u001b[36mCell\u001b[39m\u001b[36m \u001b[39m\u001b[32mIn[10]\u001b[39m\u001b[32m, line 1\u001b[39m\n\u001b[32m----> \u001b[39m\u001b[32m1\u001b[39m \u001b[43mccx\u001b[49m\n",
      "\u001b[31mNameError\u001b[39m: name 'ccx' is not defined"
     ]
    }
   ],
   "source": [
    "ccx"
   ]
  },
  {
   "cell_type": "code",
   "execution_count": null,
   "id": "695a0e9b",
   "metadata": {},
   "outputs": [
    {
     "name": "stderr",
     "output_type": "stream",
     "text": [
      "You're using a XLMRobertaTokenizerFast tokenizer. Please note that with a fast tokenizer, using the `__call__` method is faster than using a method to encode the text followed by a call to the `pad` method to get a padded encoding.\n"
     ]
    },
    {
     "data": {
      "text/plain": [
       "['Thông tư này hướng dẫn tuần tra, canh gác bảo vệ đê Điều trong mùa lũ đối với các tuyến đê sông được phân loại, phân cấp theo quy định tại Điều 4 của Luật Đê Điều.',\n",
       " '1. Người tuần tra, canh gác đê trong khi làm nhiệm vụ phát hiện thấy \\xa0có hư hỏng của đê Điều phải tìm mọi cách nhanh chóng báo cáo cán bộ chuyên trách quản lý đê Điều và Ban Chỉ huy phòng, chống lụt, bão xã để tiến hành xử lý kịp thời.\\n2. Nội dung báo cáo:\\n- Thời gian phát hiện hư hỏng;\\n- Vị trí, đặc điểm, kích thước, diễn biến của hư hỏng và mức độ nguy hiểm;\\n- Đề xuất biện pháp xử lý.\\n3. Trường hợp xét thấy hư hỏng có khả năng diễn biến xấu, đội trưởng phải cử người tăng cường, theo dõi tại chỗ và cứ 30 phút phải báo cáo một lần.\\nTrường hợp hư hỏng có nguy cơ đe dọa an toàn của công trình, phải tiến hành xử lý gấp nhằm ngăn chặn và hạn chế hư hỏng phát triển thêm đồng thời phát tín hiệu báo động theo quy định khoản 2 Điều 7 của Thông tư này. Trong khi chờ lực lượng ứng cứu, những người được phân công theo dõi tuyệt đối không được rời vị trí được giao.\\n4. Khi có sự cố xảy ra, ngoài việc theo dõi và tham gia xử lý, các đội tuần tra, canh gác đê vẫn phải bảo đảm chế độ tuần tra, canh gác đối với toàn bộ đoạn đê được phân công phụ trách.',\n",
       " 'Nhiệm vụ của lực lượng tuần tra, canh gác đê\\n1. Chấp hành sự phân công của Ban chỉ huy phòng, chống lụt, bão các cấp và chịu sự hướng dẫn về chuyên môn nghiệp vụ của cơ quan chuyên trách quản lý đê Điều.\\n2. Tuần tra, canh gác và thường trực trên các điếm canh đê, khi có báo động lũ từ cấp I trở lên đối với tuyến sông có đê. Theo dõi diễn biến của đê Điều; phát hiện kịp thời những hư hỏng của đê Điều và báo cáo ngay cho Ban chỉ huy chống lụt bão xã, cán bộ chuyên trách quản lý đê Điều phụ trách tuyến đê đó và khẩn trương tiến hành xử lý giờ đầu theo đúng kỹ thuật đã được hướng dẫn.\\n3. Tham gia xử lý sự cố và tu sửa kịp thời những hư hỏng của đê Điều, dưới sự hướng dẫn về kỹ thuật của cán bộ chuyên trách quản lý đê Điều hoặc ý kiến chỉ đạo của cấp trên.\\n4. Canh gác, kiểm tra phát hiện và ngăn chặn kịp thời những hành vi vi phạm pháp Luật về đê Điều và phòng, chống lụt, bão và báo cáo ngay cán bộ chuyên trách quản lý đê Điều.\\n5. Đeo phù hiệu khi làm nhiệm vụ.',\n",
       " 'Khen thưởng, kỷ Luật\\n1. Những đơn vị và cá nhân thực hiện tốt quy định tại Thông tư này và có thành tích xuất sắc trong công tác tuần tra, canh gác đê sẽ được khen thưởng.\\n2. Những đơn vị và cá nhân vi phạm quy định tại Thông tư này tuỳ theo lỗi nặng nhẹ sẽ bị thi hành kỷ Luật từ cảnh cáo đến truy tố trước pháp Luật của Nhà nước.',\n",
       " 'Khi phát hiện có hư hỏng, người tuần tra phải tiến hành các công việc sau:\\na) Xác định loại hư hỏng, vị trí, đặc điểm, kích thước của loại hư hỏng;\\nb) Xác định mực nước sông so với mặt đê tại vị trí phát sinh hư hỏng;\\nc) Đánh dấu bằng cách ghi bảng, cắm tiêu báo hiệu vị trí hư hỏng; nếu sự cố nghiêm trọng, phải cấm người, vật, xe cơ giới đi qua và bố trí người canh gác tại chỗ để theo dõi thường xuyên diễn biến của hư hỏng;\\nd) Báo cáo kịp thời và cụ thể tình hình hư hỏng cho đội trưởng hoặc đội phó, cán bộ chuyên trách quản lý đê Điều và Ban Chỉ huy phòng, chống lụt, bão xã.']"
      ]
     },
     "execution_count": 26,
     "metadata": {},
     "output_type": "execute_result"
    }
   ],
   "source": [
    "reranker_instance = BGEReranker(model_name=\"BAAI/bge-reranker-v2-m3\",use_fp16=True)\n",
    "reranked_results = reranker_instance.rerank(query=\"Thông tư này hướng dẫn tuần tra, canh gác về Đê Điều \", documents=doc_search, topk=5)\n",
    "reranked_results"
   ]
  }
 ],
 "metadata": {
  "kernelspec": {
   "display_name": "crypto_agent",
   "language": "python",
   "name": "python3"
  },
  "language_info": {
   "codemirror_mode": {
    "name": "ipython",
    "version": 3
   },
   "file_extension": ".py",
   "mimetype": "text/x-python",
   "name": "python",
   "nbconvert_exporter": "python",
   "pygments_lexer": "ipython3",
   "version": "3.12.11"
  }
 },
 "nbformat": 4,
 "nbformat_minor": 5
}
