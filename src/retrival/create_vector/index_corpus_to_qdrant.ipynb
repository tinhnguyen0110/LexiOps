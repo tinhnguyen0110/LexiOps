{
 "cells": [
  {
   "cell_type": "code",
   "execution_count": 2,
   "id": "93566a88",
   "metadata": {},
   "outputs": [
    {
     "name": "stderr",
     "output_type": "stream",
     "text": [
      "c:\\Users\\Admin\\miniconda3\\envs\\crypto_agent\\Lib\\site-packages\\tqdm\\auto.py:21: TqdmWarning: IProgress not found. Please update jupyter and ipywidgets. See https://ipywidgets.readthedocs.io/en/stable/user_install.html\n",
      "  from .autonotebook import tqdm as notebook_tqdm\n"
     ]
    }
   ],
   "source": [
    "import pandas as pd\n",
    "import re\n",
    "import os\n",
    "from tqdm import tqdm\n",
    "from qdrant_client import QdrantClient\n",
    "from qdrant_client.http.models import VectorParams, Distance, PointStruct\n",
    "from FlagEmbedding import BGEM3FlagModel"
   ]
  },
  {
   "cell_type": "code",
   "execution_count": 2,
   "id": "41a139db",
   "metadata": {},
   "outputs": [],
   "source": [
    "def create_fixed_chunks(text, max_word_count=400):\n",
    "    sentences = re.split(r'(?<=[.!?]) +', text)\n",
    "    chunks, current_chunk, word_count = [], \"\", 0\n",
    "    for sentence in sentences:\n",
    "        wc = len(sentence.split())\n",
    "        if word_count + wc > max_word_count:\n",
    "            if current_chunk:\n",
    "                chunks.append(current_chunk.strip())\n",
    "            current_chunk, word_count = sentence, wc\n",
    "        else:\n",
    "            current_chunk += \" \" + sentence if current_chunk else sentence\n",
    "            word_count += wc\n",
    "    if current_chunk:\n",
    "        chunks.append(current_chunk.strip())\n",
    "    return chunks\n"
   ]
  },
  {
   "cell_type": "code",
   "execution_count": 3,
   "id": "118eb7ed",
   "metadata": {},
   "outputs": [
    {
     "name": "stdout",
     "output_type": "stream",
     "text": [
      "Loaded 261597 corpus entries\n"
     ]
    },
    {
     "name": "stderr",
     "output_type": "stream",
     "text": [
      "Fetching 30 files: 100%|██████████| 30/30 [00:00<00:00, 29995.02it/s]\n",
      "C:\\Users\\Admin\\AppData\\Local\\Temp\\ipykernel_8600\\4171175315.py:14: DeprecationWarning: `recreate_collection` method is deprecated and will be removed in the future. Use `collection_exists` to check collection existence and `create_collection` instead.\n",
      "  qdrant.recreate_collection(\n"
     ]
    },
    {
     "data": {
      "text/plain": [
       "True"
      ]
     },
     "execution_count": 3,
     "metadata": {},
     "output_type": "execute_result"
    }
   ],
   "source": [
    "corpus_csv = r\"D:\\Data\\Legal-Retrieval\\data\\corpus.csv\"\n",
    "collection_name = \"law_corpus_bge\"\n",
    "df = pd.read_csv(corpus_csv)\n",
    "print(f\"Loaded {len(df)} corpus entries\")\n",
    "\n",
    "# Init model\n",
    "model = BGEM3FlagModel(\"BAAI/bge-m3\", use_fp16=True)\n",
    "\n",
    "# Init Qdrant\n",
    "qdrant = QdrantClient(\"http://localhost\", port=6333)\n",
    "\n",
    "# Create collection\n",
    "vector_size = 1024  # BGEM3 output dim\n",
    "qdrant.recreate_collection(\n",
    "    collection_name=collection_name,\n",
    "    vectors_config=VectorParams(size=vector_size, distance=Distance.COSINE),\n",
    ")"
   ]
  },
  {
   "cell_type": "code",
   "execution_count": null,
   "id": "a48f32a6",
   "metadata": {},
   "outputs": [],
   "source": [
    "points = []\n",
    "point_id = 0\n",
    "\n",
    "for row in tqdm(df.itertuples(), total=len(df)):\n",
    "    cid = int(row.cid)\n",
    "    chunks = create_fixed_chunks(row.text, max_word_count=400)\n",
    "\n",
    "    for chunk_index, chunk_text in enumerate(chunks):\n",
    "        vec = model.encode(chunk_text)[\"dense_vecs\"]\n",
    "        payload = {\n",
    "            \"cid\": cid,\n",
    "            \"chunk_index\": chunk_index,\n",
    "            \"text\": chunk_text\n",
    "        }\n",
    "        points.append(PointStruct(id=point_id, vector=vec, payload=payload))\n",
    "        point_id += 1"
   ]
  },
  {
   "cell_type": "code",
   "execution_count": 5,
   "id": "4724534f",
   "metadata": {},
   "outputs": [
    {
     "name": "stdout",
     "output_type": "stream",
     "text": [
      "Uploading 52 vectors to Qdrant...\n",
      "✅ Done indexing corpus into Qdrant.\n"
     ]
    }
   ],
   "source": [
    "print(f\"Uploading {len(points)} vectors to Qdrant...\")\n",
    "qdrant.upsert(collection_name=collection_name, points=points)\n",
    "print(\"✅ Done indexing corpus into Qdrant.\")"
   ]
  },
  {
   "cell_type": "code",
   "execution_count": 4,
   "id": "ef96d832",
   "metadata": {},
   "outputs": [],
   "source": [
    "from qdrant_client.models import ScrollRequest\n",
    "\n",
    "scroll_result = qdrant.scroll(\n",
    "    collection_name=\"law_corpus_bge\",\n",
    "    limit=5,\n",
    "    with_payload=True,\n",
    "    with_vectors=True\n",
    ")\n",
    "\n",
    "for point in scroll_result[0]:\n",
    "    print(f\"ID: {point.id}\")\n",
    "    print(f\"Text: {point.payload.get('text')}\")\n",
    "    print(f\"Vector: {point.vector} ...\")  # In 5 phần tử đầu của vector\n",
    "    print(\"-\" * 50)"
   ]
  },
  {
   "cell_type": "code",
   "execution_count": null,
   "id": "5bb31b70",
   "metadata": {},
   "outputs": [],
   "source": [
    "query_text = df.iloc[0].text[:500]  # lấy 500 ký tự đầu\n",
    "query_chunks = create_fixed_chunks(query_text, max_word_count=400)\n",
    "query_vec = model.encode(query_chunks[0])[\"dense_vecs\"]\n",
    "\n",
    "hits = qdrant.search(\n",
    "    collection_name=collection_name,\n",
    "    query_vector=query_vec,\n",
    "    limit=5,\n",
    "    with_payload=True\n",
    ")\n",
    "\n",
    "for hit in hits:\n",
    "    print(f\"Score: {hit.score}\")\n",
    "    print(f\"Text: {hit.payload.get('text')}\")\n",
    "    print(\"-\" * 50)"
   ]
  },
  {
   "cell_type": "code",
   "execution_count": null,
   "id": "93d95678",
   "metadata": {},
   "outputs": [],
   "source": [
    "stopp"
   ]
  },
  {
   "cell_type": "code",
   "execution_count": null,
   "id": "15133789",
   "metadata": {},
   "outputs": [],
   "source": [
    "def index_corpus_to_qdrant(corpus_path: str, collection_name: str):\n",
    "    # Load data\n",
    "    df = pd.read_csv(corpus_path)\n",
    "    print(f\"Loaded {len(df)} corpus entries\")\n",
    "\n",
    "    # Init model\n",
    "    model = BGEM3FlagModel(\"BAAI/bge-m3\", use_fp16=True)\n",
    "\n",
    "    # Init Qdrant\n",
    "    qdrant = QdrantClient(\"http://localhost\", port=6333)\n",
    "\n",
    "    # Create collection\n",
    "    vector_size = 1024  # BGEM3 output dim\n",
    "    qdrant.recreate_collection(\n",
    "        collection_name=collection_name,\n",
    "        vectors_config=VectorParams(size=vector_size, distance=Distance.COSINE),\n",
    "    )\n",
    "\n",
    "    # Build points\n",
    "    points = []\n",
    "    point_id = 0\n",
    "    for row in tqdm(df.itertuples(), total=len(df)):\n",
    "        chunks = split_text_keeping_sentences(row.text)\n",
    "        for i, chunk in enumerate(chunks):\n",
    "            vec = model.encode(chunk)[\"dense_vecs\"]\n",
    "            payload = {\n",
    "                \"cid\": int(row.cid),\n",
    "                \"chunk_index\": i,\n",
    "                \"text\": chunk\n",
    "            }\n",
    "            points.append(PointStruct(id=point_id, vector=vec, payload=payload))\n",
    "            point_id += 1\n",
    "\n",
    "    # Upsert to Qdrant\n",
    "    print(f\"Uploading {len(points)} vectors to Qdrant...\")\n",
    "    qdrant.upsert(collection_name=collection_name, points=points)\n",
    "    print(\"✅ Done indexing corpus.\")"
   ]
  }
 ],
 "metadata": {
  "kernelspec": {
   "display_name": "crypto_agent",
   "language": "python",
   "name": "python3"
  },
  "language_info": {
   "codemirror_mode": {
    "name": "ipython",
    "version": 3
   },
   "file_extension": ".py",
   "mimetype": "text/x-python",
   "name": "python",
   "nbconvert_exporter": "python",
   "pygments_lexer": "ipython3",
   "version": "3.12.11"
  }
 },
 "nbformat": 4,
 "nbformat_minor": 5
}
