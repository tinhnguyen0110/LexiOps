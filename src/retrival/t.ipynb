{
 "cells": [
  {
   "cell_type": "code",
   "execution_count": null,
   "id": "6c355956",
   "metadata": {},
   "outputs": [
    {
     "name": "stderr",
     "output_type": "stream",
     "text": [
      "c:\\Users\\Admin\\miniconda3\\envs\\crypto_agent\\Lib\\site-packages\\tqdm\\auto.py:21: TqdmWarning: IProgress not found. Please update jupyter and ipywidgets. See https://ipywidgets.readthedocs.io/en/stable/user_install.html\n",
      "  from .autonotebook import tqdm as notebook_tqdm\n"
     ]
    }
   ],
   "source": [
    "# from rerank import BGEReranker\n",
    "# from search_with_bge import QdrantSearchBGE\n",
    "\n",
    "import pandas as pd\n",
    "from tqdm import tqdm\n",
    "from typing import List, Dict, Callable"
   ]
  },
  {
   "cell_type": "code",
   "execution_count": 2,
   "id": "ff606212",
   "metadata": {},
   "outputs": [
    {
     "name": "stderr",
     "output_type": "stream",
     "text": [
      "Fetching 30 files: 100%|██████████| 30/30 [00:00<00:00, 7887.49it/s]\n"
     ]
    }
   ],
   "source": [
    "bge_search_instance = QdrantSearchBGE(\n",
    "        host=\"http://localhost:6333\",\n",
    "        collection_name= \"law_corpus_bge_v2\",\n",
    "        model_name=\"BAAI/bge-m3\",\n",
    "        use_fp16=True\n",
    "    )"
   ]
  },
  {
   "cell_type": "code",
   "execution_count": 3,
   "id": "dfb6f395",
   "metadata": {},
   "outputs": [],
   "source": [
    "client = bge_search_instance.client\n",
    "query_test = \"Hồ sơ tuyển chọn Thẩm phán Tòa án nhân dân cấp huyện phải được giao lại cho Chánh án Tòa án nhân dân cấp tỉnh quản lý khi nào?\"\n"
   ]
  },
  {
   "cell_type": "code",
   "execution_count": 6,
   "id": "894bc893",
   "metadata": {},
   "outputs": [
    {
     "name": "stdout",
     "output_type": "stream",
     "text": [
      "📊 Total points in 'law_corpus_bge_v2': 173680\n"
     ]
    }
   ],
   "source": [
    "from qdrant_client import QdrantClient\n",
    "\n",
    "client = QdrantClient(\"http://localhost\", port=6333)\n",
    "\n",
    "count = client.count(collection_name=\"law_corpus_bge\", exact=True).count\n",
    "print(f\"📊 Total points in 'law_corpus_bge_v2': {count}\")"
   ]
  },
  {
   "cell_type": "code",
   "execution_count": 121,
   "id": "74abd7e6",
   "metadata": {},
   "outputs": [
    {
     "name": "stdout",
     "output_type": "stream",
     "text": [
      "📊 Total points in 'law_corpus_bge': 170000\n"
     ]
    }
   ],
   "source": [
    "count = client.count(collection_name=\"law_corpus_bge_v2\", exact=True).count\n",
    "print(f\"📊 Total points in 'law_corpus_bge': {count}\")"
   ]
  },
  {
   "cell_type": "code",
   "execution_count": 8,
   "id": "1a23187d",
   "metadata": {},
   "outputs": [
    {
     "name": "stdout",
     "output_type": "stream",
     "text": [
      "📚 Existing collections in Qdrant:\n",
      "\n",
      "• chat_questions: 0 points\n",
      "• law_corpus_openai: 1075 points\n",
      "• legal_documents_collection: 1 points\n"
     ]
    },
    {
     "name": "stderr",
     "output_type": "stream",
     "text": [
      "C:\\Users\\Admin\\AppData\\Local\\Temp\\ipykernel_9792\\2971967807.py:3: UserWarning: Qdrant client version 1.15.0 is incompatible with server version 1.8.4. Major versions should match and minor version difference must not exceed 1. Set check_compatibility=False to skip version check.\n",
      "  client = QdrantClient(\"http://localhost\", port=6333)\n"
     ]
    }
   ],
   "source": [
    "from qdrant_client import QdrantClient\n",
    "\n",
    "client = QdrantClient(\"http://localhost\", port=6333)\n",
    "\n",
    "collections = client.get_collections().collections\n",
    "\n",
    "print(\"📚 Existing collections in Qdrant:\\n\")\n",
    "for col in collections:\n",
    "    count = client.count(collection_name=col.name, exact=True).count\n",
    "    print(f\"• {col.name}: {count} points\")"
   ]
  },
  {
   "cell_type": "code",
   "execution_count": 123,
   "id": "415c853b",
   "metadata": {},
   "outputs": [],
   "source": [
    "import numpy as np\n",
    "from qdrant_client import QdrantClient\n",
    "from qdrant_client.http.models import VectorParams, Distance, PointStruct\n",
    "\n",
    "def is_valid_vector(vec, expected_dim=1024):\n",
    "    if vec is None or len(vec) != expected_dim:\n",
    "        return False\n",
    "    if any([v is None or isinstance(v, str) or np.isnan(v) for v in vec]):\n",
    "        return False\n",
    "    return True\n",
    "\n",
    "def migrate_collection(old_collection, new_collection):\n",
    "    client = QdrantClient(\"http://localhost\", port=6333)\n",
    "\n",
    "    # Tạo collection mới\n",
    "    client.recreate_collection(\n",
    "        collection_name=new_collection,\n",
    "        vectors_config=VectorParams(size=1024, distance=Distance.COSINE)\n",
    "    )\n",
    "    print(f\"✅ Created new collection {new_collection}\")\n",
    "\n",
    "    offset = None\n",
    "    total = 0\n",
    "    skipped = 0\n",
    "\n",
    "    while True:\n",
    "        points, offset = client.scroll(\n",
    "            collection_name=old_collection,\n",
    "            limit=500,\n",
    "            with_vectors=True,\n",
    "            with_payload=True,\n",
    "            offset=offset\n",
    "        )\n",
    "\n",
    "        converted = []\n",
    "        for pt in points:\n",
    "            if not is_valid_vector(pt.vector):\n",
    "                print(f\"⚠️ Skipped: id={pt.id}\")\n",
    "                skipped += 1\n",
    "                continue\n",
    "            converted.append(PointStruct(id=pt.id, vector=pt.vector, payload=pt.payload))\n",
    "\n",
    "        if converted:\n",
    "            client.upsert(collection_name=new_collection, points=converted)\n",
    "            print(f\"🔁 Migrated {len(converted)} points\")\n",
    "            total += len(converted)\n",
    "\n",
    "        if offset is None:\n",
    "            break\n",
    "\n",
    "    print(f\"✅ Migration complete: {total} migrated, {skipped} skipped\")\n"
   ]
  },
  {
   "cell_type": "code",
   "execution_count": null,
   "id": "bee8ec8d",
   "metadata": {},
   "outputs": [],
   "source": [
    "migrate_collection(\"law_corpus_bge_v2\", \"law_corpus_bge_v3\")"
   ]
  }
 ],
 "metadata": {
  "kernelspec": {
   "display_name": "crypto_agent",
   "language": "python",
   "name": "python3"
  },
  "language_info": {
   "codemirror_mode": {
    "name": "ipython",
    "version": 3
   },
   "file_extension": ".py",
   "mimetype": "text/x-python",
   "name": "python",
   "nbconvert_exporter": "python",
   "pygments_lexer": "ipython3",
   "version": "3.12.11"
  }
 },
 "nbformat": 4,
 "nbformat_minor": 5
}
