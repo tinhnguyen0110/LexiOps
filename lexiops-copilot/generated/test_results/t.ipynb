{
 "cells": [
  {
   "cell_type": "code",
   "execution_count": 3,
   "id": "d61fd0cb",
   "metadata": {},
   "outputs": [],
   "source": [
    "import json\n",
    "import re\n",
    "from typing import Dict, Any, List\n",
    "import sys\n",
    "sys.path.append(r\"D:\\Data\\Legal-Retrieval\\lexiops-copilot\")"
   ]
  },
  {
   "cell_type": "code",
   "execution_count": 11,
   "id": "e58451c2",
   "metadata": {},
   "outputs": [],
   "source": [
    "essential_tools = [\n",
    "    \"kubectl\",          # Most flexible and reliable\n",
    "    \"k8s_get\",         # Get resources\n",
    "    \"k8s_logs\",        # View logs\n",
    "    \"k8s_describe\",    # Describe resources\n",
    "    \"k8s_create\",      # Create resources\n",
    "    \"k8s_delete\",      # Delete resources\n",
    "    \"k8s_scale\",       # Scale resources\n",
    "    \"k8s_apply\",       # Apply YAML\n",
    "    \"k8s_rollout_status\", # Check deployments\n",
    "    \"k8s_events\",      # View events\n",
    "    \"k8s_top_pods\",    # Resource usage\n",
    "    \"helm\"             # Helm operations\n",
    "]"
   ]
  },
  {
   "cell_type": "code",
   "execution_count": 12,
   "id": "8201ea81",
   "metadata": {},
   "outputs": [],
   "source": [
    "def parse_mcp_tool(raw_tool_data: Dict[str, Any]) -> Dict[str, Any]:\n",
    "    \"\"\"\n",
    "    Chuyển đổi cấu trúc tool thô từ MCP server thành định dạng JSON Schema\n",
    "    thân thiện với LLM, giàu thông tin hơn.\n",
    "    (Hàm này giữ nguyên như trước)\n",
    "    \"\"\"\n",
    "    tool_name = raw_tool_data.get(\"name\", \"unknown_tool\")\n",
    "    raw_description = raw_tool_data.get(\"description\", \"\")\n",
    "    input_schema = raw_tool_data.get(\"inputSchema\", {})\n",
    "    \n",
    "    main_description = raw_description.split(\"\\n\\n:param\")[0].strip()\n",
    "\n",
    "    cleaned_properties = {}\n",
    "    required_params = input_schema.get(\"required\", [])\n",
    "    \n",
    "    param_descriptions = {}\n",
    "    matches = re.findall(r\":param\\s+([^:]+):\\s+(.+)\", raw_description)\n",
    "    for match in matches:\n",
    "        param_name, desc = match\n",
    "        param_descriptions[param_name.strip()] = desc.strip()\n",
    "\n",
    "    for param_name, param_info in input_schema.get(\"properties\", {}).items():\n",
    "        param_type = \"string\" # Mặc định\n",
    "        if param_info.get(\"default\") is False or param_info.get(\"default\") is True:\n",
    "            param_type = \"boolean\"\n",
    "        # Bạn có thể thêm các logic suy luận type khác ở đây\n",
    "        \n",
    "        cleaned_properties[param_name] = {\n",
    "            \"type\": param_type,\n",
    "            \"description\": param_descriptions.get(param_name, param_info.get(\"title\", \"\")),\n",
    "        }\n",
    "\n",
    "    final_tool_definition = {\n",
    "        \"name\": tool_name,\n",
    "        \"description\": main_description,\n",
    "        \"parameters\": {\n",
    "            \"type\": \"object\",\n",
    "            \"properties\": cleaned_properties,\n",
    "            \"required\": required_params\n",
    "        }\n",
    "    }\n",
    "    \n",
    "    return final_tool_definition"
   ]
  },
  {
   "cell_type": "code",
   "execution_count": 15,
   "id": "133ab4e5",
   "metadata": {},
   "outputs": [],
   "source": [
    "def process_tool_list(input_filepath: str, output_filepath: str):\n",
    "    \"\"\"\n",
    "    Đọc một file JSON chứa danh sách các tool thô, xử lý chúng,\n",
    "    và lưu kết quả đã được tối ưu vào một file JSON mới.\n",
    "    \"\"\"\n",
    "    try:\n",
    "        with open(input_filepath, \"r\", encoding=\"utf-8\") as f:\n",
    "            raw_tools_list = json.load(f)\n",
    "    except FileNotFoundError:\n",
    "        print(f\"Lỗi: Không tìm thấy file '{input_filepath}'\")\n",
    "        return\n",
    "    except json.JSONDecodeError:\n",
    "        print(f\"Lỗi: File '{input_filepath}' không phải là file JSON hợp lệ.\")\n",
    "        return\n",
    "\n",
    "    cleaned_tools_list = []\n",
    "    print(f\"Đang xử lý {len(raw_tools_list)} tool từ '{input_filepath}'...\")\n",
    "\n",
    "    for raw_tool in raw_tools_list:\n",
    "        if raw_tool.get(\"name\", \"unknown_tool\") not in essential_tools:\n",
    "            continue\n",
    "        cleaned_tool = parse_mcp_tool(raw_tool)\n",
    "        cleaned_tools_list.append(cleaned_tool)\n",
    "    \n",
    "    with open(output_filepath, \"w\", encoding=\"utf-8\") as f:\n",
    "        json.dump(cleaned_tools_list, f, indent=2, ensure_ascii=False)\n",
    "        \n",
    "    print(f\"✅ Xử lý thành công! Đã lưu {len(cleaned_tools_list)} tool đã được tối ưu vào '{output_filepath}'.\")"
   ]
  },
  {
   "cell_type": "code",
   "execution_count": 16,
   "id": "ee201c3d",
   "metadata": {},
   "outputs": [],
   "source": [
    "raw_tools_data = []\n",
    "input_file = r\"D:\\Data\\Legal-Retrieval\\lexiops-copilot\\generated\\mcp_tools\\mcp_tools_full.json\"\n",
    "with open(input_file, \"r\", encoding=\"utf-8\") as f:\n",
    "    raw_tools_data = json.load(f)\n"
   ]
  },
  {
   "cell_type": "code",
   "execution_count": 17,
   "id": "73a83fac",
   "metadata": {},
   "outputs": [
    {
     "name": "stdout",
     "output_type": "stream",
     "text": [
      "Đang xử lý 39 tool từ 'D:\\Data\\Legal-Retrieval\\lexiops-copilot\\generated\\mcp_tools\\mcp_tools_full.json'...\n",
      "✅ Xử lý thành công! Đã lưu 12 tool đã được tối ưu vào 'cleaned_mcp_tools.json'.\n"
     ]
    }
   ],
   "source": [
    "process_tool_list(input_filepath=input_file, output_filepath=\"cleaned_mcp_tools.json\")"
   ]
  }
 ],
 "metadata": {
  "kernelspec": {
   "display_name": "crypto_agent",
   "language": "python",
   "name": "python3"
  },
  "language_info": {
   "codemirror_mode": {
    "name": "ipython",
    "version": 3
   },
   "file_extension": ".py",
   "mimetype": "text/x-python",
   "name": "python",
   "nbconvert_exporter": "python",
   "pygments_lexer": "ipython3",
   "version": "3.12.11"
  }
 },
 "nbformat": 4,
 "nbformat_minor": 5
}
