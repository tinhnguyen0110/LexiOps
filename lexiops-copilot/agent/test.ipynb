{
 "cells": [
  {
   "cell_type": "code",
   "execution_count": 8,
   "id": "65fcc00c",
   "metadata": {},
   "outputs": [
    {
     "name": "stderr",
     "output_type": "stream",
     "text": [
      "<>:3: SyntaxWarning: invalid escape sequence '\\D'\n",
      "<>:3: SyntaxWarning: invalid escape sequence '\\D'\n",
      "C:\\Users\\Admin\\AppData\\Local\\Temp\\ipykernel_13236\\3430067079.py:3: SyntaxWarning: invalid escape sequence '\\D'\n",
      "  sys.path.append(\"D:\\Data\\Legal-Retrieval\\lexiops-copilot\")\n"
     ]
    }
   ],
   "source": [
    "import sys\n",
    "import os\n",
    "sys.path.append(\"D:\\Data\\Legal-Retrieval\\lexiops-copilot\")\n",
    "import asyncio\n",
    "from langgraph.graph import StateGraph, END\n",
    "from langgraph.prebuilt import ToolNode\n",
    "from agent.state import AgentState\n",
    "from langchain_openai import ChatOpenAI\n",
    "from agent.nodes.planner_node import planner_node\n",
    "from agent.nodes.synthesizer_node import synthesizer_node\n",
    "from langgraph.prebuilt import create_react_agent\n",
    "from langgraph.graph import StateGraph, MessagesState, START\n",
    "from langgraph.prebuilt import ToolNode, tools_condition\n",
    "import logging\n",
    "\n",
    "logger = logging.getLogger(__name__)\n",
    "\n",
    "# --- Tool nội bộ ---\n",
    "from langchain.tools import tool\n",
    "from datetime import datetime\n",
    "\n",
    "@tool\n",
    "def get_current_time() -> str:\n",
    "    \"\"\"Sử dụng để lấy thời gian hiện tại của hệ thống.\"\"\"\n",
    "    return datetime.now().isoformat()\n",
    "\n",
    "# --- MCP client ---\n",
    "from langchain_mcp_adapters.client import MultiServerMCPClient"
   ]
  },
  {
   "cell_type": "code",
   "execution_count": 9,
   "id": "ed2520cd",
   "metadata": {},
   "outputs": [],
   "source": [
    "model =   ChatOpenAI(\n",
    "        model=\"gpt-5-nano\",  \n",
    "        openai_api_key=os.getenv(\"OPENAI_API_KEY\")\n",
    "    )"
   ]
  },
  {
   "cell_type": "code",
   "execution_count": 10,
   "id": "9f2f7719",
   "metadata": {},
   "outputs": [
    {
     "ename": "RuntimeError",
     "evalue": "asyncio.run() cannot be called from a running event loop",
     "output_type": "error",
     "traceback": [
      "\u001b[31m---------------------------------------------------------------------------\u001b[39m",
      "\u001b[31mRuntimeError\u001b[39m                              Traceback (most recent call last)",
      "\u001b[36mCell\u001b[39m\u001b[36m \u001b[39m\u001b[32mIn[10]\u001b[39m\u001b[32m, line 41\u001b[39m\n\u001b[32m     38\u001b[39m     output = \u001b[38;5;28;01mawait\u001b[39;00m graph.ainvoke({\u001b[33m\"\u001b[39m\u001b[33mmessages\u001b[39m\u001b[33m\"\u001b[39m: shell_prompt})\n\u001b[32m     39\u001b[39m     \u001b[38;5;28mprint\u001b[39m(\u001b[33m\"\u001b[39m\u001b[33mOutput:\u001b[39m\u001b[33m\"\u001b[39m, output)\n\u001b[32m---> \u001b[39m\u001b[32m41\u001b[39m \u001b[43masyncio\u001b[49m\u001b[43m.\u001b[49m\u001b[43mrun\u001b[49m\u001b[43m(\u001b[49m\u001b[43mmain\u001b[49m\u001b[43m(\u001b[49m\u001b[43m)\u001b[49m\u001b[43m)\u001b[49m\n",
      "\u001b[36mFile \u001b[39m\u001b[32mc:\\Users\\Admin\\miniconda3\\envs\\crypto_agent\\Lib\\asyncio\\runners.py:191\u001b[39m, in \u001b[36mrun\u001b[39m\u001b[34m(main, debug, loop_factory)\u001b[39m\n\u001b[32m    161\u001b[39m \u001b[38;5;250m\u001b[39m\u001b[33;03m\"\"\"Execute the coroutine and return the result.\u001b[39;00m\n\u001b[32m    162\u001b[39m \n\u001b[32m    163\u001b[39m \u001b[33;03mThis function runs the passed coroutine, taking care of\u001b[39;00m\n\u001b[32m   (...)\u001b[39m\u001b[32m    187\u001b[39m \u001b[33;03m    asyncio.run(main())\u001b[39;00m\n\u001b[32m    188\u001b[39m \u001b[33;03m\"\"\"\u001b[39;00m\n\u001b[32m    189\u001b[39m \u001b[38;5;28;01mif\u001b[39;00m events._get_running_loop() \u001b[38;5;129;01mis\u001b[39;00m \u001b[38;5;129;01mnot\u001b[39;00m \u001b[38;5;28;01mNone\u001b[39;00m:\n\u001b[32m    190\u001b[39m     \u001b[38;5;66;03m# fail fast with short traceback\u001b[39;00m\n\u001b[32m--> \u001b[39m\u001b[32m191\u001b[39m     \u001b[38;5;28;01mraise\u001b[39;00m \u001b[38;5;167;01mRuntimeError\u001b[39;00m(\n\u001b[32m    192\u001b[39m         \u001b[33m\"\u001b[39m\u001b[33masyncio.run() cannot be called from a running event loop\u001b[39m\u001b[33m\"\u001b[39m)\n\u001b[32m    194\u001b[39m \u001b[38;5;28;01mwith\u001b[39;00m Runner(debug=debug, loop_factory=loop_factory) \u001b[38;5;28;01mas\u001b[39;00m runner:\n\u001b[32m    195\u001b[39m     \u001b[38;5;28;01mreturn\u001b[39;00m runner.run(main)\n",
      "\u001b[31mRuntimeError\u001b[39m: asyncio.run() cannot be called from a running event loop"
     ]
    }
   ],
   "source": [
    "import asyncio\n",
    "from mcp.client.stdio import stdio_client\n",
    "from mcp import ClientSession, StdioServerParameters\n",
    "from langchain_mcp_adapters.client import MultiServerMCPClient\n",
    "from langgraph.graph import StateGraph, MessagesState, START\n",
    "from langgraph.prebuilt import ToolNode, tools_condition\n",
    "from langchain.chat_models import init_chat_model\n",
    "\n",
    "async def main():\n",
    "    client = MultiServerMCPClient(\n",
    "        {\n",
    "            \"shell\": {\n",
    "                \"command\": \"python\",\n",
    "                \"args\": [\"agent\\\\mcp_tools\\\\mcp_server.py\"],\n",
    "                \"transport\": \"stdio\",\n",
    "            }\n",
    "        }\n",
    "    )\n",
    "    tools = await client.get_tools()\n",
    "\n",
    "    # 3️⃣ Node gọi model\n",
    "    def call_model(state: MessagesState):\n",
    "        response = model.bind_tools(tools).invoke(state[\"messages\"])\n",
    "        return {\"messages\": response}\n",
    "\n",
    "    # 4️⃣ Xây dựng LangGraph workflow\n",
    "    builder = StateGraph(MessagesState)\n",
    "    builder.add_node(call_model)\n",
    "    builder.add_node(ToolNode(tools))\n",
    "    builder.add_edge(START, \"call_model\")\n",
    "    builder.add_conditional_edges(\"call_model\", tools_condition)\n",
    "    builder.add_edge(\"tools\", \"call_model\")\n",
    "    graph = builder.compile()\n",
    "\n",
    "    # 5️⃣ Ví dụ prompt LLM gửi shell command\n",
    "    shell_prompt = \"Hãy thực thi lệnh shell `echo Hello from LangGraph` và trả kết quả stdout.\"\n",
    "\n",
    "    output = await graph.ainvoke({\"messages\": shell_prompt})\n",
    "    print(\"Output:\", output)\n",
    "\n",
    "asyncio.run(main())\n"
   ]
  },
  {
   "cell_type": "code",
   "execution_count": null,
   "id": "7d2095a4",
   "metadata": {},
   "outputs": [],
   "source": []
  },
  {
   "cell_type": "code",
   "execution_count": 9,
   "id": "bf56db04",
   "metadata": {},
   "outputs": [],
   "source": [
    "from ddgs import DDGS\n",
    "import requests\n",
    "from bs4 import BeautifulSoup\n",
    "\n",
    "def search_and_fetch(query: str, region: str = \"wt-wt\", max_results: int = 3):\n",
    "    \"\"\"\n",
    "    Tìm kiếm trên DuckDuckGo và tải nội dung (body text) từ các URL kết quả.\n",
    "    Trả về list dict [{title, url, snippet, body}, ...]\n",
    "    \"\"\"\n",
    "    results_data = []\n",
    "    print(f\"--- Đang tìm '{query}' (region={region}) ---\")\n",
    "\n",
    "    try:\n",
    "        with DDGS() as ddgs:\n",
    "            results = ddgs.text(query, region=region, max_results=max_results)\n",
    "    except Exception as e:\n",
    "        return [{\"error\": f\"Lỗi khi gọi DuckDuckGo: {e}\"}]\n",
    "\n",
    "    if not results:\n",
    "        return [{\"error\": \"Không tìm thấy kết quả.\"}]\n",
    "\n",
    "    for r in results:\n",
    "        title = r.get(\"title\") or \"\"\n",
    "        snippet = r.get(\"snippet\") or \"\"\n",
    "        url = r.get(\"href\") or None\n",
    "        body_text = \"\"\n",
    "\n",
    "        if url:\n",
    "            try:\n",
    "                resp = requests.get(url, timeout=10, headers={\"User-Agent\": \"Mozilla/5.0\"})\n",
    "                resp.raise_for_status()\n",
    "                soup = BeautifulSoup(resp.text, \"html.parser\")\n",
    "                body_text = soup.get_text(separator=\"\\n\", strip=True)\n",
    "            except Exception as e:\n",
    "                body_text = f\"[Fetch error: {e}]\"\n",
    "\n",
    "        results_data.append({\n",
    "            \"title\": title,\n",
    "            \"url\": url,\n",
    "            \"snippet\": snippet,\n",
    "            \"body\": body_text\n",
    "        })\n",
    "\n",
    "    return results_data"
   ]
  },
  {
   "cell_type": "code",
   "execution_count": null,
   "id": "f18a679e",
   "metadata": {},
   "outputs": [],
   "source": [
    "results = search_and_fetch(\"luật nghĩa vụ quân sự việt nam\", region=\"vn-vi\", max_results=2)\n",
    "\n",
    "for r in results:\n",
    "    print(\"Title:\", r[\"title\"])\n",
    "    print(\"URL:\", r[\"url\"])\n",
    "    print(\"Snippet:\", r[\"snippet\"])\n",
    "    print(\"Body preview:\", r[\"body\"][:1000], \"...\")  \n",
    "    print(\"=\"*80)"
   ]
  }
 ],
 "metadata": {
  "kernelspec": {
   "display_name": "crypto_agent",
   "language": "python",
   "name": "python3"
  },
  "language_info": {
   "codemirror_mode": {
    "name": "ipython",
    "version": 3
   },
   "file_extension": ".py",
   "mimetype": "text/x-python",
   "name": "python",
   "nbconvert_exporter": "python",
   "pygments_lexer": "ipython3",
   "version": "3.12.11"
  }
 },
 "nbformat": 4,
 "nbformat_minor": 5
}
