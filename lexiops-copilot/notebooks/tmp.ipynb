{
 "cells": [
  {
   "cell_type": "code",
   "execution_count": 1,
   "id": "5fe0fbc4",
   "metadata": {},
   "outputs": [],
   "source": [
    "import re\n",
    "import json\n",
    "import os\n",
    "import sys\n",
    "sys.path.append(os.path.join(\"D:\\\\Data\\\\Legal-Retrieval\\\\lexiops-copilot\"))\n",
    "from agent.utils.json_parser import JSONParser"
   ]
  },
  {
   "cell_type": "code",
   "execution_count": 3,
   "id": "8303f677",
   "metadata": {},
   "outputs": [],
   "source": [
    "ai_content = \"\"\"{\n",
    "  \"thought\": \"User wants to list all pods across all namespaces. Use k8s_get to retrieve resources of type 'pods' and set all_namespaces to true to cover every namespace. No specific name or namespace provided, so request all pods.\",\n",
    "  \"tool_calls\": [\n",
    "    {\n",
    "      \"name\": \"k8s_get\",\n",
    "      \"args\": {\n",
    "        \"resource_type\": \"pods\",\n",
    "        \"namespace\": \"\",\n",
    "        \"all_namespaces\": True\n",
    "      }\n",
    "    }\n",
    "  ]\n",
    "}\"\"\""
   ]
  },
  {
   "cell_type": "code",
   "execution_count": 4,
   "id": "e1ce4dd2",
   "metadata": {},
   "outputs": [
    {
     "name": "stdout",
     "output_type": "stream",
     "text": [
      "🔍 Parsing JSON from text: {\n",
      "  \"thought\": \"User wants to list all pods across all namespaces. Use k8s_get to retrieve resources...\n",
      "📝 Normalized: { \"thought\": \"user wants to list all pods across all namespaces. use k8s_get to retrieve resources o...\n",
      "--- [Editor] Sửa lỗi bằng LLM... ---\n"
     ]
    },
    {
     "name": "stderr",
     "output_type": "stream",
     "text": [
      "2025-08-20 19:24:44,591 - INFO - HTTP Request: POST https://api.openai.com/v1/chat/completions \"HTTP/1.1 200 OK\"\n"
     ]
    },
    {
     "name": "stdout",
     "output_type": "stream",
     "text": [
      "✅ Regex extraction successful: {'thought': \"user wants to list all pods across all namespaces. use k8s_get to retrieve resources of type 'pods' and set all_namespaces to true to cover every namespace. no specific name or namespace provided, so request all pods.\", 'tool_calls': [{'name': 'k8s_get', 'args': {'resource_type': 'pods', 'namespace': '', 'all_namespaces': True}}]}\n"
     ]
    },
    {
     "data": {
      "text/plain": [
       "{'thought': \"user wants to list all pods across all namespaces. use k8s_get to retrieve resources of type 'pods' and set all_namespaces to true to cover every namespace. no specific name or namespace provided, so request all pods.\",\n",
       " 'tool_calls': [{'name': 'k8s_get',\n",
       "   'args': {'resource_type': 'pods',\n",
       "    'namespace': '',\n",
       "    'all_namespaces': True}}]}"
      ]
     },
     "execution_count": 4,
     "metadata": {},
     "output_type": "execute_result"
    }
   ],
   "source": [
    "JSONParser.parse_json_response(ai_content)"
   ]
  }
 ],
 "metadata": {
  "kernelspec": {
   "display_name": "crypto_agent",
   "language": "python",
   "name": "python3"
  },
  "language_info": {
   "codemirror_mode": {
    "name": "ipython",
    "version": 3
   },
   "file_extension": ".py",
   "mimetype": "text/x-python",
   "name": "python",
   "nbconvert_exporter": "python",
   "pygments_lexer": "ipython3",
   "version": "3.12.11"
  }
 },
 "nbformat": 4,
 "nbformat_minor": 5
}
