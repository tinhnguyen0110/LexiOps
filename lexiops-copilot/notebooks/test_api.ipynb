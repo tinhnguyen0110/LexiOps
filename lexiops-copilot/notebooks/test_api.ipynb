{
 "cells": [
  {
   "cell_type": "code",
   "execution_count": null,
   "id": "3b4f99a3",
   "metadata": {},
   "outputs": [],
   "source": []
  },
  {
   "cell_type": "code",
   "execution_count": 10,
   "id": "593f9f92",
   "metadata": {},
   "outputs": [
    {
     "name": "stdout",
     "output_type": "stream",
     "text": [
      "Kết quả truy xuất:\n",
      "{'response': 'Chào bạn! Dưới đây là thông tin về các pod đang chạy trong hệ thống của bạn:\\n\\n- Có một pod tên là \"mcp-k8s-deployment-7b8cd99786-b66l8\" đang hoạt động bình thường, đã sẵn sàng và không gặp sự cố trong khoảng 3 giờ 5 phút.\\n- Tuy nhiên, còn có một pod tên là \"test-pod\" hiện đang gặp vấn đề, đang trong trạng thái \"CrashLoopBackOff\", nghĩa là nó đã gặp lỗi và cố gắng khởi động lại nhiều lần trong khoảng 176 phút gần đây.\\n\\nNếu bạn cần giúp đỡ để xử lý vấn đề của pod \"test-pod\" hoặc muốn biết cách khắc phục, mình sẵn sàng hỗ trợ!', 'status': 'success', 'tool_results': [{'tool_call_id': 'tool_call_1', 'content': 'NAME                                  READY   STATUS             RESTARTS       AGE\\nmcp-k8s-deployment-7b8cd99786-b66l8   1/1     Running            0              3h5m\\ntest-pod                              0/1     CrashLoopBackOff   39 (60s ago)   176m\\n', 'name': 'kubectl'}]}\n"
     ]
    }
   ],
   "source": [
    "import requests\n",
    "\n",
    "url = \"http://localhost:8001/chat\"\n",
    "\n",
    "payload = {\n",
    "    \"message\": \"hãy thấy thông tin các pod đang chạy\",\n",
    "}\n",
    "\n",
    "headers = {\n",
    "    \"Content-Type\": \"application/json\"\n",
    "}\n",
    "\n",
    "response = requests.post(url, json=payload, headers=headers)\n",
    "\n",
    "if response.status_code == 200:\n",
    "    data = response.json()\n",
    "    print(\"Kết quả truy xuất:\")\n",
    "    print(data)\n",
    "else:\n",
    "    print(f\"Lỗi khi gọi API: {response.status_code} - {response.text}\")"
   ]
  },
  {
   "cell_type": "code",
   "execution_count": 3,
   "id": "4f98234b",
   "metadata": {},
   "outputs": [
    {
     "name": "stdout",
     "output_type": "stream",
     "text": [
      "Chào bạn! Bạn muốn biết về luật nghĩa vụ quân sự. Ở Việt Nam, luật nghĩa vụ quân sự quy định về nghĩa vụ của công dân trong việc tham gia bảo vệ tổ quốc, bao gồm việc đăng ký, tuyển quân, và phục vụ trong quân đội. Thời gian thực hiện nghĩa vụ quân sự thường là từ 18 đến 25 tuổi, tùy theo quy định cụ thể của từng thời kỳ và địa phương. Ngoài ra, luật còn quy định các trường hợp được hoãn hoặc miễn tham gia nghĩa vụ quân sự dựa trên các tiêu chuẩn nhất định.\n",
      "\n",
      "Nếu bạn cần thông tin chi tiết hơn hoặc về các quy định mới nhất, tôi sẵn lòng giúp đỡ! Hiện tại, theo thời gian mới nhất là ngày 20 tháng 8 năm 2025, các quy định này vẫn còn hiệu lực và được cập nhật thường xuyên để phù hợp với tình hình thực tế.\n"
     ]
    }
   ],
   "source": [
    "print(data['response'])"
   ]
  },
  {
   "cell_type": "code",
   "execution_count": 11,
   "id": "906400ef",
   "metadata": {},
   "outputs": [
    {
     "data": {
      "text/plain": [
       "[{'tool_call_id': 'tool_call_1',\n",
       "  'content': 'NAME                                  READY   STATUS             RESTARTS       AGE\\nmcp-k8s-deployment-7b8cd99786-b66l8   1/1     Running            0              3h5m\\ntest-pod                              0/1     CrashLoopBackOff   39 (60s ago)   176m\\n',\n",
       "  'name': 'kubectl'}]"
      ]
     },
     "execution_count": 11,
     "metadata": {},
     "output_type": "execute_result"
    }
   ],
   "source": [
    "data['tool_results']"
   ]
  },
  {
   "cell_type": "code",
   "execution_count": null,
   "id": "b0446fe5",
   "metadata": {},
   "outputs": [],
   "source": []
  },
  {
   "cell_type": "markdown",
   "id": "ce20c460",
   "metadata": {},
   "source": [
    "# Test mcp tool k8s"
   ]
  },
  {
   "cell_type": "code",
   "execution_count": null,
   "id": "c3df66d3",
   "metadata": {},
   "outputs": [],
   "source": [
    "import requests\n",
    "import json\n",
    "\n",
    "# URL MCP Server (port host đang map)\n",
    "url = \"http://localhost:9090\"  # thay 8080 nếu bạn map port khác\n",
    "\n",
    "# Example: lấy danh sách tool\n",
    "payload = {\n",
    "    \"jsonrpc\": \"2.0\",\n",
    "    \"id\": 1,\n",
    "    \"method\": \"tools.list\",\n",
    "    \"params\": {}\n",
    "}\n",
    "\n",
    "headers = {\n",
    "    \"Content-Type\": \"application/json\"\n",
    "}\n",
    "\n",
    "response = requests.post(url, headers=headers, data=json.dumps(payload))\n",
    "\n",
    "# In ra kết quả\n",
    "if response.status_code == 200:\n",
    "    print(\"Tools list:\")\n",
    "    print(json.dumps(response.json(), indent=2))\n",
    "else:\n",
    "    print(\"Error:\", response.status_code, response.text)\n"
   ]
  }
 ],
 "metadata": {
  "kernelspec": {
   "display_name": "crypto_agent",
   "language": "python",
   "name": "python3"
  },
  "language_info": {
   "codemirror_mode": {
    "name": "ipython",
    "version": 3
   },
   "file_extension": ".py",
   "mimetype": "text/x-python",
   "name": "python",
   "nbconvert_exporter": "python",
   "pygments_lexer": "ipython3",
   "version": "3.12.11"
  }
 },
 "nbformat": 4,
 "nbformat_minor": 5
}
